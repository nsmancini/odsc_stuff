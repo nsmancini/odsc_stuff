{
  "cells": [
    {
      "cell_type": "markdown",
      "metadata": {
        "id": "view-in-github",
        "colab_type": "text"
      },
      "source": [
        "<a href=\"https://colab.research.google.com/github/nsmancini/odsc_stuff/blob/main/bda_workshop.ipynb\" target=\"_parent\"><img src=\"https://colab.research.google.com/assets/colab-badge.svg\" alt=\"Open In Colab\"/></a>"
      ]
    },
    {
      "cell_type": "markdown",
      "metadata": {
        "id": "NAltb98Jscox"
      },
      "source": [
        "# Bayesian Decision Analysis\n",
        "\n",
        "Allen Downey\n",
        "\n",
        "[Bayesian Decision Analysis](https://allendowney.github.io/BayesianDecisionAnalysis/)"
      ]
    },
    {
      "cell_type": "code",
      "execution_count": 1,
      "metadata": {
        "id": "uqVYKF9wsco2"
      },
      "outputs": [],
      "source": [
        "import numpy as np\n",
        "import pandas as pd\n",
        "import matplotlib.pyplot as plt"
      ]
    },
    {
      "cell_type": "markdown",
      "metadata": {
        "id": "LIxV4QaOsco3"
      },
      "source": [
        "## The Bayesian bandit problem\n",
        "\n",
        "Suppose you have several \"one-armed bandit\" slot machines, and there's reason to think that they have different probabilities of paying off.\n",
        "\n",
        "Each time you play a machine, you either win or lose, and you can use the outcome to update your belief about the probability of winning.\n",
        "\n",
        "Then, to decide which machine to play next, you can use the \"Bayesian bandit\" strategy, explained below.\n",
        "\n",
        "First, let's see how to do the update."
      ]
    },
    {
      "cell_type": "markdown",
      "metadata": {
        "id": "nDKI-EkOsco4"
      },
      "source": [
        "## The prior\n",
        "\n",
        "If we know nothing about the probability of winning, we can start with a uniform prior."
      ]
    },
    {
      "cell_type": "code",
      "execution_count": 6,
      "metadata": {
        "tags": [],
        "id": "I-KEusTFsco4",
        "outputId": "eef158da-0abf-48bb-ad28-a73e85c9f310",
        "colab": {
          "base_uri": "https://localhost:8080/"
        }
      },
      "outputs": [
        {
          "output_type": "execute_result",
          "data": {
            "text/plain": [
              "0    0.009901\n",
              "1    0.009901\n",
              "2    0.009901\n",
              "3    0.009901\n",
              "4    0.009901\n",
              "dtype: float64"
            ]
          },
          "metadata": {},
          "execution_count": 6
        }
      ],
      "source": [
        "xs = np.arange(101)\n",
        "p = 1/len(xs)\n",
        "prior = pd.Series(p, index=xs)\n",
        "prior.head()"
      ]
    },
    {
      "cell_type": "code",
      "execution_count": 6,
      "metadata": {
        "tags": [],
        "id": "3d8wjAWgsco5"
      },
      "outputs": [],
      "source": [
        ""
      ]
    },
    {
      "cell_type": "code",
      "execution_count": 7,
      "metadata": {
        "id": "sAisPWvgsco5"
      },
      "outputs": [],
      "source": [
        "def decorate(title=\"\"):\n",
        "    \"\"\"Labels the axes.\n",
        "\n",
        "    title: string\n",
        "    \"\"\"\n",
        "    plt.xlabel(\"Probability of winning\")\n",
        "    plt.ylabel(\"PMF\")\n",
        "    plt.title(title)"
      ]
    },
    {
      "cell_type": "code",
      "execution_count": 9,
      "metadata": {
        "tags": [],
        "id": "GXviFrCKsco6",
        "outputId": "3e07a413-55e1-4c63-ebe2-635df7b817d7",
        "colab": {
          "base_uri": "https://localhost:8080/",
          "height": 279
        }
      },
      "outputs": [
        {
          "output_type": "display_data",
          "data": {
            "text/plain": [
              "<Figure size 432x288 with 1 Axes>"
            ],
            "image/png": "[encoded data removed]"
          },
          "metadata": {
            "needs_background": "light"
          }
        }
      ],
      "source": [
        "prior.plot()\n",
        "decorate()"
      ]
    },
    {
      "cell_type": "markdown",
      "metadata": {
        "id": "YYOx0BPrsco6"
      },
      "source": [
        "## Bayesian Update\n",
        "\n",
        "Suppose that prior represents what we believe about possible values of `x` before we have any data.\n",
        "Now suppose we play a machine once and win.\n",
        "What should we believe about `x` now?\n",
        "\n",
        "We can answer that question by computing the likelihood of the data, a win, for each value of `x`.\n",
        "If `x` is 50, the probability of winning is 0.5.\n",
        "If `x` is 75, the probability is 0.75.\n",
        "In general, we can compute the probabilities by dividing the values of `x` by 100."
      ]
    },
    {
      "cell_type": "code",
      "execution_count": 10,
      "metadata": {
        "tags": [],
        "id": "L5KOlpoQsco7"
      },
      "outputs": [],
      "source": [
        "likelihood_win = xs/100"
      ]
    },
    {
      "cell_type": "code",
      "execution_count": 11,
      "metadata": {
        "tags": [],
        "id": "6TNAFxezsco7",
        "outputId": "bb31f373-d1f2-45ac-9648-bfffb9c494ee",
        "colab": {
          "base_uri": "https://localhost:8080/"
        }
      },
      "outputs": [
        {
          "output_type": "execute_result",
          "data": {
            "text/plain": [
              "0    0.000000\n",
              "1    0.000099\n",
              "2    0.000198\n",
              "3    0.000297\n",
              "4    0.000396\n",
              "dtype: float64"
            ]
          },
          "metadata": {},
          "execution_count": 11
        }
      ],
      "source": [
        "posterior = prior * likelihood_win\n",
        "posterior.head()"
      ]
    },
    {
      "cell_type": "code",
      "execution_count": 12,
      "metadata": {
        "tags": [],
        "id": "GuPvz0H8sco8",
        "outputId": "a46817ba-178c-4361-d066-fbe2b0eef6bb",
        "colab": {
          "base_uri": "https://localhost:8080/",
          "height": 282
        }
      },
      "outputs": [
        {
          "output_type": "execute_result",
          "data": {
            "text/plain": [
              "<matplotlib.axes._subplots.AxesSubplot at 0x7f4449dcfbd0>"
            ]
          },
          "metadata": {},
          "execution_count": 12
        },
        {
          "output_type": "display_data",
          "data": {
            "text/plain": [
              "<Figure size 432x288 with 1 Axes>"
            ],
            "image/png": "[encoded data removed]"
          },
          "metadata": {
            "needs_background": "light"
          }
        }
      ],
      "source": [
        "posterior/=posterior.sum()\n",
        "posterior.plot()"
      ]
    },
    {
      "cell_type": "code",
      "execution_count": null,
      "metadata": {
        "tags": [],
        "id": "KvzvIhF5sco8"
      },
      "outputs": [],
      "source": [
        ""
      ]
    },
    {
      "cell_type": "code",
      "execution_count": null,
      "metadata": {
        "id": "zkBkl9XIsco8"
      },
      "outputs": [],
      "source": [
        "posterior.plot()\n",
        "decorate(\"Posterior, one win\")"
      ]
    },
    {
      "cell_type": "markdown",
      "metadata": {
        "id": "t6RxD1wJsco9"
      },
      "source": [
        "Suppose we play the same machine and win again. We can do a second update, using the posterior from the first update as the prior for the second."
      ]
    },
    {
      "cell_type": "code",
      "execution_count": 13,
      "metadata": {
        "id": "N20eB7Edsco9",
        "outputId": "e6c374f6-5692-41a2-aa94-7e87f300b9c6",
        "colab": {
          "base_uri": "https://localhost:8080/",
          "height": 295
        }
      },
      "outputs": [
        {
          "output_type": "display_data",
          "data": {
            "text/plain": [
              "<Figure size 432x288 with 1 Axes>"
            ],
            "image/png": "[encoded data removed]"
          },
          "metadata": {
            "needs_background": "light"
          }
        }
      ],
      "source": [
        "posterior2 = posterior * likelihood_win\n",
        "posterior2 /= posterior2.sum()\n",
        "posterior2.plot()\n",
        "decorate(\"Posterior, two wins\")"
      ]
    },
    {
      "cell_type": "markdown",
      "metadata": {
        "id": "FkTXCUTHsco9"
      },
      "source": [
        "And suppose we play one more time and lose. Now we need the likelihood of losing for each value of `x`.\n"
      ]
    },
    {
      "cell_type": "code",
      "execution_count": 14,
      "metadata": {
        "tags": [],
        "id": "FjnVyrVdsco-"
      },
      "outputs": [],
      "source": [
        "likelihood_loss = 1 - xs/100"
      ]
    },
    {
      "cell_type": "markdown",
      "metadata": {
        "id": "AznqeCqRsco-"
      },
      "source": [
        "And here's the update."
      ]
    },
    {
      "cell_type": "code",
      "execution_count": 15,
      "metadata": {
        "id": "FdKPyl_7sco-",
        "outputId": "fe7c9a65-dbe9-43bf-e06f-e369bc37b0e8",
        "colab": {
          "base_uri": "https://localhost:8080/",
          "height": 295
        }
      },
      "outputs": [
        {
          "output_type": "display_data",
          "data": {
            "text/plain": [
              "<Figure size 432x288 with 1 Axes>"
            ],
            "image/png": "[encoded data removed]"
          },
          "metadata": {
            "needs_background": "light"
          }
        }
      ],
      "source": [
        "posterior3 = posterior2 * likelihood_loss\n",
        "posterior3 /= posterior3.sum()\n",
        "posterior3.plot()\n",
        "decorate(\"Posterior, two wins, one loss\")"
      ]
    },
    {
      "cell_type": "markdown",
      "metadata": {
        "id": "3iT6Lfjssco_"
      },
      "source": [
        "## The update function\n",
        "\n",
        "The following function takes as parameters a Pandas Series that represents the prior distribution and a string that represents the data: either `W` if we won or `L` if we lost."
      ]
    },
    {
      "cell_type": "code",
      "execution_count": 16,
      "metadata": {
        "id": "viPRPjThsco_"
      },
      "outputs": [],
      "source": [
        "def update(pmf, data):\n",
        "    \"\"\"Likelihood function for Bayesian bandit\n",
        "\n",
        "    pmf: Series that maps hypotheses to probabilities\n",
        "    data: string, either 'W' or 'L'\n",
        "    \"\"\"\n",
        "    if data == \"W\":\n",
        "        likelihood = likelihood_win\n",
        "    else:\n",
        "        likelihood = likelihood_loss\n",
        "\n",
        "    pmf *= likelihood\n",
        "    pmf /= pmf.sum()"
      ]
    },
    {
      "cell_type": "markdown",
      "metadata": {
        "id": "g_gytmvesco_"
      },
      "source": [
        "It uses the quantities in the index to compute the likelihood of the data, then updates `pmf` by multiplying by the likelihood and dividing through by the probability of the data."
      ]
    },
    {
      "cell_type": "code",
      "execution_count": 17,
      "metadata": {
        "tags": [],
        "id": "S89NIZIMsco_",
        "outputId": "abfba517-c6a7-4982-c9ac-5e629382f3f7",
        "colab": {
          "base_uri": "https://localhost:8080/",
          "height": 282
        }
      },
      "outputs": [
        {
          "output_type": "execute_result",
          "data": {
            "text/plain": [
              "<matplotlib.axes._subplots.AxesSubplot at 0x7f4449cbe550>"
            ]
          },
          "metadata": {},
          "execution_count": 17
        },
        {
          "output_type": "display_data",
          "data": {
            "text/plain": [
              "<Figure size 432x288 with 1 Axes>"
            ],
            "image/png": "[encoded data removed]"
          },
          "metadata": {
            "needs_background": "light"
          }
        }
      ],
      "source": [
        "pmf = prior.copy()\n",
        "update(pmf,'W')\n",
        "pmf.plot()"
      ]
    },
    {
      "cell_type": "markdown",
      "metadata": {
        "id": "vNwrw3k-scpA"
      },
      "source": [
        "### Exercise\n",
        "\n",
        "Suppose you play a machine 10 times and win once.  What is the posterior distribution of $x$?"
      ]
    },
    {
      "cell_type": "code",
      "execution_count": 25,
      "metadata": {
        "id": "RlFrmeRSscpA",
        "outputId": "3738ce69-89ce-4d86-d847-d8242ceb8783",
        "colab": {
          "base_uri": "https://localhost:8080/",
          "height": 282
        }
      },
      "outputs": [
        {
          "output_type": "execute_result",
          "data": {
            "text/plain": [
              "<matplotlib.axes._subplots.AxesSubplot at 0x7f4449c79ad0>"
            ]
          },
          "metadata": {},
          "execution_count": 25
        },
        {
          "output_type": "display_data",
          "data": {
            "text/plain": [
              "<Figure size 432x288 with 1 Axes>"
            ],
            "image/png": "[encoded data removed]"
          },
          "metadata": {
            "needs_background": "light"
          }
        }
      ],
      "source": [
        "pmf = prior.copy()\n",
        "for i in range(0,10):\n",
        "  if i == 2:\n",
        "    update(pmf,'W')\n",
        "  update(pmf,'L')\n",
        "pmf.plot()"
      ]
    },
    {
      "cell_type": "markdown",
      "metadata": {
        "id": "XuT6u2UkscpA"
      },
      "source": [
        "## Multiple bandits\n",
        "\n",
        "Now suppose we have several bandits and we want to decide which one to play.\n",
        "\n",
        "For this example, suppose we have 4 machines with these probabilities:"
      ]
    },
    {
      "cell_type": "code",
      "execution_count": 27,
      "metadata": {
        "id": "lbj5c-8mscpA"
      },
      "outputs": [],
      "source": [
        "actual_probs = [0.0, 0.1, 0.2, 0.3]"
      ]
    },
    {
      "cell_type": "markdown",
      "metadata": {
        "id": "ibbm59acscpA"
      },
      "source": [
        "For purposes of the example, we should assume that we do not know these probabilities.\n",
        "\n",
        "The function `play` simulates playing one machine once and returns `W` or `L`."
      ]
    },
    {
      "cell_type": "code",
      "execution_count": 28,
      "metadata": {
        "id": "nWXF73gtscpB"
      },
      "outputs": [],
      "source": [
        "from random import random\n",
        "\n",
        "\n",
        "def flip(p):\n",
        "    \"\"\"Return True with probability p.\"\"\"\n",
        "    return random() < p"
      ]
    },
    {
      "cell_type": "code",
      "execution_count": 29,
      "metadata": {
        "id": "1Fi2yOSuscpB"
      },
      "outputs": [],
      "source": [
        "from collections import Counter\n",
        "\n",
        "# count how many times we've played each machine\n",
        "counter = Counter()\n",
        "\n",
        "\n",
        "def play(i):\n",
        "    \"\"\"Play machine i.\n",
        "\n",
        "    returns: string 'W' or 'L'\n",
        "    \"\"\"\n",
        "    counter[i] += 1\n",
        "    p = actual_probs[i]\n",
        "    if flip(p):\n",
        "        return \"W\"\n",
        "    else:\n",
        "        return \"L\""
      ]
    },
    {
      "cell_type": "markdown",
      "metadata": {
        "id": "HihCczZdscpB"
      },
      "source": [
        "Here's a test, playing machine 3 ten times:"
      ]
    },
    {
      "cell_type": "code",
      "execution_count": 30,
      "metadata": {
        "id": "U47JOpmhscpB",
        "outputId": "ac6b25c1-c04e-4a87-8d0b-6fc57c7f27b5",
        "colab": {
          "base_uri": "https://localhost:8080/"
        }
      },
      "outputs": [
        {
          "output_type": "stream",
          "name": "stdout",
          "text": [
            "W W W W L L L L W W "
          ]
        }
      ],
      "source": [
        "for i in range(10):\n",
        "    outcome = play(3)\n",
        "    print(outcome, end=\" \")"
      ]
    },
    {
      "cell_type": "markdown",
      "metadata": {
        "id": "vHzWpLiwscpC"
      },
      "source": [
        "Now I'll make four copies of the prior to represent our beliefs about the four machines."
      ]
    },
    {
      "cell_type": "code",
      "execution_count": 36,
      "metadata": {
        "tags": [],
        "id": "wJPazN5sscpC",
        "outputId": "6ced1dd4-7558-4509-b6e8-ad8c4c3e774d",
        "colab": {
          "base_uri": "https://localhost:8080/"
        }
      },
      "outputs": [
        {
          "output_type": "execute_result",
          "data": {
            "text/plain": [
              "[0      0.009901\n",
              " 1      0.009901\n",
              " 2      0.009901\n",
              " 3      0.009901\n",
              " 4      0.009901\n",
              "          ...   \n",
              " 96     0.009901\n",
              " 97     0.009901\n",
              " 98     0.009901\n",
              " 99     0.009901\n",
              " 100    0.009901\n",
              " Length: 101, dtype: float64, 0      0.009901\n",
              " 1      0.009901\n",
              " 2      0.009901\n",
              " 3      0.009901\n",
              " 4      0.009901\n",
              "          ...   \n",
              " 96     0.009901\n",
              " 97     0.009901\n",
              " 98     0.009901\n",
              " 99     0.009901\n",
              " 100    0.009901\n",
              " Length: 101, dtype: float64, 0      0.009901\n",
              " 1      0.009901\n",
              " 2      0.009901\n",
              " 3      0.009901\n",
              " 4      0.009901\n",
              "          ...   \n",
              " 96     0.009901\n",
              " 97     0.009901\n",
              " 98     0.009901\n",
              " 99     0.009901\n",
              " 100    0.009901\n",
              " Length: 101, dtype: float64, 0      0.009901\n",
              " 1      0.009901\n",
              " 2      0.009901\n",
              " 3      0.009901\n",
              " 4      0.009901\n",
              "          ...   \n",
              " 96     0.009901\n",
              " 97     0.009901\n",
              " 98     0.009901\n",
              " 99     0.009901\n",
              " 100    0.009901\n",
              " Length: 101, dtype: float64]"
            ]
          },
          "metadata": {},
          "execution_count": 36
        }
      ],
      "source": [
        "beliefs = [prior.copy() for i in range(4)]\n",
        "beliefs"
      ]
    },
    {
      "cell_type": "markdown",
      "metadata": {
        "id": "5elkojUQscpC"
      },
      "source": [
        "This function displays four distributions in a grid."
      ]
    },
    {
      "cell_type": "code",
      "execution_count": 32,
      "metadata": {
        "id": "gxwrjSicscpC"
      },
      "outputs": [],
      "source": [
        "def plot(beliefs, **options):\n",
        "    for i, b in enumerate(beliefs):\n",
        "        plt.subplot(2, 2, i + 1)\n",
        "        b.plot(label=\"Machine %s\" % i)\n",
        "        plt.gca().set_yticklabels([])\n",
        "        plt.legend()\n",
        "\n",
        "    plt.tight_layout()"
      ]
    },
    {
      "cell_type": "code",
      "execution_count": 37,
      "metadata": {
        "scrolled": true,
        "id": "ZLDeJ0dVscpC",
        "outputId": "dd247ce3-b5b9-4b53-be08-258ef904eecc",
        "colab": {
          "base_uri": "https://localhost:8080/",
          "height": 297
        }
      },
      "outputs": [
        {
          "output_type": "display_data",
          "data": {
            "text/plain": [
              "<Figure size 432x288 with 4 Axes>"
            ],
            "image/png": "[encoded data removed]"
          },
          "metadata": {
            "needs_background": "light"
          }
        }
      ],
      "source": [
        "plot(beliefs)"
      ]
    },
    {
      "cell_type": "markdown",
      "metadata": {
        "id": "JAcST8DPscpC"
      },
      "source": [
        "As an example, let's play each machine 10 times, then plot the posterior distributions.  "
      ]
    },
    {
      "cell_type": "code",
      "execution_count": 38,
      "metadata": {
        "tags": [],
        "id": "LZ2vMUINscpD"
      },
      "outputs": [],
      "source": [
        "for i in range(4):\n",
        "  for _ in range(10):\n",
        "    outcome = play(i)\n",
        "    update(beliefs[i], outcome)"
      ]
    },
    {
      "cell_type": "code",
      "execution_count": 39,
      "metadata": {
        "id": "lY59SsJjscpD",
        "outputId": "3819a113-5823-44aa-b3e7-e9d328f689b1",
        "colab": {
          "base_uri": "https://localhost:8080/",
          "height": 297
        }
      },
      "outputs": [
        {
          "output_type": "display_data",
          "data": {
            "text/plain": [
              "<Figure size 432x288 with 4 Axes>"
            ],
            "image/png": "[encoded data removed]"
          },
          "metadata": {
            "needs_background": "light"
          }
        }
      ],
      "source": [
        "plot(beliefs)"
      ]
    },
    {
      "cell_type": "markdown",
      "metadata": {
        "id": "d0jX8UF-scpD"
      },
      "source": [
        "## Bayesian Bandits\n",
        "\n",
        "To get more information, we could play each machine 100 times, but while we are gathering data, we are not making good use of it.  The kernel of the Bayesian Bandits algorithm is that it collects and uses data at the same time.  In other words, it balances exploration and exploitation.\n",
        "\n",
        "To do that, it draws a random value from each distribution and chooses the the machine that generates the largest value.\n",
        "\n",
        "The following function takes a PMF and chooses a random value from it, using the probabilities as weights."
      ]
    },
    {
      "cell_type": "code",
      "execution_count": 40,
      "metadata": {
        "id": "45XuW3VWscpD"
      },
      "outputs": [],
      "source": [
        "def pmf_choice(pmf):\n",
        "    \"\"\"Draw a random sample from a PMF.\n",
        "\n",
        "    pmf: Series representing a PMF\n",
        "\n",
        "    returns: quantity from PMF\n",
        "    \"\"\"\n",
        "    return np.random.choice(a=pmf.index, p=pmf.values)"
      ]
    },
    {
      "cell_type": "markdown",
      "metadata": {
        "id": "fePds18rscpE"
      },
      "source": [
        "Here's an example."
      ]
    },
    {
      "cell_type": "code",
      "execution_count": 41,
      "metadata": {
        "id": "nwLaJbE4scpE",
        "outputId": "e58da27d-c9d4-46f3-b509-887c6afad3f9",
        "colab": {
          "base_uri": "https://localhost:8080/"
        }
      },
      "outputs": [
        {
          "output_type": "execute_result",
          "data": {
            "text/plain": [
              "7"
            ]
          },
          "metadata": {},
          "execution_count": 41
        }
      ],
      "source": [
        "pmf_choice(beliefs[0])"
      ]
    },
    {
      "cell_type": "markdown",
      "metadata": {
        "id": "FL5JvXo6scpE"
      },
      "source": [
        "The following function uses `pmf_choice` to choose one value from the posterior distribution of each machine and then uses `argmax` to find the index of the machine that chose the highest value."
      ]
    },
    {
      "cell_type": "code",
      "execution_count": 42,
      "metadata": {
        "id": "ievYPe1DscpE"
      },
      "outputs": [],
      "source": [
        "def choose(beliefs):\n",
        "    \"\"\"Use the Bayesian bandit strategy to choose a machine.\n",
        "\n",
        "    Draws a sample from each distribution.\n",
        "\n",
        "    returns: index of the machine that yielded the highest value\n",
        "    \"\"\"\n",
        "    ps = [pmf_choice(b) for b in beliefs]\n",
        "    return np.argmax(ps)"
      ]
    },
    {
      "cell_type": "markdown",
      "metadata": {
        "id": "MIGp1dapscpF"
      },
      "source": [
        "Here's an example."
      ]
    },
    {
      "cell_type": "code",
      "execution_count": 58,
      "metadata": {
        "id": "U8P2Cp0escpF",
        "outputId": "fabff11c-f664-4c6f-babc-f658d23831e8",
        "colab": {
          "base_uri": "https://localhost:8080/"
        }
      },
      "outputs": [
        {
          "output_type": "execute_result",
          "data": {
            "text/plain": [
              "3"
            ]
          },
          "metadata": {},
          "execution_count": 58
        }
      ],
      "source": [
        "choose(beliefs)"
      ]
    },
    {
      "cell_type": "markdown",
      "metadata": {
        "id": "HglSojYxscpF"
      },
      "source": [
        "`choose` has the property that the probability of choosing each machine is equal to its \"probability of superiority\"."
      ]
    },
    {
      "cell_type": "markdown",
      "metadata": {
        "id": "92Ghs_Z4scpF"
      },
      "source": [
        "**Exercise 3:** Putting it all together, fill in the following function to choose a machine, play once, and update `beliefs`:"
      ]
    },
    {
      "cell_type": "code",
      "execution_count": 61,
      "metadata": {
        "id": "8004hxusscpG"
      },
      "outputs": [],
      "source": [
        "def choose_play_update(beliefs, verbose=False):\n",
        "    \"\"\"Chose a machine, play it, and update beliefs.\n",
        "\n",
        "    beliefs: list of Pmf objects\n",
        "    verbose: Boolean, whether to print results\n",
        "    \"\"\"\n",
        "    # choose a machine\n",
        "    machine = choose(beliefs)\n",
        "\n",
        "    # play it\n",
        "    outcome = play(machine)\n",
        "\n",
        "    # update beliefs\n",
        "    update(beliefs[machine],outcome)\n",
        "\n",
        "    if verbose:\n",
        "        print(machine, outcome)"
      ]
    },
    {
      "cell_type": "code",
      "execution_count": null,
      "metadata": {
        "id": "8TsLWt-hscpG"
      },
      "outputs": [],
      "source": [
        ""
      ]
    },
    {
      "cell_type": "markdown",
      "metadata": {
        "id": "Sxnj4cnwscpG"
      },
      "source": [
        "Here's an example:"
      ]
    },
    {
      "cell_type": "code",
      "execution_count": 75,
      "metadata": {
        "id": "0tRAHXnLscpG",
        "outputId": "2aaf8d29-0125-403c-c42c-064c518a9aa7",
        "colab": {
          "base_uri": "https://localhost:8080/"
        }
      },
      "outputs": [
        {
          "output_type": "stream",
          "name": "stdout",
          "text": [
            "3 L\n"
          ]
        }
      ],
      "source": [
        "choose_play_update(beliefs, verbose=True)"
      ]
    },
    {
      "cell_type": "code",
      "source": [
        "counter"
      ],
      "metadata": {
        "id": "AM-gE6iC0vHA",
        "outputId": "497ef48c-84bc-4767-e265-62e5ccb1961c",
        "colab": {
          "base_uri": "https://localhost:8080/"
        }
      },
      "execution_count": 76,
      "outputs": [
        {
          "output_type": "execute_result",
          "data": {
            "text/plain": [
              "Counter({0: 20, 1: 20, 2: 22, 3: 42})"
            ]
          },
          "metadata": {},
          "execution_count": 76
        }
      ]
    },
    {
      "cell_type": "markdown",
      "metadata": {
        "id": "HQFfyH92scpG"
      },
      "source": [
        "## Trying it out\n",
        "\n",
        "Let's start again with a fresh set of machines and an empty `Counter`."
      ]
    },
    {
      "cell_type": "code",
      "execution_count": 79,
      "metadata": {
        "id": "xUX40yZ8scpH"
      },
      "outputs": [],
      "source": [
        "beliefs = [prior.copy() for i in range(4)]\n",
        "counter = Counter()"
      ]
    },
    {
      "cell_type": "markdown",
      "metadata": {
        "id": "AvqBwIuOscpH"
      },
      "source": [
        "If we run the bandit algorithm 100 times, we can see how `beliefs` gets updated:"
      ]
    },
    {
      "cell_type": "code",
      "execution_count": 93,
      "metadata": {
        "id": "MxTgls5-scpH",
        "outputId": "230c4b7d-fdc6-440f-c536-3a3b8ff9d8aa",
        "colab": {
          "base_uri": "https://localhost:8080/",
          "height": 297
        }
      },
      "outputs": [
        {
          "output_type": "display_data",
          "data": {
            "text/plain": [
              "<Figure size 432x288 with 4 Axes>"
            ],
            "image/png": "[encoded data removed]"
          },
          "metadata": {
            "needs_background": "light"
          }
        }
      ],
      "source": [
        "num_plays = 10000\n",
        "\n",
        "for i in range(num_plays):\n",
        "    choose_play_update(beliefs)\n",
        "\n",
        "plot(beliefs)"
      ]
    },
    {
      "cell_type": "markdown",
      "metadata": {
        "id": "aQTKgaNCscpH"
      },
      "source": [
        "The estimates are still rough, especially for the lower-probability machines.  But that's a feature, not a bug: the goal is to play the high-probability machines most often.  Making the estimates more precise is a means to that end, but not an end itself.\n",
        "\n",
        "Let's see how many times each machine got played.  If things go according to plan, the machines with higher probabilities should get played more often."
      ]
    },
    {
      "cell_type": "code",
      "execution_count": 94,
      "metadata": {
        "id": "TstRBXDtscpH",
        "outputId": "33ca9db8-2c58-49f0-b248-66159272da01",
        "colab": {
          "base_uri": "https://localhost:8080/"
        }
      },
      "outputs": [
        {
          "output_type": "stream",
          "name": "stdout",
          "text": [
            "0 25\n",
            "1 39\n",
            "2 116\n",
            "3 25220\n"
          ]
        }
      ],
      "source": [
        "for machine, count in sorted(counter.items()):\n",
        "    print(machine, count)"
      ]
    },
    {
      "cell_type": "markdown",
      "metadata": {
        "collapsed": true,
        "id": "wXqCkuzTscpH"
      },
      "source": [
        "**Exercise 4:**  Go back and run this section again with a different value of `num_play` and see how it does."
      ]
    },
    {
      "cell_type": "markdown",
      "metadata": {
        "id": "FGNMQ9VPscpH"
      },
      "source": [
        "## Summary\n",
        "\n",
        "The algorithm I presented in this notebook is called [Thompson sampling](https://en.wikipedia.org/wiki/Thompson_sampling).  It is an example of a general strategy called [Bayesian decision theory](https://wiki.lesswrong.com/wiki/Bayesian_decision_theory), which is the idea of using a posterior distribution as part of a decision-making process, usually by choosing an action that minimizes the costs we expect on average (or maximizes a benefit).\n",
        "\n",
        "In my opinion, this strategy is the biggest advantage of Bayesian methods over classical statistics.  When we represent knowledge in the form of probability distributions, Bayes's theorem tells us how to change our beliefs as we get more data, and Bayesian decision theory tells us how to make that knowledge actionable."
      ]
    },
    {
      "cell_type": "markdown",
      "metadata": {
        "id": "MoOh69_uscpI"
      },
      "source": [
        "Copyright 2022 Allen B. Downey\n",
        "\n",
        "License: [Attribution-NonCommercial-ShareAlike 4.0 International (CC BY-NC-SA 4.0)](https://creativecommons.org/licenses/by-nc-sa/4.0/)"
      ]
    },
    {
      "cell_type": "code",
      "execution_count": null,
      "metadata": {
        "id": "CINZtqKcscpI"
      },
      "outputs": [],
      "source": [
        ""
      ]
    }
  ],
  "metadata": {
    "celltoolbar": "Tags",
    "kernelspec": {
      "display_name": "Python 3 (ipykernel)",
      "language": "python",
      "name": "python3"
    },
    "language_info": {
      "codemirror_mode": {
        "name": "ipython",
        "version": 3
      },
      "file_extension": ".py",
      "mimetype": "text/x-python",
      "name": "python",
      "nbconvert_exporter": "python",
      "pygments_lexer": "ipython3",
      "version": "3.10.4"
    },
    "colab": {
      "name": "bda_workshop.ipynb",
      "provenance": [],
      "include_colab_link": true
    }
  },
  "nbformat": 4,
  "nbformat_minor": 0
}