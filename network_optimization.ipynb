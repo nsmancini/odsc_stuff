{
  "cells": [
    {
      "cell_type": "markdown",
      "metadata": {
        "id": "view-in-github",
        "colab_type": "text"
      },
      "source": [
        "<a href=\"https://colab.research.google.com/github/nsmancini/odsc_stuff/blob/main/network_optimization.ipynb\" target=\"_parent\"><img src=\"https://colab.research.google.com/assets/colab-badge.svg\" alt=\"Open In Colab\"/></a>"
      ]
    },
    {
      "cell_type": "markdown",
      "id": "bd51c5cb",
      "metadata": {
        "id": "bd51c5cb"
      },
      "source": [
        "# Install Required Packages\n",
        "Note that `plotly` is only used for plotting the map. If you don't want to install it, simply comment `pip install plotly` and make sure not to run the sections that plot the input or output maps."
      ]
    },
    {
      "cell_type": "code",
      "execution_count": 1,
      "id": "68dcca53",
      "metadata": {
        "ExecuteTime": {
          "end_time": "2022-04-12T16:00:51.536769Z",
          "start_time": "2022-04-12T16:00:49.449604Z"
        },
        "id": "68dcca53",
        "outputId": "986e381d-36b4-4eaf-87ca-6fc32109b666",
        "colab": {
          "base_uri": "https://localhost:8080/"
        }
      },
      "outputs": [
        {
          "output_type": "stream",
          "name": "stdout",
          "text": [
            "Collecting gurobipy\n",
            "  Downloading gurobipy-9.5.1-cp37-cp37m-manylinux2014_x86_64.whl (11.5 MB)\n",
            "\u001b[K     |████████████████████████████████| 11.5 MB 6.7 MB/s \n",
            "\u001b[?25hInstalling collected packages: gurobipy\n",
            "Successfully installed gurobipy-9.5.1\n",
            "Requirement already satisfied: pandas in /usr/local/lib/python3.7/dist-packages (1.3.5)\n",
            "Requirement already satisfied: numpy>=1.17.3 in /usr/local/lib/python3.7/dist-packages (from pandas) (1.21.6)\n",
            "Requirement already satisfied: pytz>=2017.3 in /usr/local/lib/python3.7/dist-packages (from pandas) (2022.1)\n",
            "Requirement already satisfied: python-dateutil>=2.7.3 in /usr/local/lib/python3.7/dist-packages (from pandas) (2.8.2)\n",
            "Requirement already satisfied: six>=1.5 in /usr/local/lib/python3.7/dist-packages (from python-dateutil>=2.7.3->pandas) (1.15.0)\n",
            "Requirement already satisfied: openpyxl in /usr/local/lib/python3.7/dist-packages (3.0.9)\n",
            "Requirement already satisfied: et-xmlfile in /usr/local/lib/python3.7/dist-packages (from openpyxl) (1.1.0)\n",
            "Requirement already satisfied: plotly in /usr/local/lib/python3.7/dist-packages (5.5.0)\n",
            "Requirement already satisfied: tenacity>=6.2.0 in /usr/local/lib/python3.7/dist-packages (from plotly) (8.0.1)\n",
            "Requirement already satisfied: six in /usr/local/lib/python3.7/dist-packages (from plotly) (1.15.0)\n"
          ]
        }
      ],
      "source": [
        "%pip install gurobipy\n",
        "%pip install pandas\n",
        "%pip install openpyxl\n",
        "%pip install plotly"
      ]
    },
    {
      "cell_type": "markdown",
      "id": "4a350b32",
      "metadata": {
        "id": "4a350b32"
      },
      "source": [
        "# For Google Colab Only\n",
        "If you like to run the notebook in Google Colab, follow these steps:\n",
        "- Go to https://colab.research.google.com/github/decision-spot/net_opt/blob/main/network_optimization.ipynb\n",
        "This should open up the notebook in Google Colab. Since there are helper modules in this repo and they are used in the main file, you should have access to all of them or you'll get `ImportError` when trying to import them. \n",
        "- To get all the files, run the following cells to clone to repo and change the current working directory path."
      ]
    },
    {
      "cell_type": "code",
      "execution_count": 2,
      "id": "aa3e4360",
      "metadata": {
        "id": "aa3e4360",
        "outputId": "3cc638a9-e866-41f3-e6ef-8d4c922c8a93",
        "colab": {
          "base_uri": "https://localhost:8080/"
        }
      },
      "outputs": [
        {
          "output_type": "stream",
          "name": "stdout",
          "text": [
            "Cloning into 'net_opt'...\n",
            "remote: Enumerating objects: 46, done.\u001b[K\n",
            "remote: Counting objects: 100% (46/46), done.\u001b[K\n",
            "remote: Compressing objects: 100% (31/31), done.\u001b[K\n",
            "remote: Total 46 (delta 22), reused 37 (delta 15), pack-reused 0\u001b[K\n",
            "Unpacking objects: 100% (46/46), done.\n"
          ]
        }
      ],
      "source": [
        "!git clone https://github.com/decision-spot/net_opt.git"
      ]
    },
    {
      "cell_type": "code",
      "execution_count": 3,
      "id": "73c22639",
      "metadata": {
        "id": "73c22639"
      },
      "outputs": [],
      "source": [
        "import os\n",
        "from google.colab import files\n",
        "os.chdir('net_opt')"
      ]
    },
    {
      "cell_type": "markdown",
      "id": "2036cec4",
      "metadata": {
        "id": "2036cec4"
      },
      "source": [
        "# Load Packages"
      ]
    },
    {
      "cell_type": "code",
      "execution_count": 4,
      "id": "asian-irish",
      "metadata": {
        "ExecuteTime": {
          "end_time": "2022-04-15T04:23:28.628677Z",
          "start_time": "2022-04-15T04:23:28.106614Z"
        },
        "id": "asian-irish"
      },
      "outputs": [],
      "source": [
        "\"\"\"\n",
        "Author = Ehsan Khodabandeh\n",
        "Copyright 2022, Decision Spot, LLC\n",
        "\n",
        "Having a set of plants and customers, decide where to open some warehouses and \n",
        "assign customers to warehouses considering a limit on the number of warehouses to open.\n",
        "Plant locations are used as warehouse locations candidates.\n",
        "Some plant locations must be used and some cannot be used.\n",
        "The solution is driven by weighted distance or transportation cost.\n",
        "\"\"\"\n",
        "import sys\n",
        "\n",
        "import pandas as pd\n",
        "import gurobipy as gp\n",
        "from gurobipy import GRB\n",
        "\n",
        "from plots import plot_network\n",
        "from utils import calculate_distance_haversine, prepare_location_dataframe"
      ]
    },
    {
      "cell_type": "markdown",
      "id": "e7fcf3e5",
      "metadata": {
        "id": "e7fcf3e5"
      },
      "source": [
        "# Problem Definition"
      ]
    },
    {
      "cell_type": "markdown",
      "id": "00b30001",
      "metadata": {
        "id": "00b30001"
      },
      "source": [
        "- We have a set of customers and a set of candidate locations for warehouses\n",
        "- We need to satisfy all customers' demands\n",
        "- We can assign each customer to only one warehouse\n",
        "- We can only use certain number of warehouses\n",
        "- It's best to assign customers to warehouses that are closer to them. That way we minimize our transportation time and cost."
      ]
    },
    {
      "cell_type": "markdown",
      "id": "56c4a880",
      "metadata": {
        "id": "56c4a880"
      },
      "source": [
        "## Problem Formulation"
      ]
    },
    {
      "cell_type": "markdown",
      "id": "c8fd985f",
      "metadata": {
        "id": "c8fd985f"
      },
      "source": [
        "**Sets**\n",
        "- $I\\quad$: Set of warehouses\n",
        "- $J\\quad$: Set of customers\n",
        "\n",
        "**Parameters**\n",
        "- $q_j\\quad$: demand of customer $j$\n",
        "- $d_{ij}\\quad$: distance between warehouse $i$ and customer $j$\n",
        "- $c_{ij}\\quad$: transportation cost between warehouse $i$ and customer $j$\n",
        "- $P\\quad$: maximum number of warehouses that can be used\n",
        "\n",
        "**Variables**\n",
        "- $x_i\\quad$: 1 if a warehouse is opened at location $i$, 0 otherwise\n",
        "- $y_{ij}\\quad$: 1 if warehouse $i$ is assigned to customer $j$, 0 otherwise"
      ]
    },
    {
      "cell_type": "markdown",
      "id": "99885b32",
      "metadata": {
        "ExecuteTime": {
          "end_time": "2022-04-02T17:03:54.106168Z",
          "start_time": "2022-04-02T17:03:54.087684Z"
        },
        "id": "99885b32"
      },
      "source": [
        "\\begin{align}\n",
        "&\\min &\\sum_{ij} q_{j}d_{ij}y_{ij}&\\\\\n",
        "&\\mbox{s.t: }\n",
        "&\\sum_{i} y_{ij} = 1 &\\quad \\forall j \\in J\\\\\n",
        "&&\\sum_{i} x_{i} \\le P&\\\\\n",
        "&&y_{ij} \\le x_{i} &\\quad \\forall i \\in I, j \\in J\\\\\n",
        "&&x_{i}, y_{ij} \\in \\{0,1\\}&\\quad \\forall i \\in I, j \\in J\\\\\n",
        "\\end{align}"
      ]
    },
    {
      "cell_type": "markdown",
      "id": "vital-vegetation",
      "metadata": {
        "id": "vital-vegetation"
      },
      "source": [
        "# Load Input Data"
      ]
    },
    {
      "cell_type": "code",
      "execution_count": 5,
      "id": "e00bcdc8",
      "metadata": {
        "ExecuteTime": {
          "end_time": "2022-04-15T04:23:31.917269Z",
          "start_time": "2022-04-15T04:23:31.889688Z"
        },
        "id": "e00bcdc8"
      },
      "outputs": [],
      "source": [
        "def prep_data(file_name):\n",
        "    input_df_dict = pd.read_excel(file_name, sheet_name=None)\n",
        "    cust_df = input_df_dict['Customers']\n",
        "    plant_df = input_df_dict['Plants']\n",
        "    cust_df.rename(columns={'ID': 'Customer ID', 'Name': 'Customer Name'}, inplace=True)\n",
        "    plant_df.rename(columns={'ID': 'Plant ID', 'Name': 'Plant Name'}, inplace=True)\n",
        "    return plant_df, cust_df"
      ]
    },
    {
      "cell_type": "markdown",
      "id": "cc3c1773",
      "metadata": {
        "id": "cc3c1773"
      },
      "source": [
        "### Note:\n",
        "If you don't have a gurobi license, change the `file_name` parameter to `'Small Sample Data.xlsx'` to ensure that you can run the notebook with the gurobi restricted license. Note that you still need to install the required packages."
      ]
    },
    {
      "cell_type": "code",
      "execution_count": 6,
      "id": "52e29205",
      "metadata": {
        "ExecuteTime": {
          "end_time": "2022-04-15T04:23:34.545912Z",
          "start_time": "2022-04-15T04:23:34.257895Z"
        },
        "id": "52e29205"
      },
      "outputs": [],
      "source": [
        "# Params\n",
        "max_plants = 3  # P or max number of warehouses to open\n",
        "cost_per_mile = 2  # It is used when transportation cost needs to be calculated\n",
        "min_cost = 450  # It is used when transportation cost needs to be calculated\n",
        "open_map_in_cell = True  # This is for Jupyter Notebook\n",
        "file_name = 'Small Sample Data.xlsx'  # Two choices: 'Sample Data.xlsx' and 'Small Sample Data.xlsx'\n",
        "plant_df, cust_df = prep_data(file_name)"
      ]
    },
    {
      "cell_type": "code",
      "execution_count": 7,
      "id": "4c644b75",
      "metadata": {
        "ExecuteTime": {
          "end_time": "2022-04-15T04:23:35.655445Z",
          "start_time": "2022-04-15T04:23:35.617369Z"
        },
        "id": "4c644b75",
        "outputId": "dc791331-dd14-4bea-da88-1515e762b5ac",
        "colab": {
          "base_uri": "https://localhost:8080/",
          "height": 206
        }
      },
      "outputs": [
        {
          "output_type": "execute_result",
          "data": {
            "text/plain": [
              "   Plant ID            Plant Name            City State  Zip Code Country  \\\n",
              "0         1  Salt Lake City Plant  Salt Lake City    UT     84101      US   \n",
              "1         2   Oklahoma City Plant   Oklahoma City    OK     73101      US   \n",
              "2         3         Jackson Plant         Jackson    MS     39201      US   \n",
              "3         4          Denver Plant          Denver    CO     80201      US   \n",
              "4         5       St. Louis Plant       St. Louis    MO     63101      US   \n",
              "\n",
              "    Latitude   Longitude  \n",
              "0  40.755074 -111.898490  \n",
              "1  35.467763  -97.520977  \n",
              "2  32.289153  -90.184021  \n",
              "3  39.750710 -104.996225  \n",
              "4  38.631358  -90.192246  "
            ],
            "text/html": [
              "\n",
              "  <div id=\"df-4b74d61c-07a3-44a4-abcc-ae9fc3416e11\">\n",
              "    <div class=\"colab-df-container\">\n",
              "      <div>\n",
              "<style scoped>\n",
              "    .dataframe tbody tr th:only-of-type {\n",
              "        vertical-align: middle;\n",
              "    }\n",
              "\n",
              "    .dataframe tbody tr th {\n",
              "        vertical-align: top;\n",
              "    }\n",
              "\n",
              "    .dataframe thead th {\n",
              "        text-align: right;\n",
              "    }\n",
              "</style>\n",
              "<table border=\"1\" class=\"dataframe\">\n",
              "  <thead>\n",
              "    <tr style=\"text-align: right;\">\n",
              "      <th></th>\n",
              "      <th>Plant ID</th>\n",
              "      <th>Plant Name</th>\n",
              "      <th>City</th>\n",
              "      <th>State</th>\n",
              "      <th>Zip Code</th>\n",
              "      <th>Country</th>\n",
              "      <th>Latitude</th>\n",
              "      <th>Longitude</th>\n",
              "    </tr>\n",
              "  </thead>\n",
              "  <tbody>\n",
              "    <tr>\n",
              "      <th>0</th>\n",
              "      <td>1</td>\n",
              "      <td>Salt Lake City Plant</td>\n",
              "      <td>Salt Lake City</td>\n",
              "      <td>UT</td>\n",
              "      <td>84101</td>\n",
              "      <td>US</td>\n",
              "      <td>40.755074</td>\n",
              "      <td>-111.898490</td>\n",
              "    </tr>\n",
              "    <tr>\n",
              "      <th>1</th>\n",
              "      <td>2</td>\n",
              "      <td>Oklahoma City Plant</td>\n",
              "      <td>Oklahoma City</td>\n",
              "      <td>OK</td>\n",
              "      <td>73101</td>\n",
              "      <td>US</td>\n",
              "      <td>35.467763</td>\n",
              "      <td>-97.520977</td>\n",
              "    </tr>\n",
              "    <tr>\n",
              "      <th>2</th>\n",
              "      <td>3</td>\n",
              "      <td>Jackson Plant</td>\n",
              "      <td>Jackson</td>\n",
              "      <td>MS</td>\n",
              "      <td>39201</td>\n",
              "      <td>US</td>\n",
              "      <td>32.289153</td>\n",
              "      <td>-90.184021</td>\n",
              "    </tr>\n",
              "    <tr>\n",
              "      <th>3</th>\n",
              "      <td>4</td>\n",
              "      <td>Denver Plant</td>\n",
              "      <td>Denver</td>\n",
              "      <td>CO</td>\n",
              "      <td>80201</td>\n",
              "      <td>US</td>\n",
              "      <td>39.750710</td>\n",
              "      <td>-104.996225</td>\n",
              "    </tr>\n",
              "    <tr>\n",
              "      <th>4</th>\n",
              "      <td>5</td>\n",
              "      <td>St. Louis Plant</td>\n",
              "      <td>St. Louis</td>\n",
              "      <td>MO</td>\n",
              "      <td>63101</td>\n",
              "      <td>US</td>\n",
              "      <td>38.631358</td>\n",
              "      <td>-90.192246</td>\n",
              "    </tr>\n",
              "  </tbody>\n",
              "</table>\n",
              "</div>\n",
              "      <button class=\"colab-df-convert\" onclick=\"convertToInteractive('df-4b74d61c-07a3-44a4-abcc-ae9fc3416e11')\"\n",
              "              title=\"Convert this dataframe to an interactive table.\"\n",
              "              style=\"display:none;\">\n",
              "        \n",
              "  <svg xmlns=\"http://www.w3.org/2000/svg\" height=\"24px\"viewBox=\"0 0 24 24\"\n",
              "       width=\"24px\">\n",
              "    <path d=\"M0 0h24v24H0V0z\" fill=\"none\"/>\n",
              "    <path d=\"M18.56 5.44l.94 2.06.94-2.06 2.06-.94-2.06-.94-.94-2.06-.94 2.06-2.06.94zm-11 1L8.5 8.5l.94-2.06 2.06-.94-2.06-.94L8.5 2.5l-.94 2.06-2.06.94zm10 10l.94 2.06.94-2.06 2.06-.94-2.06-.94-.94-2.06-.94 2.06-2.06.94z\"/><path d=\"M17.41 7.96l-1.37-1.37c-.4-.4-.92-.59-1.43-.59-.52 0-1.04.2-1.43.59L10.3 9.45l-7.72 7.72c-.78.78-.78 2.05 0 2.83L4 21.41c.39.39.9.59 1.41.59.51 0 1.02-.2 1.41-.59l7.78-7.78 2.81-2.81c.8-.78.8-2.07 0-2.86zM5.41 20L4 18.59l7.72-7.72 1.47 1.35L5.41 20z\"/>\n",
              "  </svg>\n",
              "      </button>\n",
              "      \n",
              "  <style>\n",
              "    .colab-df-container {\n",
              "      display:flex;\n",
              "      flex-wrap:wrap;\n",
              "      gap: 12px;\n",
              "    }\n",
              "\n",
              "    .colab-df-convert {\n",
              "      background-color: #E8F0FE;\n",
              "      border: none;\n",
              "      border-radius: 50%;\n",
              "      cursor: pointer;\n",
              "      display: none;\n",
              "      fill: #1967D2;\n",
              "      height: 32px;\n",
              "      padding: 0 0 0 0;\n",
              "      width: 32px;\n",
              "    }\n",
              "\n",
              "    .colab-df-convert:hover {\n",
              "      background-color: #E2EBFA;\n",
              "      box-shadow: 0px 1px 2px rgba(60, 64, 67, 0.3), 0px 1px 3px 1px rgba(60, 64, 67, 0.15);\n",
              "      fill: #174EA6;\n",
              "    }\n",
              "\n",
              "    [theme=dark] .colab-df-convert {\n",
              "      background-color: #3B4455;\n",
              "      fill: #D2E3FC;\n",
              "    }\n",
              "\n",
              "    [theme=dark] .colab-df-convert:hover {\n",
              "      background-color: #434B5C;\n",
              "      box-shadow: 0px 1px 3px 1px rgba(0, 0, 0, 0.15);\n",
              "      filter: drop-shadow(0px 1px 2px rgba(0, 0, 0, 0.3));\n",
              "      fill: #FFFFFF;\n",
              "    }\n",
              "  </style>\n",
              "\n",
              "      <script>\n",
              "        const buttonEl =\n",
              "          document.querySelector('#df-4b74d61c-07a3-44a4-abcc-ae9fc3416e11 button.colab-df-convert');\n",
              "        buttonEl.style.display =\n",
              "          google.colab.kernel.accessAllowed ? 'block' : 'none';\n",
              "\n",
              "        async function convertToInteractive(key) {\n",
              "          const element = document.querySelector('#df-4b74d61c-07a3-44a4-abcc-ae9fc3416e11');\n",
              "          const dataTable =\n",
              "            await google.colab.kernel.invokeFunction('convertToInteractive',\n",
              "                                                     [key], {});\n",
              "          if (!dataTable) return;\n",
              "\n",
              "          const docLinkHtml = 'Like what you see? Visit the ' +\n",
              "            '<a target=\"_blank\" href=https://colab.research.google.com/notebooks/data_table.ipynb>data table notebook</a>'\n",
              "            + ' to learn more about interactive tables.';\n",
              "          element.innerHTML = '';\n",
              "          dataTable['output_type'] = 'display_data';\n",
              "          await google.colab.output.renderOutput(dataTable, element);\n",
              "          const docLink = document.createElement('div');\n",
              "          docLink.innerHTML = docLinkHtml;\n",
              "          element.appendChild(docLink);\n",
              "        }\n",
              "      </script>\n",
              "    </div>\n",
              "  </div>\n",
              "  "
            ]
          },
          "metadata": {},
          "execution_count": 7
        }
      ],
      "source": [
        "plant_df.iloc[:,:8].head()"
      ]
    },
    {
      "cell_type": "code",
      "execution_count": 8,
      "id": "385755b1",
      "metadata": {
        "ExecuteTime": {
          "end_time": "2022-04-15T04:23:37.385661Z",
          "start_time": "2022-04-15T04:23:37.369948Z"
        },
        "id": "385755b1",
        "outputId": "3321ebee-623d-402c-f76e-f24ecaed9136",
        "colab": {
          "base_uri": "https://localhost:8080/",
          "height": 206
        }
      },
      "outputs": [
        {
          "output_type": "execute_result",
          "data": {
            "text/plain": [
              "   Customer ID         Customer Name         City State  Zip Code Country  \\\n",
              "0            1      Buffalo Customer      Buffalo    NY     14201      US   \n",
              "1            2       Fresno Customer       Fresno    CA     93701      US   \n",
              "2            3      Norfolk Customer      Norfolk    VA     23501      US   \n",
              "3            4  Springfield Customer  Springfield    IL     62701      US   \n",
              "4            5  Minneapolis Customer  Minneapolis    MN     55401      US   \n",
              "\n",
              "    Latitude   Longitude  Demand  \n",
              "0  42.896219  -78.884649    1184  \n",
              "1  36.749611 -119.786244     888  \n",
              "2  36.852105  -76.292507    1564  \n",
              "3  39.800060  -89.647829     611  \n",
              "4  44.985775  -93.270165    2812  "
            ],
            "text/html": [
              "\n",
              "  <div id=\"df-45fca048-25dd-4e42-9189-6094323b8543\">\n",
              "    <div class=\"colab-df-container\">\n",
              "      <div>\n",
              "<style scoped>\n",
              "    .dataframe tbody tr th:only-of-type {\n",
              "        vertical-align: middle;\n",
              "    }\n",
              "\n",
              "    .dataframe tbody tr th {\n",
              "        vertical-align: top;\n",
              "    }\n",
              "\n",
              "    .dataframe thead th {\n",
              "        text-align: right;\n",
              "    }\n",
              "</style>\n",
              "<table border=\"1\" class=\"dataframe\">\n",
              "  <thead>\n",
              "    <tr style=\"text-align: right;\">\n",
              "      <th></th>\n",
              "      <th>Customer ID</th>\n",
              "      <th>Customer Name</th>\n",
              "      <th>City</th>\n",
              "      <th>State</th>\n",
              "      <th>Zip Code</th>\n",
              "      <th>Country</th>\n",
              "      <th>Latitude</th>\n",
              "      <th>Longitude</th>\n",
              "      <th>Demand</th>\n",
              "    </tr>\n",
              "  </thead>\n",
              "  <tbody>\n",
              "    <tr>\n",
              "      <th>0</th>\n",
              "      <td>1</td>\n",
              "      <td>Buffalo Customer</td>\n",
              "      <td>Buffalo</td>\n",
              "      <td>NY</td>\n",
              "      <td>14201</td>\n",
              "      <td>US</td>\n",
              "      <td>42.896219</td>\n",
              "      <td>-78.884649</td>\n",
              "      <td>1184</td>\n",
              "    </tr>\n",
              "    <tr>\n",
              "      <th>1</th>\n",
              "      <td>2</td>\n",
              "      <td>Fresno Customer</td>\n",
              "      <td>Fresno</td>\n",
              "      <td>CA</td>\n",
              "      <td>93701</td>\n",
              "      <td>US</td>\n",
              "      <td>36.749611</td>\n",
              "      <td>-119.786244</td>\n",
              "      <td>888</td>\n",
              "    </tr>\n",
              "    <tr>\n",
              "      <th>2</th>\n",
              "      <td>3</td>\n",
              "      <td>Norfolk Customer</td>\n",
              "      <td>Norfolk</td>\n",
              "      <td>VA</td>\n",
              "      <td>23501</td>\n",
              "      <td>US</td>\n",
              "      <td>36.852105</td>\n",
              "      <td>-76.292507</td>\n",
              "      <td>1564</td>\n",
              "    </tr>\n",
              "    <tr>\n",
              "      <th>3</th>\n",
              "      <td>4</td>\n",
              "      <td>Springfield Customer</td>\n",
              "      <td>Springfield</td>\n",
              "      <td>IL</td>\n",
              "      <td>62701</td>\n",
              "      <td>US</td>\n",
              "      <td>39.800060</td>\n",
              "      <td>-89.647829</td>\n",
              "      <td>611</td>\n",
              "    </tr>\n",
              "    <tr>\n",
              "      <th>4</th>\n",
              "      <td>5</td>\n",
              "      <td>Minneapolis Customer</td>\n",
              "      <td>Minneapolis</td>\n",
              "      <td>MN</td>\n",
              "      <td>55401</td>\n",
              "      <td>US</td>\n",
              "      <td>44.985775</td>\n",
              "      <td>-93.270165</td>\n",
              "      <td>2812</td>\n",
              "    </tr>\n",
              "  </tbody>\n",
              "</table>\n",
              "</div>\n",
              "      <button class=\"colab-df-convert\" onclick=\"convertToInteractive('df-45fca048-25dd-4e42-9189-6094323b8543')\"\n",
              "              title=\"Convert this dataframe to an interactive table.\"\n",
              "              style=\"display:none;\">\n",
              "        \n",
              "  <svg xmlns=\"http://www.w3.org/2000/svg\" height=\"24px\"viewBox=\"0 0 24 24\"\n",
              "       width=\"24px\">\n",
              "    <path d=\"M0 0h24v24H0V0z\" fill=\"none\"/>\n",
              "    <path d=\"M18.56 5.44l.94 2.06.94-2.06 2.06-.94-2.06-.94-.94-2.06-.94 2.06-2.06.94zm-11 1L8.5 8.5l.94-2.06 2.06-.94-2.06-.94L8.5 2.5l-.94 2.06-2.06.94zm10 10l.94 2.06.94-2.06 2.06-.94-2.06-.94-.94-2.06-.94 2.06-2.06.94z\"/><path d=\"M17.41 7.96l-1.37-1.37c-.4-.4-.92-.59-1.43-.59-.52 0-1.04.2-1.43.59L10.3 9.45l-7.72 7.72c-.78.78-.78 2.05 0 2.83L4 21.41c.39.39.9.59 1.41.59.51 0 1.02-.2 1.41-.59l7.78-7.78 2.81-2.81c.8-.78.8-2.07 0-2.86zM5.41 20L4 18.59l7.72-7.72 1.47 1.35L5.41 20z\"/>\n",
              "  </svg>\n",
              "      </button>\n",
              "      \n",
              "  <style>\n",
              "    .colab-df-container {\n",
              "      display:flex;\n",
              "      flex-wrap:wrap;\n",
              "      gap: 12px;\n",
              "    }\n",
              "\n",
              "    .colab-df-convert {\n",
              "      background-color: #E8F0FE;\n",
              "      border: none;\n",
              "      border-radius: 50%;\n",
              "      cursor: pointer;\n",
              "      display: none;\n",
              "      fill: #1967D2;\n",
              "      height: 32px;\n",
              "      padding: 0 0 0 0;\n",
              "      width: 32px;\n",
              "    }\n",
              "\n",
              "    .colab-df-convert:hover {\n",
              "      background-color: #E2EBFA;\n",
              "      box-shadow: 0px 1px 2px rgba(60, 64, 67, 0.3), 0px 1px 3px 1px rgba(60, 64, 67, 0.15);\n",
              "      fill: #174EA6;\n",
              "    }\n",
              "\n",
              "    [theme=dark] .colab-df-convert {\n",
              "      background-color: #3B4455;\n",
              "      fill: #D2E3FC;\n",
              "    }\n",
              "\n",
              "    [theme=dark] .colab-df-convert:hover {\n",
              "      background-color: #434B5C;\n",
              "      box-shadow: 0px 1px 3px 1px rgba(0, 0, 0, 0.15);\n",
              "      filter: drop-shadow(0px 1px 2px rgba(0, 0, 0, 0.3));\n",
              "      fill: #FFFFFF;\n",
              "    }\n",
              "  </style>\n",
              "\n",
              "      <script>\n",
              "        const buttonEl =\n",
              "          document.querySelector('#df-45fca048-25dd-4e42-9189-6094323b8543 button.colab-df-convert');\n",
              "        buttonEl.style.display =\n",
              "          google.colab.kernel.accessAllowed ? 'block' : 'none';\n",
              "\n",
              "        async function convertToInteractive(key) {\n",
              "          const element = document.querySelector('#df-45fca048-25dd-4e42-9189-6094323b8543');\n",
              "          const dataTable =\n",
              "            await google.colab.kernel.invokeFunction('convertToInteractive',\n",
              "                                                     [key], {});\n",
              "          if (!dataTable) return;\n",
              "\n",
              "          const docLinkHtml = 'Like what you see? Visit the ' +\n",
              "            '<a target=\"_blank\" href=https://colab.research.google.com/notebooks/data_table.ipynb>data table notebook</a>'\n",
              "            + ' to learn more about interactive tables.';\n",
              "          element.innerHTML = '';\n",
              "          dataTable['output_type'] = 'display_data';\n",
              "          await google.colab.output.renderOutput(dataTable, element);\n",
              "          const docLink = document.createElement('div');\n",
              "          docLink.innerHTML = docLinkHtml;\n",
              "          element.appendChild(docLink);\n",
              "        }\n",
              "      </script>\n",
              "    </div>\n",
              "  </div>\n",
              "  "
            ]
          },
          "metadata": {},
          "execution_count": 8
        }
      ],
      "source": [
        "cust_df.head()"
      ]
    },
    {
      "cell_type": "code",
      "execution_count": 9,
      "id": "e4883fb5",
      "metadata": {
        "ExecuteTime": {
          "end_time": "2022-04-15T04:23:41.094786Z",
          "start_time": "2022-04-15T04:23:41.082158Z"
        },
        "id": "e4883fb5"
      },
      "outputs": [],
      "source": [
        "# Prepare data to plot the input network\n",
        "locations = prepare_location_dataframe(plant_df, cust_df)"
      ]
    },
    {
      "cell_type": "markdown",
      "id": "facial-conviction",
      "metadata": {
        "id": "facial-conviction"
      },
      "source": [
        "# Plot Input Map"
      ]
    },
    {
      "cell_type": "code",
      "execution_count": 10,
      "id": "fancy-southwest",
      "metadata": {
        "ExecuteTime": {
          "end_time": "2022-04-15T04:23:43.255595Z",
          "start_time": "2022-04-15T04:23:42.887508Z"
        },
        "id": "fancy-southwest",
        "outputId": "b80fb11b-97bf-47e4-f2d2-c25eef2c91d1",
        "colab": {
          "base_uri": "https://localhost:8080/",
          "height": 542
        }
      },
      "outputs": [
        {
          "output_type": "display_data",
          "data": {
            "text/html": [
              "<html>\n",
              "<head><meta charset=\"utf-8\" /></head>\n",
              "<body>\n",
              "    <div>            <script src=\"https://cdnjs.cloudflare.com/ajax/libs/mathjax/2.7.5/MathJax.js?config=TeX-AMS-MML_SVG\"></script><script type=\"text/javascript\">if (window.MathJax) {MathJax.Hub.Config({SVG: {font: \"STIX-Web\"}});}</script>                <script type=\"text/javascript\">window.PlotlyConfig = {MathJaxConfig: 'local'};</script>\n",
              "        <script src=\"https://cdn.plot.ly/plotly-2.8.3.min.js\"></script>                <div id=\"4d557ad4-4447-4716-9daf-64bab2d9be5e\" class=\"plotly-graph-div\" style=\"height:525px; width:100%;\"></div>            <script type=\"text/javascript\">                                    window.PLOTLYENV=window.PLOTLYENV || {};                                    if (document.getElementById(\"4d557ad4-4447-4716-9daf-64bab2d9be5e\")) {                    Plotly.newPlot(                        \"4d557ad4-4447-4716-9daf-64bab2d9be5e\",                        [{\"lat\":[40.755074,35.467763,32.289153,39.75071,38.631358,39.294398,33.451015,44.985775,28.541627,38.253601,35.033731,42.346577,42.36097,33.753693,40.75012,null],\"lon\":[-111.89849,-97.520977,-90.184021,-104.996225,-90.192246,-76.622747,-112.068554,-93.270165,-81.37397,-85.768124,-89.934319,-83.059731,-71.05344,-84.389544,-73.997846,null],\"marker\":{\"color\":[\"blue\",\"blue\",\"blue\",\"blue\",\"blue\",\"blue\",\"blue\",\"blue\",\"blue\",\"blue\",\"blue\",\"blue\",\"blue\",\"blue\",\"blue\",\"blue\"],\"line\":{\"color\":\"rgba(68, 68, 68, 0)\",\"width\":3},\"size\":[20,20,20,20,20,20,20,20,20,20,20,20,20,20,20,20],\"symbol\":[\"triangle-up\",\"triangle-up\",\"triangle-up\",\"triangle-up\",\"triangle-up\",\"triangle-up\",\"triangle-up\",\"triangle-up\",\"triangle-up\",\"triangle-up\",\"triangle-up\",\"triangle-up\",\"triangle-up\",\"triangle-up\",\"triangle-up\",\"triangle-up\"]},\"name\":\"Plant\",\"text\":[\"Salt Lake City Plant\",\"Oklahoma City Plant\",\"Jackson Plant\",\"Denver Plant\",\"St. Louis Plant\",\"Baltimore Plant\",\"Phoenix Plant\",\"Minneapolis Plant\",\"Orlando Plant\",\"Louisville Plant\",\"Memphis Plant\",\"Detroit Plant\",\"Boston Plant\",\"Atlanta Plant\",\"New York City Plant\",null],\"type\":\"scattergeo\"},{\"lat\":[42.896219,36.749611,36.852105,39.80006,44.985775,43.1683,34.198188,33.844425,34.893261,38.253601,30.449314,39.103883,42.65287,33.753693,27.95454,41.30758,41.586162,40.75012,36.070061,40.602812,41.263251,35.946445,39.10663,41.645022,41.817904,38.631358,39.728445,39.758119,28.541627,30.340415,43.037602,33.974044,42.526891,32.466926,26.121066,43.04335,40.735652,32.75826,32.787642,41.789,37.386691,35.659441,35.033731,41.358057,33.994941,34.747348,44.065571,38.585076,37.215347,40.857466,42.346577,29.956664,35.467763,39.77422,43.661941,40.099395,34.847881,32.216256,41.491407,33.518634,26.345694,36.17269,45.498251,31.575993,34.345883,40.333745,31.760613,40.264554,41.043696,47.253432,39.961558,32.724693,42.105997,34.677074,29.469324,36.149273,33.451015,40.574084,41.099765,29.757317,39.294398,36.164003,41.88331,40.474802,47.611601,35.194361,35.384352,37.538812,37.777255,30.270515,42.965899,34.274429,38.910004,40.755074,35.773856,42.36097,39.75071,25.778271,35.082729,37.779887],\"lon\":[-78.884649,-119.786244,-76.292507,-89.647829,-93.270165,-77.60262,-79.826641,-117.951222,-87.637505,-85.768124,-91.187593,-94.600613,-73.74868,-84.389544,-82.45734,-72.92471,-87.319082,-73.997846,-79.766346,-75.470433,-95.932956,-84.022857,-84.49974,-83.548348,-71.409316,-90.192246,-75.537257,-84.1879,-81.37397,-81.830904,-87.916246,-118.248849,-73.609283,-84.980818,-80.127818,-76.15084,-74.17309,-97.32787,-96.799525,-72.666218,-121.89705,-77.397427,-89.934319,-75.70249,-117.372528,-92.278932,-92.51005,-121.491186,-93.294978,-74.128618,-83.059731,-90.077506,-97.520977,-86.109309,-70.259388,-83.016823,-82.403745,-110.970728,-81.671411,-86.808862,-80.084229,-115.121117,-122.692496,-84.154368,-119.328846,-73.982438,-106.47948,-76.880588,-81.524301,-122.435514,-75.199624,-117.164885,-72.597915,-77.521398,-98.527988,-95.975637,-112.068554,-74.5012,-80.64936,-95.365005,-76.622747,-86.7745,-87.624713,-79.95449,-122.333038,-80.826397,-119.019342,-77.436395,-122.217025,-97.74218,-85.654579,-77.964032,-77.017989,-111.89849,-78.634051,-71.05344,-104.996225,-80.198105,-106.646276,-122.418066],\"marker\":{\"color\":[\"orange\",\"orange\",\"orange\",\"orange\",\"orange\",\"orange\",\"orange\",\"orange\",\"orange\",\"orange\",\"orange\",\"orange\",\"orange\",\"orange\",\"orange\",\"orange\",\"orange\",\"orange\",\"orange\",\"orange\",\"orange\",\"orange\",\"orange\",\"orange\",\"orange\",\"orange\",\"orange\",\"orange\",\"orange\",\"orange\",\"orange\",\"orange\",\"orange\",\"orange\",\"orange\",\"orange\",\"orange\",\"orange\",\"orange\",\"orange\",\"orange\",\"orange\",\"orange\",\"orange\",\"orange\",\"orange\",\"orange\",\"orange\",\"orange\",\"orange\",\"orange\",\"orange\",\"orange\",\"orange\",\"orange\",\"orange\",\"orange\",\"orange\",\"orange\",\"orange\",\"orange\",\"orange\",\"orange\",\"orange\",\"orange\",\"orange\",\"orange\",\"orange\",\"orange\",\"orange\",\"orange\",\"orange\",\"orange\",\"orange\",\"orange\",\"orange\",\"orange\",\"orange\",\"orange\",\"orange\",\"orange\",\"orange\",\"orange\",\"orange\",\"orange\",\"orange\",\"orange\",\"orange\",\"orange\",\"orange\",\"orange\",\"orange\",\"orange\",\"orange\",\"orange\",\"orange\",\"orange\",\"orange\",\"orange\",\"orange\"],\"line\":{\"color\":\"rgba(68, 68, 68, 0)\",\"width\":3},\"size\":[8,8,8,8,8,8,8,8,8,8,8,8,8,8,8,8,8,8,8,8,8,8,8,8,8,8,8,8,8,8,8,8,8,8,8,8,8,8,8,8,8,8,8,8,8,8,8,8,8,8,8,8,8,8,8,8,8,8,8,8,8,8,8,8,8,8,8,8,8,8,8,8,8,8,8,8,8,8,8,8,8,8,8,8,8,8,8,8,8,8,8,8,8,8,8,8,8,8,8,8],\"symbol\":[\"circle\",\"circle\",\"circle\",\"circle\",\"circle\",\"circle\",\"circle\",\"circle\",\"circle\",\"circle\",\"circle\",\"circle\",\"circle\",\"circle\",\"circle\",\"circle\",\"circle\",\"circle\",\"circle\",\"circle\",\"circle\",\"circle\",\"circle\",\"circle\",\"circle\",\"circle\",\"circle\",\"circle\",\"circle\",\"circle\",\"circle\",\"circle\",\"circle\",\"circle\",\"circle\",\"circle\",\"circle\",\"circle\",\"circle\",\"circle\",\"circle\",\"circle\",\"circle\",\"circle\",\"circle\",\"circle\",\"circle\",\"circle\",\"circle\",\"circle\",\"circle\",\"circle\",\"circle\",\"circle\",\"circle\",\"circle\",\"circle\",\"circle\",\"circle\",\"circle\",\"circle\",\"circle\",\"circle\",\"circle\",\"circle\",\"circle\",\"circle\",\"circle\",\"circle\",\"circle\",\"circle\",\"circle\",\"circle\",\"circle\",\"circle\",\"circle\",\"circle\",\"circle\",\"circle\",\"circle\",\"circle\",\"circle\",\"circle\",\"circle\",\"circle\",\"circle\",\"circle\",\"circle\",\"circle\",\"circle\",\"circle\",\"circle\",\"circle\",\"circle\",\"circle\",\"circle\",\"circle\",\"circle\",\"circle\",\"circle\"]},\"name\":\"Customer\",\"text\":[\"Buffalo Customer\",\"Fresno Customer\",\"Norfolk Customer\",\"Springfield Customer\",\"Minneapolis Customer\",\"Rochester Customer\",\"Florence Customer\",\"Orange Customer\",\"Florence Customer\",\"Louisville Customer\",\"Baton Rouge Customer\",\"Kansas City Customer\",\"Albany Customer\",\"Atlanta Customer\",\"Tampa Customer\",\"New Haven Customer\",\"Gary Customer\",\"New York City Customer\",\"Greensboro Customer\",\"Allentown Customer\",\"Omaha Customer\",\"Knoxville Customer\",\"Cincinnati Customer\",\"Toledo Customer\",\"Providence Customer\",\"St. Louis Customer\",\"Wilmington Customer\",\"Dayton Customer\",\"Orlando Customer\",\"Jacksonville Customer\",\"Milwaukee Customer\",\"Los Angeles Customer\",\"Nassau-Suffolk Customer\",\"Columbus Customer\",\"Fort Lauderdale Customer\",\"Syracuse Customer\",\"Newark Customer\",\"Fort Worth Customer\",\"Dallas Customer\",\"Hartford Customer\",\"San Jose Customer\",\"Greenville Customer\",\"Memphis Customer\",\"Scranton Customer\",\"Riverside Customer\",\"Little Rock Customer\",\"Rochester Customer\",\"Sacramento Customer\",\"Springfield Customer\",\"Bergen Customer\",\"Detroit Customer\",\"New Orleans Customer\",\"Oklahoma City Customer\",\"Indianapolis Customer\",\"Portland Customer\",\"Columbus Customer\",\"Greenville Customer\",\"Tucson Customer\",\"Cleveland Customer\",\"Birmingham Customer\",\"West Palm Beach Customer\",\"Las Vegas Customer\",\"Portland Customer\",\"Albany Customer\",\"Ventura Customer\",\"Monmouth Customer\",\"El Paso Customer\",\"Harrisburg Customer\",\"Akron Customer\",\"Tacoma Customer\",\"Philadelphia Customer\",\"San Diego Customer\",\"Springfield Customer\",\"Jacksonville Customer\",\"San Antonio Customer\",\"Tulsa Customer\",\"Phoenix Customer\",\"Middlesex Customer\",\"Youngstown Customer\",\"Houston Customer\",\"Baltimore Customer\",\"Nashville Customer\",\"Chicago Customer\",\"Pittsburgh Customer\",\"Seattle Customer\",\"Charlotte Customer\",\"Bakersfield Customer\",\"Richmond Customer\",\"Oakland Customer\",\"Austin Customer\",\"Grand Rapids Customer\",\"Wilmington Customer\",\"Washington Customer\",\"Salt Lake City Customer\",\"Raleigh Customer\",\"Boston Customer\",\"Denver Customer\",\"Miami Customer\",\"Albuquerque Customer\",\"San Francisco Customer\"],\"type\":\"scattergeo\"}],                        {\"template\":{\"data\":{\"bar\":[{\"error_x\":{\"color\":\"#2a3f5f\"},\"error_y\":{\"color\":\"#2a3f5f\"},\"marker\":{\"line\":{\"color\":\"#E5ECF6\",\"width\":0.5},\"pattern\":{\"fillmode\":\"overlay\",\"size\":10,\"solidity\":0.2}},\"type\":\"bar\"}],\"barpolar\":[{\"marker\":{\"line\":{\"color\":\"#E5ECF6\",\"width\":0.5},\"pattern\":{\"fillmode\":\"overlay\",\"size\":10,\"solidity\":0.2}},\"type\":\"barpolar\"}],\"carpet\":[{\"aaxis\":{\"endlinecolor\":\"#2a3f5f\",\"gridcolor\":\"white\",\"linecolor\":\"white\",\"minorgridcolor\":\"white\",\"startlinecolor\":\"#2a3f5f\"},\"baxis\":{\"endlinecolor\":\"#2a3f5f\",\"gridcolor\":\"white\",\"linecolor\":\"white\",\"minorgridcolor\":\"white\",\"startlinecolor\":\"#2a3f5f\"},\"type\":\"carpet\"}],\"choropleth\":[{\"colorbar\":{\"outlinewidth\":0,\"ticks\":\"\"},\"type\":\"choropleth\"}],\"contour\":[{\"colorbar\":{\"outlinewidth\":0,\"ticks\":\"\"},\"colorscale\":[[0.0,\"#0d0887\"],[0.1111111111111111,\"#46039f\"],[0.2222222222222222,\"#7201a8\"],[0.3333333333333333,\"#9c179e\"],[0.4444444444444444,\"#bd3786\"],[0.5555555555555556,\"#d8576b\"],[0.6666666666666666,\"#ed7953\"],[0.7777777777777778,\"#fb9f3a\"],[0.8888888888888888,\"#fdca26\"],[1.0,\"#f0f921\"]],\"type\":\"contour\"}],\"contourcarpet\":[{\"colorbar\":{\"outlinewidth\":0,\"ticks\":\"\"},\"type\":\"contourcarpet\"}],\"heatmap\":[{\"colorbar\":{\"outlinewidth\":0,\"ticks\":\"\"},\"colorscale\":[[0.0,\"#0d0887\"],[0.1111111111111111,\"#46039f\"],[0.2222222222222222,\"#7201a8\"],[0.3333333333333333,\"#9c179e\"],[0.4444444444444444,\"#bd3786\"],[0.5555555555555556,\"#d8576b\"],[0.6666666666666666,\"#ed7953\"],[0.7777777777777778,\"#fb9f3a\"],[0.8888888888888888,\"#fdca26\"],[1.0,\"#f0f921\"]],\"type\":\"heatmap\"}],\"heatmapgl\":[{\"colorbar\":{\"outlinewidth\":0,\"ticks\":\"\"},\"colorscale\":[[0.0,\"#0d0887\"],[0.1111111111111111,\"#46039f\"],[0.2222222222222222,\"#7201a8\"],[0.3333333333333333,\"#9c179e\"],[0.4444444444444444,\"#bd3786\"],[0.5555555555555556,\"#d8576b\"],[0.6666666666666666,\"#ed7953\"],[0.7777777777777778,\"#fb9f3a\"],[0.8888888888888888,\"#fdca26\"],[1.0,\"#f0f921\"]],\"type\":\"heatmapgl\"}],\"histogram\":[{\"marker\":{\"pattern\":{\"fillmode\":\"overlay\",\"size\":10,\"solidity\":0.2}},\"type\":\"histogram\"}],\"histogram2d\":[{\"colorbar\":{\"outlinewidth\":0,\"ticks\":\"\"},\"colorscale\":[[0.0,\"#0d0887\"],[0.1111111111111111,\"#46039f\"],[0.2222222222222222,\"#7201a8\"],[0.3333333333333333,\"#9c179e\"],[0.4444444444444444,\"#bd3786\"],[0.5555555555555556,\"#d8576b\"],[0.6666666666666666,\"#ed7953\"],[0.7777777777777778,\"#fb9f3a\"],[0.8888888888888888,\"#fdca26\"],[1.0,\"#f0f921\"]],\"type\":\"histogram2d\"}],\"histogram2dcontour\":[{\"colorbar\":{\"outlinewidth\":0,\"ticks\":\"\"},\"colorscale\":[[0.0,\"#0d0887\"],[0.1111111111111111,\"#46039f\"],[0.2222222222222222,\"#7201a8\"],[0.3333333333333333,\"#9c179e\"],[0.4444444444444444,\"#bd3786\"],[0.5555555555555556,\"#d8576b\"],[0.6666666666666666,\"#ed7953\"],[0.7777777777777778,\"#fb9f3a\"],[0.8888888888888888,\"#fdca26\"],[1.0,\"#f0f921\"]],\"type\":\"histogram2dcontour\"}],\"mesh3d\":[{\"colorbar\":{\"outlinewidth\":0,\"ticks\":\"\"},\"type\":\"mesh3d\"}],\"parcoords\":[{\"line\":{\"colorbar\":{\"outlinewidth\":0,\"ticks\":\"\"}},\"type\":\"parcoords\"}],\"pie\":[{\"automargin\":true,\"type\":\"pie\"}],\"scatter\":[{\"marker\":{\"colorbar\":{\"outlinewidth\":0,\"ticks\":\"\"}},\"type\":\"scatter\"}],\"scatter3d\":[{\"line\":{\"colorbar\":{\"outlinewidth\":0,\"ticks\":\"\"}},\"marker\":{\"colorbar\":{\"outlinewidth\":0,\"ticks\":\"\"}},\"type\":\"scatter3d\"}],\"scattercarpet\":[{\"marker\":{\"colorbar\":{\"outlinewidth\":0,\"ticks\":\"\"}},\"type\":\"scattercarpet\"}],\"scattergeo\":[{\"marker\":{\"colorbar\":{\"outlinewidth\":0,\"ticks\":\"\"}},\"type\":\"scattergeo\"}],\"scattergl\":[{\"marker\":{\"colorbar\":{\"outlinewidth\":0,\"ticks\":\"\"}},\"type\":\"scattergl\"}],\"scattermapbox\":[{\"marker\":{\"colorbar\":{\"outlinewidth\":0,\"ticks\":\"\"}},\"type\":\"scattermapbox\"}],\"scatterpolar\":[{\"marker\":{\"colorbar\":{\"outlinewidth\":0,\"ticks\":\"\"}},\"type\":\"scatterpolar\"}],\"scatterpolargl\":[{\"marker\":{\"colorbar\":{\"outlinewidth\":0,\"ticks\":\"\"}},\"type\":\"scatterpolargl\"}],\"scatterternary\":[{\"marker\":{\"colorbar\":{\"outlinewidth\":0,\"ticks\":\"\"}},\"type\":\"scatterternary\"}],\"surface\":[{\"colorbar\":{\"outlinewidth\":0,\"ticks\":\"\"},\"colorscale\":[[0.0,\"#0d0887\"],[0.1111111111111111,\"#46039f\"],[0.2222222222222222,\"#7201a8\"],[0.3333333333333333,\"#9c179e\"],[0.4444444444444444,\"#bd3786\"],[0.5555555555555556,\"#d8576b\"],[0.6666666666666666,\"#ed7953\"],[0.7777777777777778,\"#fb9f3a\"],[0.8888888888888888,\"#fdca26\"],[1.0,\"#f0f921\"]],\"type\":\"surface\"}],\"table\":[{\"cells\":{\"fill\":{\"color\":\"#EBF0F8\"},\"line\":{\"color\":\"white\"}},\"header\":{\"fill\":{\"color\":\"#C8D4E3\"},\"line\":{\"color\":\"white\"}},\"type\":\"table\"}]},\"layout\":{\"annotationdefaults\":{\"arrowcolor\":\"#2a3f5f\",\"arrowhead\":0,\"arrowwidth\":1},\"autotypenumbers\":\"strict\",\"coloraxis\":{\"colorbar\":{\"outlinewidth\":0,\"ticks\":\"\"}},\"colorscale\":{\"diverging\":[[0,\"#8e0152\"],[0.1,\"#c51b7d\"],[0.2,\"#de77ae\"],[0.3,\"#f1b6da\"],[0.4,\"#fde0ef\"],[0.5,\"#f7f7f7\"],[0.6,\"#e6f5d0\"],[0.7,\"#b8e186\"],[0.8,\"#7fbc41\"],[0.9,\"#4d9221\"],[1,\"#276419\"]],\"sequential\":[[0.0,\"#0d0887\"],[0.1111111111111111,\"#46039f\"],[0.2222222222222222,\"#7201a8\"],[0.3333333333333333,\"#9c179e\"],[0.4444444444444444,\"#bd3786\"],[0.5555555555555556,\"#d8576b\"],[0.6666666666666666,\"#ed7953\"],[0.7777777777777778,\"#fb9f3a\"],[0.8888888888888888,\"#fdca26\"],[1.0,\"#f0f921\"]],\"sequentialminus\":[[0.0,\"#0d0887\"],[0.1111111111111111,\"#46039f\"],[0.2222222222222222,\"#7201a8\"],[0.3333333333333333,\"#9c179e\"],[0.4444444444444444,\"#bd3786\"],[0.5555555555555556,\"#d8576b\"],[0.6666666666666666,\"#ed7953\"],[0.7777777777777778,\"#fb9f3a\"],[0.8888888888888888,\"#fdca26\"],[1.0,\"#f0f921\"]]},\"colorway\":[\"#636efa\",\"#EF553B\",\"#00cc96\",\"#ab63fa\",\"#FFA15A\",\"#19d3f3\",\"#FF6692\",\"#B6E880\",\"#FF97FF\",\"#FECB52\"],\"font\":{\"color\":\"#2a3f5f\"},\"geo\":{\"bgcolor\":\"white\",\"lakecolor\":\"white\",\"landcolor\":\"#E5ECF6\",\"showlakes\":true,\"showland\":true,\"subunitcolor\":\"white\"},\"hoverlabel\":{\"align\":\"left\"},\"hovermode\":\"closest\",\"mapbox\":{\"style\":\"light\"},\"paper_bgcolor\":\"white\",\"plot_bgcolor\":\"#E5ECF6\",\"polar\":{\"angularaxis\":{\"gridcolor\":\"white\",\"linecolor\":\"white\",\"ticks\":\"\"},\"bgcolor\":\"#E5ECF6\",\"radialaxis\":{\"gridcolor\":\"white\",\"linecolor\":\"white\",\"ticks\":\"\"}},\"scene\":{\"xaxis\":{\"backgroundcolor\":\"#E5ECF6\",\"gridcolor\":\"white\",\"gridwidth\":2,\"linecolor\":\"white\",\"showbackground\":true,\"ticks\":\"\",\"zerolinecolor\":\"white\"},\"yaxis\":{\"backgroundcolor\":\"#E5ECF6\",\"gridcolor\":\"white\",\"gridwidth\":2,\"linecolor\":\"white\",\"showbackground\":true,\"ticks\":\"\",\"zerolinecolor\":\"white\"},\"zaxis\":{\"backgroundcolor\":\"#E5ECF6\",\"gridcolor\":\"white\",\"gridwidth\":2,\"linecolor\":\"white\",\"showbackground\":true,\"ticks\":\"\",\"zerolinecolor\":\"white\"}},\"shapedefaults\":{\"line\":{\"color\":\"#2a3f5f\"}},\"ternary\":{\"aaxis\":{\"gridcolor\":\"white\",\"linecolor\":\"white\",\"ticks\":\"\"},\"baxis\":{\"gridcolor\":\"white\",\"linecolor\":\"white\",\"ticks\":\"\"},\"bgcolor\":\"#E5ECF6\",\"caxis\":{\"gridcolor\":\"white\",\"linecolor\":\"white\",\"ticks\":\"\"}},\"title\":{\"x\":0.05},\"xaxis\":{\"automargin\":true,\"gridcolor\":\"white\",\"linecolor\":\"white\",\"ticks\":\"\",\"title\":{\"standoff\":15},\"zerolinecolor\":\"white\",\"zerolinewidth\":2},\"yaxis\":{\"automargin\":true,\"gridcolor\":\"white\",\"linecolor\":\"white\",\"ticks\":\"\",\"title\":{\"standoff\":15},\"zerolinecolor\":\"white\",\"zerolinewidth\":2}}},\"geo\":{\"scope\":\"usa\",\"showland\":true,\"landcolor\":\"rgb(243, 243, 243)\",\"countrycolor\":\"rgb(204, 204, 204)\"},\"title\":{\"text\":\"Input Map\"},\"showlegend\":true},                        {\"responsive\": true}                    ).then(function(){\n",
              "                            \n",
              "var gd = document.getElementById('4d557ad4-4447-4716-9daf-64bab2d9be5e');\n",
              "var x = new MutationObserver(function (mutations, observer) {{\n",
              "        var display = window.getComputedStyle(gd).display;\n",
              "        if (!display || display === 'none') {{\n",
              "            console.log([gd, 'removed!']);\n",
              "            Plotly.purge(gd);\n",
              "            observer.disconnect();\n",
              "        }}\n",
              "}});\n",
              "\n",
              "// Listen for the removal of the full notebook cells\n",
              "var notebookContainer = gd.closest('#notebook-container');\n",
              "if (notebookContainer) {{\n",
              "    x.observe(notebookContainer, {childList: true});\n",
              "}}\n",
              "\n",
              "// Listen for the clearing of the current output cell\n",
              "var outputEl = gd.closest('.output');\n",
              "if (outputEl) {{\n",
              "    x.observe(outputEl, {childList: true});\n",
              "}}\n",
              "\n",
              "                        })                };                            </script>        </div>\n",
              "</body>\n",
              "</html>"
            ]
          },
          "metadata": {}
        }
      ],
      "source": [
        "plot_network(locations, add_path=False, auto_open_map=False, title='Input Map',\n",
        "             open_map_in_cell=open_map_in_cell)"
      ]
    },
    {
      "cell_type": "markdown",
      "id": "regular-contribution",
      "metadata": {
        "id": "regular-contribution"
      },
      "source": [
        "# Network Optimization"
      ]
    },
    {
      "cell_type": "markdown",
      "id": "e03440f1",
      "metadata": {
        "id": "e03440f1"
      },
      "source": [
        "## Set up Data"
      ]
    },
    {
      "cell_type": "code",
      "execution_count": 11,
      "id": "c6c7699c",
      "metadata": {
        "ExecuteTime": {
          "end_time": "2022-04-15T04:23:49.924876Z",
          "start_time": "2022-04-15T04:23:49.919485Z"
        },
        "id": "c6c7699c"
      },
      "outputs": [],
      "source": [
        "def get_distance(orig_df, dest_df):\n",
        "    df = orig_df.merge(dest_df, how='cross').set_index(['Plant ID', 'Customer ID'])\n",
        "    df['Distance'] = df.apply(lambda r: calculate_distance_haversine(\n",
        "        r['Latitude_x'], r['Longitude_x'], r['Latitude_y'], r['Longitude_y']), axis=1)\n",
        "    return df"
      ]
    },
    {
      "cell_type": "code",
      "execution_count": 12,
      "id": "74cecbbc",
      "metadata": {
        "ExecuteTime": {
          "end_time": "2022-04-15T04:23:56.671898Z",
          "start_time": "2022-04-15T04:23:56.616179Z"
        },
        "id": "74cecbbc"
      },
      "outputs": [],
      "source": [
        "dist = get_distance(plant_df, cust_df)\n",
        "dmd = cust_df.set_index(['Customer ID'])\n",
        "\n",
        "# Sets\n",
        "plnt = plant_df['Plant ID'].unique()  # I\n",
        "cust = cust_df['Customer ID'].unique() # J\n",
        "ij_set = set((i, j) for i in plnt for j in cust)  # Pair of I,J. Created to avoid repetition in the code"
      ]
    },
    {
      "cell_type": "markdown",
      "id": "00593f48",
      "metadata": {
        "id": "00593f48"
      },
      "source": [
        "## Define Optimization Model"
      ]
    },
    {
      "cell_type": "code",
      "execution_count": 13,
      "id": "0a01c968",
      "metadata": {
        "ExecuteTime": {
          "end_time": "2022-04-15T04:27:40.326376Z",
          "start_time": "2022-04-15T04:27:39.898055Z"
        },
        "id": "0a01c968",
        "outputId": "4c4a01d6-d93b-4789-dd25-d8cfe8188130",
        "colab": {
          "base_uri": "https://localhost:8080/"
        }
      },
      "outputs": [
        {
          "output_type": "stream",
          "name": "stdout",
          "text": [
            "Restricted license - for non-production use only - expires 2023-10-25\n",
            "Gurobi Optimizer version 9.5.1 build v9.5.1rc2 (linux64)\n",
            "Thread count: 1 physical cores, 2 logical processors, using up to 2 threads\n",
            "Optimize a model with 1601 rows, 1515 columns and 4515 nonzeros\n",
            "Model fingerprint: 0x5be13ee6\n",
            "Variable types: 0 continuous, 1515 integer (1515 binary)\n",
            "Coefficient statistics:\n",
            "  Matrix range     [1e+00, 1e+00]\n",
            "  Objective range  [1e+04, 2e+07]\n",
            "  Bounds range     [1e+00, 1e+00]\n",
            "  RHS range        [1e+00, 3e+00]\n",
            "Presolve time: 0.02s\n",
            "Presolved: 1601 rows, 1515 columns, 4515 nonzeros\n",
            "Variable types: 0 continuous, 1515 integer (1515 binary)\n",
            "Found heuristic solution: objective 1.149150e+08\n",
            "\n",
            "Root relaxation: objective 6.223127e+07, 577 iterations, 0.01 seconds (0.01 work units)\n",
            "\n",
            "    Nodes    |    Current Node    |     Objective Bounds      |     Work\n",
            " Expl Unexpl |  Obj  Depth IntInf | Incumbent    BestBd   Gap | It/Node Time\n",
            "\n",
            "*    0     0               0    6.223127e+07 6.2231e+07  0.00%     -    0s\n",
            "\n",
            "Explored 1 nodes (577 simplex iterations) in 0.07 seconds (0.02 work units)\n",
            "Thread count was 2 (of 2 available processors)\n",
            "\n",
            "Solution count 2: 6.22313e+07 1.14915e+08 \n",
            "\n",
            "Optimal solution found (tolerance 1.00e-04)\n",
            "Best objective 6.223126727168e+07, best bound 6.223126727168e+07, gap 0.0000%\n",
            "The solution is optimal and the objective value is: 62,231,267\n"
          ]
        }
      ],
      "source": [
        "# Model\n",
        "mdl = gp.Model('net_optimization')\n",
        "\n",
        "# Variables\n",
        "x = mdl.addVars(plnt, vtype=GRB.BINARY, name='x')\n",
        "y = mdl.addVars(plnt, cust, vtype=GRB.BINARY, name='y')\n",
        "\n",
        "# Constraints\n",
        "# 1. Every customer must be assigned to one plant\n",
        "# sum_{i} y_{ij} = 1    for all j\n",
        "mdl.addConstrs((y.sum('*', j) == 1 for j in cust), 'cust_coverage')\n",
        "\n",
        "# 2. We can use maximum P plants\n",
        "# sum_{i} x_{i} <= P\n",
        "mdl.addConstr(x.sum() <= max_plants, 'max_num_plants')\n",
        "\n",
        "# 3. Cant serve a customer from a plant if it's not used\n",
        "# y_{ij} <= x_{i}    for all i, j\n",
        "mdl.addConstrs((y[i, j] <= x[i] for (i, j) in ij_set), 'rel_x_y')\n",
        "\n",
        "# Objective function: minimize total weighted distance\n",
        "# sum_{ij} q_{j}*d_{ij}*y_{ij}\n",
        "total_weighted_dist = gp.quicksum(dist.loc[i, j]['Distance'] * dmd.loc[j]['Demand'] * y[i, j]\n",
        "                                  for (i, j) in ij_set)\n",
        "mdl.setObjective(total_weighted_dist, GRB.MINIMIZE)\n",
        "mdl.setParam(GRB.Param.OutputFlag, 1)  # enables or disables solver output\n",
        "mdl.optimize()\n",
        "status = mdl.status\n",
        "if status in (GRB.INF_OR_UNBD, GRB.INFEASIBLE, GRB.UNBOUNDED):\n",
        "    print('The model is either infeasible or unbounded!')\n",
        "    sys.exit(1)\n",
        "elif status == GRB.OPTIMAL:\n",
        "    print(f'The solution is optimal and the objective value is: {mdl.objVal:,.0f}')\n",
        "else:\n",
        "    print(f'Status is {status}. Investigate!')\n",
        "    sys.exit(1)"
      ]
    },
    {
      "cell_type": "markdown",
      "id": "01ae6a60",
      "metadata": {
        "heading_collapsed": true,
        "id": "01ae6a60"
      },
      "source": [
        "# Generate Outputs"
      ]
    },
    {
      "cell_type": "code",
      "execution_count": 14,
      "id": "b5dbab49",
      "metadata": {
        "ExecuteTime": {
          "end_time": "2022-04-15T04:27:53.881407Z",
          "start_time": "2022-04-15T04:27:53.862783Z"
        },
        "hidden": true,
        "id": "b5dbab49"
      },
      "outputs": [],
      "source": [
        "def generate_outputs(plant_df, cust_df, dist, dmd, total_weighted_dist, x, y):\n",
        "    print('=' * 40)\n",
        "    assigned_list = [k for k, v in y.items() if v.x > 0.5]\n",
        "    assigned_df = pd.DataFrame(assigned_list, columns=['Plant ID', 'Customer ID'])\n",
        "    _opt_plants = [plant_df.loc[plant_df['Plant ID'] == k, 'City'].iloc[0]\n",
        "                   for k, v in x.items() if v.x > 0.5]\n",
        "    print(f'Selected plants are in: {\", \".join(str(_) for _ in _opt_plants)}')\n",
        "    adf = pd.merge(assigned_df, dmd[['Demand']], how='inner',\n",
        "                   left_on='Customer ID', right_index=True)\n",
        "    adf = pd.merge(adf.set_index(['Plant ID', 'Customer ID']), dist[['Distance']],\n",
        "                   how='inner', left_index=True, right_index=True).reset_index()\n",
        "    adf['Within400'] = [True if x <= 400 else False for x in adf['Distance']]\n",
        "    adf['Within800'] = [True if x <= 800 else False for x in adf['Distance']]\n",
        "    adf['Within1200'] = [True if x <= 1200 else False for x in adf['Distance']]\n",
        "    total_dmd = adf['Demand'].sum()\n",
        "    weighted_avg_dist = total_weighted_dist.getValue() / total_dmd\n",
        "    print(f'Weighted Average Distance: {weighted_avg_dist:,.1f}')\n",
        "    pct_dmd_within400 = adf.loc[adf['Within400'], 'Demand'].sum() / total_dmd\n",
        "    pct_dmd_within800 = adf.loc[adf['Within800'], 'Demand'].sum() / total_dmd\n",
        "    pct_dmd_within1200 = adf.loc[adf['Within1200'], 'Demand'].sum() / total_dmd\n",
        "    print(f'Total demand: {total_dmd:,.0f}')\n",
        "    print(f'Percentages of demand within 400 miles of a plant: {pct_dmd_within400 * 100:,.2f}%')\n",
        "    print(f'Percentages of demand within 800 miles of a plant: {pct_dmd_within800 * 100:,.2f}%')\n",
        "    print(f'Percentages of demand within 1200 miles of a plant: {pct_dmd_within1200 * 100:,.2f}%')\n",
        "    print('=' * 40)\n",
        "    # Create the set of lanes\n",
        "    lanes = pd.merge(assigned_df, dmd[['Demand']], how='inner',\n",
        "                     left_on='Customer ID', right_index=True)\n",
        "    lanes['Lane'] = lanes['Plant ID'].map(str) + '-' + lanes['Customer ID'].map(str)\n",
        "    lanes = lanes[['Plant ID', 'Customer ID', 'Demand', 'Lane']].merge(\n",
        "        cust_df[['Customer ID', 'Customer Name', 'Latitude', 'Longitude']], on='Customer ID')\n",
        "    lanes.rename(columns={'Latitude': 'Dest Lat', 'Longitude': 'Dest Lon'}, inplace=True)\n",
        "    lanes = lanes.merge(plant_df[['Plant ID', 'Plant Name', 'Latitude', 'Longitude']], on='Plant ID')\n",
        "    lanes.rename(columns={'Latitude': 'Origin Lat', 'Longitude': 'Origin Lon',\n",
        "                          'Plant Name': 'Origin', 'Customer Name': 'Destination'}, inplace=True)\n",
        "    lanes = lanes[['Lane', 'Origin', 'Destination', 'Demand', 'Plant ID',\n",
        "                   'Origin Lat', 'Origin Lon', 'Customer ID', 'Dest Lat', 'Dest Lon']].drop_duplicates()\n",
        "    return lanes"
      ]
    },
    {
      "cell_type": "code",
      "execution_count": 15,
      "id": "6441a1c0",
      "metadata": {
        "ExecuteTime": {
          "end_time": "2022-04-15T04:27:58.088614Z",
          "start_time": "2022-04-15T04:27:58.048129Z"
        },
        "hidden": true,
        "id": "6441a1c0",
        "outputId": "b1be1b66-343d-4421-a7bc-7e79fbf13479",
        "colab": {
          "base_uri": "https://localhost:8080/"
        }
      },
      "outputs": [
        {
          "output_type": "stream",
          "name": "stdout",
          "text": [
            "========================================\n",
            "Selected plants are in: Phoenix, Louisville, New York City\n",
            "Weighted Average Distance: 367.9\n",
            "Total demand: 169,160\n",
            "Percentages of demand within 400 miles of a plant: 67.39%\n",
            "Percentages of demand within 800 miles of a plant: 90.62%\n",
            "Percentages of demand within 1200 miles of a plant: 100.00%\n",
            "========================================\n"
          ]
        }
      ],
      "source": [
        "lanes = generate_outputs(plant_df, cust_df, dist, dmd, total_weighted_dist, x, y)"
      ]
    },
    {
      "cell_type": "markdown",
      "id": "a2f466d7",
      "metadata": {
        "hidden": true,
        "id": "a2f466d7"
      },
      "source": [
        "## Plot Output Map"
      ]
    },
    {
      "cell_type": "code",
      "execution_count": 16,
      "id": "b34e2b00",
      "metadata": {
        "ExecuteTime": {
          "end_time": "2022-04-15T04:28:25.415696Z",
          "start_time": "2022-04-15T04:28:25.295560Z"
        },
        "hidden": true,
        "id": "b34e2b00",
        "outputId": "92bac04d-ddb1-41a9-cd6b-7bc5cd85228f",
        "colab": {
          "base_uri": "https://localhost:8080/",
          "height": 542
        }
      },
      "outputs": [
        {
          "output_type": "display_data",
          "data": {
            "text/html": [
              "<html>\n",
              "<head><meta charset=\"utf-8\" /></head>\n",
              "<body>\n",
              "    <div>            <script src=\"https://cdnjs.cloudflare.com/ajax/libs/mathjax/2.7.5/MathJax.js?config=TeX-AMS-MML_SVG\"></script><script type=\"text/javascript\">if (window.MathJax) {MathJax.Hub.Config({SVG: {font: \"STIX-Web\"}});}</script>                <script type=\"text/javascript\">window.PlotlyConfig = {MathJaxConfig: 'local'};</script>\n",
              "        <script src=\"https://cdn.plot.ly/plotly-2.8.3.min.js\"></script>                <div id=\"cffc2839-c58d-450a-8c5b-1c947bcc06a1\" class=\"plotly-graph-div\" style=\"height:525px; width:100%;\"></div>            <script type=\"text/javascript\">                                    window.PLOTLYENV=window.PLOTLYENV || {};                                    if (document.getElementById(\"cffc2839-c58d-450a-8c5b-1c947bcc06a1\")) {                    Plotly.newPlot(                        \"cffc2839-c58d-450a-8c5b-1c947bcc06a1\",                        [{\"lat\":[33.451015,38.253601,40.75012],\"lon\":[-112.068554,-85.768124,-73.997846],\"marker\":{\"color\":[\"blue\",\"blue\",\"blue\"],\"line\":{\"color\":\"rgba(68, 68, 68, 0)\",\"width\":3},\"size\":[20,20,20],\"symbol\":[\"triangle-up\",\"triangle-up\",\"triangle-up\"]},\"name\":\"Plant\",\"text\":[\"Phoenix Plant\",\"Louisville Plant\",\"New York City Plant\"],\"type\":\"scattergeo\"},{\"lat\":[36.749611,33.844425,33.974044,37.386691,33.994941,38.585076,32.216256,36.17269,45.498251,34.345883,31.760613,47.253432,32.724693,29.469324,33.451015,47.611601,35.384352,37.777255,30.270515,40.755074,39.75071,35.082729,37.779887,39.80006,44.985775,34.198188,34.893261,38.253601,30.449314,39.103883,33.753693,27.95454,41.586162,36.070061,41.263251,35.946445,39.10663,41.645022,38.631358,39.758119,28.541627,30.340415,43.037602,32.466926,26.121066,32.75826,32.787642,35.033731,34.747348,44.065571,37.215347,42.346577,29.956664,35.467763,39.77422,40.099395,34.847881,41.491407,33.518634,26.345694,31.575993,41.043696,36.149273,41.099765,29.757317,36.164003,41.88331,35.194361,42.965899,25.778271,42.896219,36.852105,43.1683,42.65287,41.30758,40.75012,40.602812,41.817904,39.728445,42.526891,43.04335,40.735652,41.789,35.659441,41.358057,40.857466,43.661941,40.333745,40.264554,39.961558,42.105997,34.677074,40.574084,39.294398,40.474802,37.538812,34.274429,38.910004,35.773856,42.36097],\"lon\":[-119.786244,-117.951222,-118.248849,-121.89705,-117.372528,-121.491186,-110.970728,-115.121117,-122.692496,-119.328846,-106.47948,-122.435514,-117.164885,-98.527988,-112.068554,-122.333038,-119.019342,-122.217025,-97.74218,-111.89849,-104.996225,-106.646276,-122.418066,-89.647829,-93.270165,-79.826641,-87.637505,-85.768124,-91.187593,-94.600613,-84.389544,-82.45734,-87.319082,-79.766346,-95.932956,-84.022857,-84.49974,-83.548348,-90.192246,-84.1879,-81.37397,-81.830904,-87.916246,-84.980818,-80.127818,-97.32787,-96.799525,-89.934319,-92.278932,-92.51005,-93.294978,-83.059731,-90.077506,-97.520977,-86.109309,-83.016823,-82.403745,-81.671411,-86.808862,-80.084229,-84.154368,-81.524301,-95.975637,-80.64936,-95.365005,-86.7745,-87.624713,-80.826397,-85.654579,-80.198105,-78.884649,-76.292507,-77.60262,-73.74868,-72.92471,-73.997846,-75.470433,-71.409316,-75.537257,-73.609283,-76.15084,-74.17309,-72.666218,-77.397427,-75.70249,-74.128618,-70.259388,-73.982438,-76.880588,-75.199624,-72.597915,-77.521398,-74.5012,-76.622747,-79.95449,-77.436395,-77.964032,-77.017989,-78.634051,-71.05344],\"marker\":{\"color\":[\"orange\",\"orange\",\"orange\",\"orange\",\"orange\",\"orange\",\"orange\",\"orange\",\"orange\",\"orange\",\"orange\",\"orange\",\"orange\",\"orange\",\"orange\",\"orange\",\"orange\",\"orange\",\"orange\",\"orange\",\"orange\",\"orange\",\"orange\",\"orange\",\"orange\",\"orange\",\"orange\",\"orange\",\"orange\",\"orange\",\"orange\",\"orange\",\"orange\",\"orange\",\"orange\",\"orange\",\"orange\",\"orange\",\"orange\",\"orange\",\"orange\",\"orange\",\"orange\",\"orange\",\"orange\",\"orange\",\"orange\",\"orange\",\"orange\",\"orange\",\"orange\",\"orange\",\"orange\",\"orange\",\"orange\",\"orange\",\"orange\",\"orange\",\"orange\",\"orange\",\"orange\",\"orange\",\"orange\",\"orange\",\"orange\",\"orange\",\"orange\",\"orange\",\"orange\",\"orange\",\"orange\",\"orange\",\"orange\",\"orange\",\"orange\",\"orange\",\"orange\",\"orange\",\"orange\",\"orange\",\"orange\",\"orange\",\"orange\",\"orange\",\"orange\",\"orange\",\"orange\",\"orange\",\"orange\",\"orange\",\"orange\",\"orange\",\"orange\",\"orange\",\"orange\",\"orange\",\"orange\",\"orange\",\"orange\",\"orange\"],\"line\":{\"color\":\"rgba(68, 68, 68, 0)\",\"width\":3},\"size\":[8,8,8,8,8,8,8,8,8,8,8,8,8,8,8,8,8,8,8,8,8,8,8,8,8,8,8,8,8,8,8,8,8,8,8,8,8,8,8,8,8,8,8,8,8,8,8,8,8,8,8,8,8,8,8,8,8,8,8,8,8,8,8,8,8,8,8,8,8,8,8,8,8,8,8,8,8,8,8,8,8,8,8,8,8,8,8,8,8,8,8,8,8,8,8,8,8,8,8,8],\"symbol\":[\"circle\",\"circle\",\"circle\",\"circle\",\"circle\",\"circle\",\"circle\",\"circle\",\"circle\",\"circle\",\"circle\",\"circle\",\"circle\",\"circle\",\"circle\",\"circle\",\"circle\",\"circle\",\"circle\",\"circle\",\"circle\",\"circle\",\"circle\",\"circle\",\"circle\",\"circle\",\"circle\",\"circle\",\"circle\",\"circle\",\"circle\",\"circle\",\"circle\",\"circle\",\"circle\",\"circle\",\"circle\",\"circle\",\"circle\",\"circle\",\"circle\",\"circle\",\"circle\",\"circle\",\"circle\",\"circle\",\"circle\",\"circle\",\"circle\",\"circle\",\"circle\",\"circle\",\"circle\",\"circle\",\"circle\",\"circle\",\"circle\",\"circle\",\"circle\",\"circle\",\"circle\",\"circle\",\"circle\",\"circle\",\"circle\",\"circle\",\"circle\",\"circle\",\"circle\",\"circle\",\"circle\",\"circle\",\"circle\",\"circle\",\"circle\",\"circle\",\"circle\",\"circle\",\"circle\",\"circle\",\"circle\",\"circle\",\"circle\",\"circle\",\"circle\",\"circle\",\"circle\",\"circle\",\"circle\",\"circle\",\"circle\",\"circle\",\"circle\",\"circle\",\"circle\",\"circle\",\"circle\",\"circle\",\"circle\",\"circle\"]},\"name\":\"Customer\",\"text\":[\"Fresno Customer\",\"Orange Customer\",\"Los Angeles Customer\",\"San Jose Customer\",\"Riverside Customer\",\"Sacramento Customer\",\"Tucson Customer\",\"Las Vegas Customer\",\"Portland Customer\",\"Ventura Customer\",\"El Paso Customer\",\"Tacoma Customer\",\"San Diego Customer\",\"San Antonio Customer\",\"Phoenix Customer\",\"Seattle Customer\",\"Bakersfield Customer\",\"Oakland Customer\",\"Austin Customer\",\"Salt Lake City Customer\",\"Denver Customer\",\"Albuquerque Customer\",\"San Francisco Customer\",\"Springfield Customer\",\"Minneapolis Customer\",\"Florence Customer\",\"Florence Customer\",\"Louisville Customer\",\"Baton Rouge Customer\",\"Kansas City Customer\",\"Atlanta Customer\",\"Tampa Customer\",\"Gary Customer\",\"Greensboro Customer\",\"Omaha Customer\",\"Knoxville Customer\",\"Cincinnati Customer\",\"Toledo Customer\",\"St. Louis Customer\",\"Dayton Customer\",\"Orlando Customer\",\"Jacksonville Customer\",\"Milwaukee Customer\",\"Columbus Customer\",\"Fort Lauderdale Customer\",\"Fort Worth Customer\",\"Dallas Customer\",\"Memphis Customer\",\"Little Rock Customer\",\"Rochester Customer\",\"Springfield Customer\",\"Detroit Customer\",\"New Orleans Customer\",\"Oklahoma City Customer\",\"Indianapolis Customer\",\"Columbus Customer\",\"Greenville Customer\",\"Cleveland Customer\",\"Birmingham Customer\",\"West Palm Beach Customer\",\"Albany Customer\",\"Akron Customer\",\"Tulsa Customer\",\"Youngstown Customer\",\"Houston Customer\",\"Nashville Customer\",\"Chicago Customer\",\"Charlotte Customer\",\"Grand Rapids Customer\",\"Miami Customer\",\"Buffalo Customer\",\"Norfolk Customer\",\"Rochester Customer\",\"Albany Customer\",\"New Haven Customer\",\"New York City Customer\",\"Allentown Customer\",\"Providence Customer\",\"Wilmington Customer\",\"Nassau-Suffolk Customer\",\"Syracuse Customer\",\"Newark Customer\",\"Hartford Customer\",\"Greenville Customer\",\"Scranton Customer\",\"Bergen Customer\",\"Portland Customer\",\"Monmouth Customer\",\"Harrisburg Customer\",\"Philadelphia Customer\",\"Springfield Customer\",\"Jacksonville Customer\",\"Middlesex Customer\",\"Baltimore Customer\",\"Pittsburgh Customer\",\"Richmond Customer\",\"Wilmington Customer\",\"Washington Customer\",\"Raleigh Customer\",\"Boston Customer\"],\"type\":\"scattergeo\"},{\"lat\":[33.451015,36.749611],\"line\":{\"color\":\"green\",\"width\":2},\"lon\":[-112.068554,-119.786244],\"mode\":\"lines\",\"opacity\":0.8,\"showlegend\":false,\"type\":\"scattergeo\"},{\"lat\":[33.451015,33.844425],\"line\":{\"color\":\"green\",\"width\":2},\"lon\":[-112.068554,-117.951222],\"mode\":\"lines\",\"opacity\":0.8,\"showlegend\":false,\"type\":\"scattergeo\"},{\"lat\":[33.451015,33.974044],\"line\":{\"color\":\"green\",\"width\":2},\"lon\":[-112.068554,-118.248849],\"mode\":\"lines\",\"opacity\":0.8,\"showlegend\":false,\"type\":\"scattergeo\"},{\"lat\":[33.451015,37.386691],\"line\":{\"color\":\"green\",\"width\":2},\"lon\":[-112.068554,-121.89705],\"mode\":\"lines\",\"opacity\":0.8,\"showlegend\":false,\"type\":\"scattergeo\"},{\"lat\":[33.451015,33.994941],\"line\":{\"color\":\"green\",\"width\":2},\"lon\":[-112.068554,-117.372528],\"mode\":\"lines\",\"opacity\":0.8,\"showlegend\":false,\"type\":\"scattergeo\"},{\"lat\":[33.451015,38.585076],\"line\":{\"color\":\"green\",\"width\":2},\"lon\":[-112.068554,-121.491186],\"mode\":\"lines\",\"opacity\":0.8,\"showlegend\":false,\"type\":\"scattergeo\"},{\"lat\":[33.451015,32.216256],\"line\":{\"color\":\"green\",\"width\":2},\"lon\":[-112.068554,-110.970728],\"mode\":\"lines\",\"opacity\":0.8,\"showlegend\":false,\"type\":\"scattergeo\"},{\"lat\":[33.451015,36.17269],\"line\":{\"color\":\"green\",\"width\":2},\"lon\":[-112.068554,-115.121117],\"mode\":\"lines\",\"opacity\":0.8,\"showlegend\":false,\"type\":\"scattergeo\"},{\"lat\":[33.451015,45.498251],\"line\":{\"color\":\"green\",\"width\":2},\"lon\":[-112.068554,-122.692496],\"mode\":\"lines\",\"opacity\":0.8,\"showlegend\":false,\"type\":\"scattergeo\"},{\"lat\":[33.451015,34.345883],\"line\":{\"color\":\"green\",\"width\":2},\"lon\":[-112.068554,-119.328846],\"mode\":\"lines\",\"opacity\":0.8,\"showlegend\":false,\"type\":\"scattergeo\"},{\"lat\":[33.451015,31.760613],\"line\":{\"color\":\"green\",\"width\":2},\"lon\":[-112.068554,-106.47948],\"mode\":\"lines\",\"opacity\":0.8,\"showlegend\":false,\"type\":\"scattergeo\"},{\"lat\":[33.451015,47.253432],\"line\":{\"color\":\"green\",\"width\":2},\"lon\":[-112.068554,-122.435514],\"mode\":\"lines\",\"opacity\":0.8,\"showlegend\":false,\"type\":\"scattergeo\"},{\"lat\":[33.451015,32.724693],\"line\":{\"color\":\"green\",\"width\":2},\"lon\":[-112.068554,-117.164885],\"mode\":\"lines\",\"opacity\":0.8,\"showlegend\":false,\"type\":\"scattergeo\"},{\"lat\":[33.451015,29.469324],\"line\":{\"color\":\"green\",\"width\":2},\"lon\":[-112.068554,-98.527988],\"mode\":\"lines\",\"opacity\":0.8,\"showlegend\":false,\"type\":\"scattergeo\"},{\"lat\":[33.451015,33.451015],\"line\":{\"color\":\"green\",\"width\":2},\"lon\":[-112.068554,-112.068554],\"mode\":\"lines\",\"opacity\":0.8,\"showlegend\":false,\"type\":\"scattergeo\"},{\"lat\":[33.451015,47.611601],\"line\":{\"color\":\"green\",\"width\":2},\"lon\":[-112.068554,-122.333038],\"mode\":\"lines\",\"opacity\":0.8,\"showlegend\":false,\"type\":\"scattergeo\"},{\"lat\":[33.451015,35.384352],\"line\":{\"color\":\"green\",\"width\":2},\"lon\":[-112.068554,-119.019342],\"mode\":\"lines\",\"opacity\":0.8,\"showlegend\":false,\"type\":\"scattergeo\"},{\"lat\":[33.451015,37.777255],\"line\":{\"color\":\"green\",\"width\":2},\"lon\":[-112.068554,-122.217025],\"mode\":\"lines\",\"opacity\":0.8,\"showlegend\":false,\"type\":\"scattergeo\"},{\"lat\":[33.451015,30.270515],\"line\":{\"color\":\"green\",\"width\":2},\"lon\":[-112.068554,-97.74218],\"mode\":\"lines\",\"opacity\":0.8,\"showlegend\":false,\"type\":\"scattergeo\"},{\"lat\":[33.451015,40.755074],\"line\":{\"color\":\"green\",\"width\":2},\"lon\":[-112.068554,-111.89849],\"mode\":\"lines\",\"opacity\":0.8,\"showlegend\":false,\"type\":\"scattergeo\"},{\"lat\":[33.451015,39.75071],\"line\":{\"color\":\"green\",\"width\":2},\"lon\":[-112.068554,-104.996225],\"mode\":\"lines\",\"opacity\":0.8,\"showlegend\":false,\"type\":\"scattergeo\"},{\"lat\":[33.451015,35.082729],\"line\":{\"color\":\"green\",\"width\":2},\"lon\":[-112.068554,-106.646276],\"mode\":\"lines\",\"opacity\":0.8,\"showlegend\":false,\"type\":\"scattergeo\"},{\"lat\":[33.451015,37.779887],\"line\":{\"color\":\"green\",\"width\":2},\"lon\":[-112.068554,-122.418066],\"mode\":\"lines\",\"opacity\":0.8,\"showlegend\":false,\"type\":\"scattergeo\"},{\"lat\":[38.253601,39.80006],\"line\":{\"color\":\"green\",\"width\":2},\"lon\":[-85.768124,-89.647829],\"mode\":\"lines\",\"opacity\":0.8,\"showlegend\":false,\"type\":\"scattergeo\"},{\"lat\":[38.253601,44.985775],\"line\":{\"color\":\"green\",\"width\":2},\"lon\":[-85.768124,-93.270165],\"mode\":\"lines\",\"opacity\":0.8,\"showlegend\":false,\"type\":\"scattergeo\"},{\"lat\":[38.253601,34.198188],\"line\":{\"color\":\"green\",\"width\":2},\"lon\":[-85.768124,-79.826641],\"mode\":\"lines\",\"opacity\":0.8,\"showlegend\":false,\"type\":\"scattergeo\"},{\"lat\":[38.253601,34.893261],\"line\":{\"color\":\"green\",\"width\":2},\"lon\":[-85.768124,-87.637505],\"mode\":\"lines\",\"opacity\":0.8,\"showlegend\":false,\"type\":\"scattergeo\"},{\"lat\":[38.253601,38.253601],\"line\":{\"color\":\"green\",\"width\":2},\"lon\":[-85.768124,-85.768124],\"mode\":\"lines\",\"opacity\":0.8,\"showlegend\":false,\"type\":\"scattergeo\"},{\"lat\":[38.253601,30.449314],\"line\":{\"color\":\"green\",\"width\":2},\"lon\":[-85.768124,-91.187593],\"mode\":\"lines\",\"opacity\":0.8,\"showlegend\":false,\"type\":\"scattergeo\"},{\"lat\":[38.253601,39.103883],\"line\":{\"color\":\"green\",\"width\":2},\"lon\":[-85.768124,-94.600613],\"mode\":\"lines\",\"opacity\":0.8,\"showlegend\":false,\"type\":\"scattergeo\"},{\"lat\":[38.253601,33.753693],\"line\":{\"color\":\"green\",\"width\":2},\"lon\":[-85.768124,-84.389544],\"mode\":\"lines\",\"opacity\":0.8,\"showlegend\":false,\"type\":\"scattergeo\"},{\"lat\":[38.253601,27.95454],\"line\":{\"color\":\"green\",\"width\":2},\"lon\":[-85.768124,-82.45734],\"mode\":\"lines\",\"opacity\":0.8,\"showlegend\":false,\"type\":\"scattergeo\"},{\"lat\":[38.253601,41.586162],\"line\":{\"color\":\"green\",\"width\":2},\"lon\":[-85.768124,-87.319082],\"mode\":\"lines\",\"opacity\":0.8,\"showlegend\":false,\"type\":\"scattergeo\"},{\"lat\":[38.253601,36.070061],\"line\":{\"color\":\"green\",\"width\":2},\"lon\":[-85.768124,-79.766346],\"mode\":\"lines\",\"opacity\":0.8,\"showlegend\":false,\"type\":\"scattergeo\"},{\"lat\":[38.253601,41.263251],\"line\":{\"color\":\"green\",\"width\":2},\"lon\":[-85.768124,-95.932956],\"mode\":\"lines\",\"opacity\":0.8,\"showlegend\":false,\"type\":\"scattergeo\"},{\"lat\":[38.253601,35.946445],\"line\":{\"color\":\"green\",\"width\":2},\"lon\":[-85.768124,-84.022857],\"mode\":\"lines\",\"opacity\":0.8,\"showlegend\":false,\"type\":\"scattergeo\"},{\"lat\":[38.253601,39.10663],\"line\":{\"color\":\"green\",\"width\":2},\"lon\":[-85.768124,-84.49974],\"mode\":\"lines\",\"opacity\":0.8,\"showlegend\":false,\"type\":\"scattergeo\"},{\"lat\":[38.253601,41.645022],\"line\":{\"color\":\"green\",\"width\":2},\"lon\":[-85.768124,-83.548348],\"mode\":\"lines\",\"opacity\":0.8,\"showlegend\":false,\"type\":\"scattergeo\"},{\"lat\":[38.253601,38.631358],\"line\":{\"color\":\"green\",\"width\":2},\"lon\":[-85.768124,-90.192246],\"mode\":\"lines\",\"opacity\":0.8,\"showlegend\":false,\"type\":\"scattergeo\"},{\"lat\":[38.253601,39.758119],\"line\":{\"color\":\"green\",\"width\":2},\"lon\":[-85.768124,-84.1879],\"mode\":\"lines\",\"opacity\":0.8,\"showlegend\":false,\"type\":\"scattergeo\"},{\"lat\":[38.253601,28.541627],\"line\":{\"color\":\"green\",\"width\":2},\"lon\":[-85.768124,-81.37397],\"mode\":\"lines\",\"opacity\":0.8,\"showlegend\":false,\"type\":\"scattergeo\"},{\"lat\":[38.253601,30.340415],\"line\":{\"color\":\"green\",\"width\":2},\"lon\":[-85.768124,-81.830904],\"mode\":\"lines\",\"opacity\":0.8,\"showlegend\":false,\"type\":\"scattergeo\"},{\"lat\":[38.253601,43.037602],\"line\":{\"color\":\"green\",\"width\":2},\"lon\":[-85.768124,-87.916246],\"mode\":\"lines\",\"opacity\":0.8,\"showlegend\":false,\"type\":\"scattergeo\"},{\"lat\":[38.253601,32.466926],\"line\":{\"color\":\"green\",\"width\":2},\"lon\":[-85.768124,-84.980818],\"mode\":\"lines\",\"opacity\":0.8,\"showlegend\":false,\"type\":\"scattergeo\"},{\"lat\":[38.253601,26.121066],\"line\":{\"color\":\"green\",\"width\":2},\"lon\":[-85.768124,-80.127818],\"mode\":\"lines\",\"opacity\":0.8,\"showlegend\":false,\"type\":\"scattergeo\"},{\"lat\":[38.253601,32.75826],\"line\":{\"color\":\"green\",\"width\":2},\"lon\":[-85.768124,-97.32787],\"mode\":\"lines\",\"opacity\":0.8,\"showlegend\":false,\"type\":\"scattergeo\"},{\"lat\":[38.253601,32.787642],\"line\":{\"color\":\"green\",\"width\":2},\"lon\":[-85.768124,-96.799525],\"mode\":\"lines\",\"opacity\":0.8,\"showlegend\":false,\"type\":\"scattergeo\"},{\"lat\":[38.253601,35.033731],\"line\":{\"color\":\"green\",\"width\":2},\"lon\":[-85.768124,-89.934319],\"mode\":\"lines\",\"opacity\":0.8,\"showlegend\":false,\"type\":\"scattergeo\"},{\"lat\":[38.253601,34.747348],\"line\":{\"color\":\"green\",\"width\":2},\"lon\":[-85.768124,-92.278932],\"mode\":\"lines\",\"opacity\":0.8,\"showlegend\":false,\"type\":\"scattergeo\"},{\"lat\":[38.253601,44.065571],\"line\":{\"color\":\"green\",\"width\":2},\"lon\":[-85.768124,-92.51005],\"mode\":\"lines\",\"opacity\":0.8,\"showlegend\":false,\"type\":\"scattergeo\"},{\"lat\":[38.253601,37.215347],\"line\":{\"color\":\"green\",\"width\":2},\"lon\":[-85.768124,-93.294978],\"mode\":\"lines\",\"opacity\":0.8,\"showlegend\":false,\"type\":\"scattergeo\"},{\"lat\":[38.253601,42.346577],\"line\":{\"color\":\"green\",\"width\":2},\"lon\":[-85.768124,-83.059731],\"mode\":\"lines\",\"opacity\":0.8,\"showlegend\":false,\"type\":\"scattergeo\"},{\"lat\":[38.253601,29.956664],\"line\":{\"color\":\"green\",\"width\":2},\"lon\":[-85.768124,-90.077506],\"mode\":\"lines\",\"opacity\":0.8,\"showlegend\":false,\"type\":\"scattergeo\"},{\"lat\":[38.253601,35.467763],\"line\":{\"color\":\"green\",\"width\":2},\"lon\":[-85.768124,-97.520977],\"mode\":\"lines\",\"opacity\":0.8,\"showlegend\":false,\"type\":\"scattergeo\"},{\"lat\":[38.253601,39.77422],\"line\":{\"color\":\"green\",\"width\":2},\"lon\":[-85.768124,-86.109309],\"mode\":\"lines\",\"opacity\":0.8,\"showlegend\":false,\"type\":\"scattergeo\"},{\"lat\":[38.253601,40.099395],\"line\":{\"color\":\"green\",\"width\":2},\"lon\":[-85.768124,-83.016823],\"mode\":\"lines\",\"opacity\":0.8,\"showlegend\":false,\"type\":\"scattergeo\"},{\"lat\":[38.253601,34.847881],\"line\":{\"color\":\"green\",\"width\":2},\"lon\":[-85.768124,-82.403745],\"mode\":\"lines\",\"opacity\":0.8,\"showlegend\":false,\"type\":\"scattergeo\"},{\"lat\":[38.253601,41.491407],\"line\":{\"color\":\"green\",\"width\":2},\"lon\":[-85.768124,-81.671411],\"mode\":\"lines\",\"opacity\":0.8,\"showlegend\":false,\"type\":\"scattergeo\"},{\"lat\":[38.253601,33.518634],\"line\":{\"color\":\"green\",\"width\":2},\"lon\":[-85.768124,-86.808862],\"mode\":\"lines\",\"opacity\":0.8,\"showlegend\":false,\"type\":\"scattergeo\"},{\"lat\":[38.253601,26.345694],\"line\":{\"color\":\"green\",\"width\":2},\"lon\":[-85.768124,-80.084229],\"mode\":\"lines\",\"opacity\":0.8,\"showlegend\":false,\"type\":\"scattergeo\"},{\"lat\":[38.253601,31.575993],\"line\":{\"color\":\"green\",\"width\":2},\"lon\":[-85.768124,-84.154368],\"mode\":\"lines\",\"opacity\":0.8,\"showlegend\":false,\"type\":\"scattergeo\"},{\"lat\":[38.253601,41.043696],\"line\":{\"color\":\"green\",\"width\":2},\"lon\":[-85.768124,-81.524301],\"mode\":\"lines\",\"opacity\":0.8,\"showlegend\":false,\"type\":\"scattergeo\"},{\"lat\":[38.253601,36.149273],\"line\":{\"color\":\"green\",\"width\":2},\"lon\":[-85.768124,-95.975637],\"mode\":\"lines\",\"opacity\":0.8,\"showlegend\":false,\"type\":\"scattergeo\"},{\"lat\":[38.253601,41.099765],\"line\":{\"color\":\"green\",\"width\":2},\"lon\":[-85.768124,-80.64936],\"mode\":\"lines\",\"opacity\":0.8,\"showlegend\":false,\"type\":\"scattergeo\"},{\"lat\":[38.253601,29.757317],\"line\":{\"color\":\"green\",\"width\":2},\"lon\":[-85.768124,-95.365005],\"mode\":\"lines\",\"opacity\":0.8,\"showlegend\":false,\"type\":\"scattergeo\"},{\"lat\":[38.253601,36.164003],\"line\":{\"color\":\"green\",\"width\":2},\"lon\":[-85.768124,-86.7745],\"mode\":\"lines\",\"opacity\":0.8,\"showlegend\":false,\"type\":\"scattergeo\"},{\"lat\":[38.253601,41.88331],\"line\":{\"color\":\"green\",\"width\":2},\"lon\":[-85.768124,-87.624713],\"mode\":\"lines\",\"opacity\":0.8,\"showlegend\":false,\"type\":\"scattergeo\"},{\"lat\":[38.253601,35.194361],\"line\":{\"color\":\"green\",\"width\":2},\"lon\":[-85.768124,-80.826397],\"mode\":\"lines\",\"opacity\":0.8,\"showlegend\":false,\"type\":\"scattergeo\"},{\"lat\":[38.253601,42.965899],\"line\":{\"color\":\"green\",\"width\":2},\"lon\":[-85.768124,-85.654579],\"mode\":\"lines\",\"opacity\":0.8,\"showlegend\":false,\"type\":\"scattergeo\"},{\"lat\":[38.253601,25.778271],\"line\":{\"color\":\"green\",\"width\":2},\"lon\":[-85.768124,-80.198105],\"mode\":\"lines\",\"opacity\":0.8,\"showlegend\":false,\"type\":\"scattergeo\"},{\"lat\":[40.75012,42.896219],\"line\":{\"color\":\"green\",\"width\":2},\"lon\":[-73.997846,-78.884649],\"mode\":\"lines\",\"opacity\":0.8,\"showlegend\":false,\"type\":\"scattergeo\"},{\"lat\":[40.75012,36.852105],\"line\":{\"color\":\"green\",\"width\":2},\"lon\":[-73.997846,-76.292507],\"mode\":\"lines\",\"opacity\":0.8,\"showlegend\":false,\"type\":\"scattergeo\"},{\"lat\":[40.75012,43.1683],\"line\":{\"color\":\"green\",\"width\":2},\"lon\":[-73.997846,-77.60262],\"mode\":\"lines\",\"opacity\":0.8,\"showlegend\":false,\"type\":\"scattergeo\"},{\"lat\":[40.75012,42.65287],\"line\":{\"color\":\"green\",\"width\":2},\"lon\":[-73.997846,-73.74868],\"mode\":\"lines\",\"opacity\":0.8,\"showlegend\":false,\"type\":\"scattergeo\"},{\"lat\":[40.75012,41.30758],\"line\":{\"color\":\"green\",\"width\":2},\"lon\":[-73.997846,-72.92471],\"mode\":\"lines\",\"opacity\":0.8,\"showlegend\":false,\"type\":\"scattergeo\"},{\"lat\":[40.75012,40.75012],\"line\":{\"color\":\"green\",\"width\":2},\"lon\":[-73.997846,-73.997846],\"mode\":\"lines\",\"opacity\":0.8,\"showlegend\":false,\"type\":\"scattergeo\"},{\"lat\":[40.75012,40.602812],\"line\":{\"color\":\"green\",\"width\":2},\"lon\":[-73.997846,-75.470433],\"mode\":\"lines\",\"opacity\":0.8,\"showlegend\":false,\"type\":\"scattergeo\"},{\"lat\":[40.75012,41.817904],\"line\":{\"color\":\"green\",\"width\":2},\"lon\":[-73.997846,-71.409316],\"mode\":\"lines\",\"opacity\":0.8,\"showlegend\":false,\"type\":\"scattergeo\"},{\"lat\":[40.75012,39.728445],\"line\":{\"color\":\"green\",\"width\":2},\"lon\":[-73.997846,-75.537257],\"mode\":\"lines\",\"opacity\":0.8,\"showlegend\":false,\"type\":\"scattergeo\"},{\"lat\":[40.75012,42.526891],\"line\":{\"color\":\"green\",\"width\":2},\"lon\":[-73.997846,-73.609283],\"mode\":\"lines\",\"opacity\":0.8,\"showlegend\":false,\"type\":\"scattergeo\"},{\"lat\":[40.75012,43.04335],\"line\":{\"color\":\"green\",\"width\":2},\"lon\":[-73.997846,-76.15084],\"mode\":\"lines\",\"opacity\":0.8,\"showlegend\":false,\"type\":\"scattergeo\"},{\"lat\":[40.75012,40.735652],\"line\":{\"color\":\"green\",\"width\":2},\"lon\":[-73.997846,-74.17309],\"mode\":\"lines\",\"opacity\":0.8,\"showlegend\":false,\"type\":\"scattergeo\"},{\"lat\":[40.75012,41.789],\"line\":{\"color\":\"green\",\"width\":2},\"lon\":[-73.997846,-72.666218],\"mode\":\"lines\",\"opacity\":0.8,\"showlegend\":false,\"type\":\"scattergeo\"},{\"lat\":[40.75012,35.659441],\"line\":{\"color\":\"green\",\"width\":2},\"lon\":[-73.997846,-77.397427],\"mode\":\"lines\",\"opacity\":0.8,\"showlegend\":false,\"type\":\"scattergeo\"},{\"lat\":[40.75012,41.358057],\"line\":{\"color\":\"green\",\"width\":2},\"lon\":[-73.997846,-75.70249],\"mode\":\"lines\",\"opacity\":0.8,\"showlegend\":false,\"type\":\"scattergeo\"},{\"lat\":[40.75012,40.857466],\"line\":{\"color\":\"green\",\"width\":2},\"lon\":[-73.997846,-74.128618],\"mode\":\"lines\",\"opacity\":0.8,\"showlegend\":false,\"type\":\"scattergeo\"},{\"lat\":[40.75012,43.661941],\"line\":{\"color\":\"green\",\"width\":2},\"lon\":[-73.997846,-70.259388],\"mode\":\"lines\",\"opacity\":0.8,\"showlegend\":false,\"type\":\"scattergeo\"},{\"lat\":[40.75012,40.333745],\"line\":{\"color\":\"green\",\"width\":2},\"lon\":[-73.997846,-73.982438],\"mode\":\"lines\",\"opacity\":0.8,\"showlegend\":false,\"type\":\"scattergeo\"},{\"lat\":[40.75012,40.264554],\"line\":{\"color\":\"green\",\"width\":2},\"lon\":[-73.997846,-76.880588],\"mode\":\"lines\",\"opacity\":0.8,\"showlegend\":false,\"type\":\"scattergeo\"},{\"lat\":[40.75012,39.961558],\"line\":{\"color\":\"green\",\"width\":2},\"lon\":[-73.997846,-75.199624],\"mode\":\"lines\",\"opacity\":0.8,\"showlegend\":false,\"type\":\"scattergeo\"},{\"lat\":[40.75012,42.105997],\"line\":{\"color\":\"green\",\"width\":2},\"lon\":[-73.997846,-72.597915],\"mode\":\"lines\",\"opacity\":0.8,\"showlegend\":false,\"type\":\"scattergeo\"},{\"lat\":[40.75012,34.677074],\"line\":{\"color\":\"green\",\"width\":2},\"lon\":[-73.997846,-77.521398],\"mode\":\"lines\",\"opacity\":0.8,\"showlegend\":false,\"type\":\"scattergeo\"},{\"lat\":[40.75012,40.574084],\"line\":{\"color\":\"green\",\"width\":2},\"lon\":[-73.997846,-74.5012],\"mode\":\"lines\",\"opacity\":0.8,\"showlegend\":false,\"type\":\"scattergeo\"},{\"lat\":[40.75012,39.294398],\"line\":{\"color\":\"green\",\"width\":2},\"lon\":[-73.997846,-76.622747],\"mode\":\"lines\",\"opacity\":0.8,\"showlegend\":false,\"type\":\"scattergeo\"},{\"lat\":[40.75012,40.474802],\"line\":{\"color\":\"green\",\"width\":2},\"lon\":[-73.997846,-79.95449],\"mode\":\"lines\",\"opacity\":0.8,\"showlegend\":false,\"type\":\"scattergeo\"},{\"lat\":[40.75012,37.538812],\"line\":{\"color\":\"green\",\"width\":2},\"lon\":[-73.997846,-77.436395],\"mode\":\"lines\",\"opacity\":0.8,\"showlegend\":false,\"type\":\"scattergeo\"},{\"lat\":[40.75012,34.274429],\"line\":{\"color\":\"green\",\"width\":2},\"lon\":[-73.997846,-77.964032],\"mode\":\"lines\",\"opacity\":0.8,\"showlegend\":false,\"type\":\"scattergeo\"},{\"lat\":[40.75012,38.910004],\"line\":{\"color\":\"green\",\"width\":2},\"lon\":[-73.997846,-77.017989],\"mode\":\"lines\",\"opacity\":0.8,\"showlegend\":false,\"type\":\"scattergeo\"},{\"lat\":[40.75012,35.773856],\"line\":{\"color\":\"green\",\"width\":2},\"lon\":[-73.997846,-78.634051],\"mode\":\"lines\",\"opacity\":0.8,\"showlegend\":false,\"type\":\"scattergeo\"},{\"lat\":[40.75012,42.36097],\"line\":{\"color\":\"green\",\"width\":2},\"lon\":[-73.997846,-71.05344],\"mode\":\"lines\",\"opacity\":0.8,\"showlegend\":false,\"type\":\"scattergeo\"}],                        {\"template\":{\"data\":{\"bar\":[{\"error_x\":{\"color\":\"#2a3f5f\"},\"error_y\":{\"color\":\"#2a3f5f\"},\"marker\":{\"line\":{\"color\":\"#E5ECF6\",\"width\":0.5},\"pattern\":{\"fillmode\":\"overlay\",\"size\":10,\"solidity\":0.2}},\"type\":\"bar\"}],\"barpolar\":[{\"marker\":{\"line\":{\"color\":\"#E5ECF6\",\"width\":0.5},\"pattern\":{\"fillmode\":\"overlay\",\"size\":10,\"solidity\":0.2}},\"type\":\"barpolar\"}],\"carpet\":[{\"aaxis\":{\"endlinecolor\":\"#2a3f5f\",\"gridcolor\":\"white\",\"linecolor\":\"white\",\"minorgridcolor\":\"white\",\"startlinecolor\":\"#2a3f5f\"},\"baxis\":{\"endlinecolor\":\"#2a3f5f\",\"gridcolor\":\"white\",\"linecolor\":\"white\",\"minorgridcolor\":\"white\",\"startlinecolor\":\"#2a3f5f\"},\"type\":\"carpet\"}],\"choropleth\":[{\"colorbar\":{\"outlinewidth\":0,\"ticks\":\"\"},\"type\":\"choropleth\"}],\"contour\":[{\"colorbar\":{\"outlinewidth\":0,\"ticks\":\"\"},\"colorscale\":[[0.0,\"#0d0887\"],[0.1111111111111111,\"#46039f\"],[0.2222222222222222,\"#7201a8\"],[0.3333333333333333,\"#9c179e\"],[0.4444444444444444,\"#bd3786\"],[0.5555555555555556,\"#d8576b\"],[0.6666666666666666,\"#ed7953\"],[0.7777777777777778,\"#fb9f3a\"],[0.8888888888888888,\"#fdca26\"],[1.0,\"#f0f921\"]],\"type\":\"contour\"}],\"contourcarpet\":[{\"colorbar\":{\"outlinewidth\":0,\"ticks\":\"\"},\"type\":\"contourcarpet\"}],\"heatmap\":[{\"colorbar\":{\"outlinewidth\":0,\"ticks\":\"\"},\"colorscale\":[[0.0,\"#0d0887\"],[0.1111111111111111,\"#46039f\"],[0.2222222222222222,\"#7201a8\"],[0.3333333333333333,\"#9c179e\"],[0.4444444444444444,\"#bd3786\"],[0.5555555555555556,\"#d8576b\"],[0.6666666666666666,\"#ed7953\"],[0.7777777777777778,\"#fb9f3a\"],[0.8888888888888888,\"#fdca26\"],[1.0,\"#f0f921\"]],\"type\":\"heatmap\"}],\"heatmapgl\":[{\"colorbar\":{\"outlinewidth\":0,\"ticks\":\"\"},\"colorscale\":[[0.0,\"#0d0887\"],[0.1111111111111111,\"#46039f\"],[0.2222222222222222,\"#7201a8\"],[0.3333333333333333,\"#9c179e\"],[0.4444444444444444,\"#bd3786\"],[0.5555555555555556,\"#d8576b\"],[0.6666666666666666,\"#ed7953\"],[0.7777777777777778,\"#fb9f3a\"],[0.8888888888888888,\"#fdca26\"],[1.0,\"#f0f921\"]],\"type\":\"heatmapgl\"}],\"histogram\":[{\"marker\":{\"pattern\":{\"fillmode\":\"overlay\",\"size\":10,\"solidity\":0.2}},\"type\":\"histogram\"}],\"histogram2d\":[{\"colorbar\":{\"outlinewidth\":0,\"ticks\":\"\"},\"colorscale\":[[0.0,\"#0d0887\"],[0.1111111111111111,\"#46039f\"],[0.2222222222222222,\"#7201a8\"],[0.3333333333333333,\"#9c179e\"],[0.4444444444444444,\"#bd3786\"],[0.5555555555555556,\"#d8576b\"],[0.6666666666666666,\"#ed7953\"],[0.7777777777777778,\"#fb9f3a\"],[0.8888888888888888,\"#fdca26\"],[1.0,\"#f0f921\"]],\"type\":\"histogram2d\"}],\"histogram2dcontour\":[{\"colorbar\":{\"outlinewidth\":0,\"ticks\":\"\"},\"colorscale\":[[0.0,\"#0d0887\"],[0.1111111111111111,\"#46039f\"],[0.2222222222222222,\"#7201a8\"],[0.3333333333333333,\"#9c179e\"],[0.4444444444444444,\"#bd3786\"],[0.5555555555555556,\"#d8576b\"],[0.6666666666666666,\"#ed7953\"],[0.7777777777777778,\"#fb9f3a\"],[0.8888888888888888,\"#fdca26\"],[1.0,\"#f0f921\"]],\"type\":\"histogram2dcontour\"}],\"mesh3d\":[{\"colorbar\":{\"outlinewidth\":0,\"ticks\":\"\"},\"type\":\"mesh3d\"}],\"parcoords\":[{\"line\":{\"colorbar\":{\"outlinewidth\":0,\"ticks\":\"\"}},\"type\":\"parcoords\"}],\"pie\":[{\"automargin\":true,\"type\":\"pie\"}],\"scatter\":[{\"marker\":{\"colorbar\":{\"outlinewidth\":0,\"ticks\":\"\"}},\"type\":\"scatter\"}],\"scatter3d\":[{\"line\":{\"colorbar\":{\"outlinewidth\":0,\"ticks\":\"\"}},\"marker\":{\"colorbar\":{\"outlinewidth\":0,\"ticks\":\"\"}},\"type\":\"scatter3d\"}],\"scattercarpet\":[{\"marker\":{\"colorbar\":{\"outlinewidth\":0,\"ticks\":\"\"}},\"type\":\"scattercarpet\"}],\"scattergeo\":[{\"marker\":{\"colorbar\":{\"outlinewidth\":0,\"ticks\":\"\"}},\"type\":\"scattergeo\"}],\"scattergl\":[{\"marker\":{\"colorbar\":{\"outlinewidth\":0,\"ticks\":\"\"}},\"type\":\"scattergl\"}],\"scattermapbox\":[{\"marker\":{\"colorbar\":{\"outlinewidth\":0,\"ticks\":\"\"}},\"type\":\"scattermapbox\"}],\"scatterpolar\":[{\"marker\":{\"colorbar\":{\"outlinewidth\":0,\"ticks\":\"\"}},\"type\":\"scatterpolar\"}],\"scatterpolargl\":[{\"marker\":{\"colorbar\":{\"outlinewidth\":0,\"ticks\":\"\"}},\"type\":\"scatterpolargl\"}],\"scatterternary\":[{\"marker\":{\"colorbar\":{\"outlinewidth\":0,\"ticks\":\"\"}},\"type\":\"scatterternary\"}],\"surface\":[{\"colorbar\":{\"outlinewidth\":0,\"ticks\":\"\"},\"colorscale\":[[0.0,\"#0d0887\"],[0.1111111111111111,\"#46039f\"],[0.2222222222222222,\"#7201a8\"],[0.3333333333333333,\"#9c179e\"],[0.4444444444444444,\"#bd3786\"],[0.5555555555555556,\"#d8576b\"],[0.6666666666666666,\"#ed7953\"],[0.7777777777777778,\"#fb9f3a\"],[0.8888888888888888,\"#fdca26\"],[1.0,\"#f0f921\"]],\"type\":\"surface\"}],\"table\":[{\"cells\":{\"fill\":{\"color\":\"#EBF0F8\"},\"line\":{\"color\":\"white\"}},\"header\":{\"fill\":{\"color\":\"#C8D4E3\"},\"line\":{\"color\":\"white\"}},\"type\":\"table\"}]},\"layout\":{\"annotationdefaults\":{\"arrowcolor\":\"#2a3f5f\",\"arrowhead\":0,\"arrowwidth\":1},\"autotypenumbers\":\"strict\",\"coloraxis\":{\"colorbar\":{\"outlinewidth\":0,\"ticks\":\"\"}},\"colorscale\":{\"diverging\":[[0,\"#8e0152\"],[0.1,\"#c51b7d\"],[0.2,\"#de77ae\"],[0.3,\"#f1b6da\"],[0.4,\"#fde0ef\"],[0.5,\"#f7f7f7\"],[0.6,\"#e6f5d0\"],[0.7,\"#b8e186\"],[0.8,\"#7fbc41\"],[0.9,\"#4d9221\"],[1,\"#276419\"]],\"sequential\":[[0.0,\"#0d0887\"],[0.1111111111111111,\"#46039f\"],[0.2222222222222222,\"#7201a8\"],[0.3333333333333333,\"#9c179e\"],[0.4444444444444444,\"#bd3786\"],[0.5555555555555556,\"#d8576b\"],[0.6666666666666666,\"#ed7953\"],[0.7777777777777778,\"#fb9f3a\"],[0.8888888888888888,\"#fdca26\"],[1.0,\"#f0f921\"]],\"sequentialminus\":[[0.0,\"#0d0887\"],[0.1111111111111111,\"#46039f\"],[0.2222222222222222,\"#7201a8\"],[0.3333333333333333,\"#9c179e\"],[0.4444444444444444,\"#bd3786\"],[0.5555555555555556,\"#d8576b\"],[0.6666666666666666,\"#ed7953\"],[0.7777777777777778,\"#fb9f3a\"],[0.8888888888888888,\"#fdca26\"],[1.0,\"#f0f921\"]]},\"colorway\":[\"#636efa\",\"#EF553B\",\"#00cc96\",\"#ab63fa\",\"#FFA15A\",\"#19d3f3\",\"#FF6692\",\"#B6E880\",\"#FF97FF\",\"#FECB52\"],\"font\":{\"color\":\"#2a3f5f\"},\"geo\":{\"bgcolor\":\"white\",\"lakecolor\":\"white\",\"landcolor\":\"#E5ECF6\",\"showlakes\":true,\"showland\":true,\"subunitcolor\":\"white\"},\"hoverlabel\":{\"align\":\"left\"},\"hovermode\":\"closest\",\"mapbox\":{\"style\":\"light\"},\"paper_bgcolor\":\"white\",\"plot_bgcolor\":\"#E5ECF6\",\"polar\":{\"angularaxis\":{\"gridcolor\":\"white\",\"linecolor\":\"white\",\"ticks\":\"\"},\"bgcolor\":\"#E5ECF6\",\"radialaxis\":{\"gridcolor\":\"white\",\"linecolor\":\"white\",\"ticks\":\"\"}},\"scene\":{\"xaxis\":{\"backgroundcolor\":\"#E5ECF6\",\"gridcolor\":\"white\",\"gridwidth\":2,\"linecolor\":\"white\",\"showbackground\":true,\"ticks\":\"\",\"zerolinecolor\":\"white\"},\"yaxis\":{\"backgroundcolor\":\"#E5ECF6\",\"gridcolor\":\"white\",\"gridwidth\":2,\"linecolor\":\"white\",\"showbackground\":true,\"ticks\":\"\",\"zerolinecolor\":\"white\"},\"zaxis\":{\"backgroundcolor\":\"#E5ECF6\",\"gridcolor\":\"white\",\"gridwidth\":2,\"linecolor\":\"white\",\"showbackground\":true,\"ticks\":\"\",\"zerolinecolor\":\"white\"}},\"shapedefaults\":{\"line\":{\"color\":\"#2a3f5f\"}},\"ternary\":{\"aaxis\":{\"gridcolor\":\"white\",\"linecolor\":\"white\",\"ticks\":\"\"},\"baxis\":{\"gridcolor\":\"white\",\"linecolor\":\"white\",\"ticks\":\"\"},\"bgcolor\":\"#E5ECF6\",\"caxis\":{\"gridcolor\":\"white\",\"linecolor\":\"white\",\"ticks\":\"\"}},\"title\":{\"x\":0.05},\"xaxis\":{\"automargin\":true,\"gridcolor\":\"white\",\"linecolor\":\"white\",\"ticks\":\"\",\"title\":{\"standoff\":15},\"zerolinecolor\":\"white\",\"zerolinewidth\":2},\"yaxis\":{\"automargin\":true,\"gridcolor\":\"white\",\"linecolor\":\"white\",\"ticks\":\"\",\"title\":{\"standoff\":15},\"zerolinecolor\":\"white\",\"zerolinewidth\":2}}},\"geo\":{\"scope\":\"usa\",\"showland\":true,\"landcolor\":\"rgb(243, 243, 243)\",\"countrycolor\":\"rgb(204, 204, 204)\"},\"title\":{\"text\":\"Solution Map\"},\"showlegend\":true},                        {\"responsive\": true}                    ).then(function(){\n",
              "                            \n",
              "var gd = document.getElementById('cffc2839-c58d-450a-8c5b-1c947bcc06a1');\n",
              "var x = new MutationObserver(function (mutations, observer) {{\n",
              "        var display = window.getComputedStyle(gd).display;\n",
              "        if (!display || display === 'none') {{\n",
              "            console.log([gd, 'removed!']);\n",
              "            Plotly.purge(gd);\n",
              "            observer.disconnect();\n",
              "        }}\n",
              "}});\n",
              "\n",
              "// Listen for the removal of the full notebook cells\n",
              "var notebookContainer = gd.closest('#notebook-container');\n",
              "if (notebookContainer) {{\n",
              "    x.observe(notebookContainer, {childList: true});\n",
              "}}\n",
              "\n",
              "// Listen for the clearing of the current output cell\n",
              "var outputEl = gd.closest('.output');\n",
              "if (outputEl) {{\n",
              "    x.observe(outputEl, {childList: true});\n",
              "}}\n",
              "\n",
              "                        })                };                            </script>        </div>\n",
              "</body>\n",
              "</html>"
            ]
          },
          "metadata": {}
        }
      ],
      "source": [
        "plot_network(lanes, auto_open_map=False, title='Solution Map', open_map_in_cell=open_map_in_cell)"
      ]
    },
    {
      "cell_type": "markdown",
      "id": "7d348864",
      "metadata": {
        "id": "7d348864"
      },
      "source": [
        "# Additional Constraints"
      ]
    },
    {
      "cell_type": "markdown",
      "id": "a3a76ba7",
      "metadata": {
        "id": "a3a76ba7"
      },
      "source": [
        "- Users ask for flexibility of inclusion and exclusion of plants from the model\n",
        "- To handle this scenario, we add two more columns to \"Plants\" table; \"Must Use\" and \"Can Use\". \n",
        "- \"Must Use\" is to indicate whether a plant location must be used as a candidate. By default, there is no hard restriction for any plant.\n",
        "- \"Can Use\" is to indicate whether a plant location can or cannot be used as a candidate. By default, all plant locations can be used as a candidate location.\n",
        "\n",
        "We want to exclude one of the optimal locations from the solution. So, we need to set the \"Can Use\" value of that location to False.\n",
        "\n",
        "Let's change that for \"New York City\" in the input data."
      ]
    },
    {
      "cell_type": "code",
      "execution_count": 17,
      "id": "6b0a87f4",
      "metadata": {
        "ExecuteTime": {
          "end_time": "2022-04-15T04:28:49.817608Z",
          "start_time": "2022-04-15T04:28:49.794793Z"
        },
        "id": "6b0a87f4",
        "outputId": "59db4917-254d-4866-c7f4-3178b37adc55",
        "colab": {
          "base_uri": "https://localhost:8080/",
          "height": 206
        }
      },
      "outputs": [
        {
          "output_type": "execute_result",
          "data": {
            "text/plain": [
              "    Plant ID           Plant Name           City State  Zip Code Country  \\\n",
              "10        11        Memphis Plant        Memphis    TN     37501      US   \n",
              "11        12        Detroit Plant        Detroit    MI     48201      US   \n",
              "12        13         Boston Plant         Boston    MA      2101      US   \n",
              "13        14        Atlanta Plant        Atlanta    GA     30301      US   \n",
              "14        15  New York City Plant  New York City    NY     10001      US   \n",
              "\n",
              "     Latitude  Longitude  Must Use  Can Use  \n",
              "10  35.033731 -89.934319     False     True  \n",
              "11  42.346577 -83.059731     False     True  \n",
              "12  42.360970 -71.053440     False     True  \n",
              "13  33.753693 -84.389544     False     True  \n",
              "14  40.750120 -73.997846     False    False  "
            ],
            "text/html": [
              "\n",
              "  <div id=\"df-53580b37-37e0-484c-8cd9-06c550236370\">\n",
              "    <div class=\"colab-df-container\">\n",
              "      <div>\n",
              "<style scoped>\n",
              "    .dataframe tbody tr th:only-of-type {\n",
              "        vertical-align: middle;\n",
              "    }\n",
              "\n",
              "    .dataframe tbody tr th {\n",
              "        vertical-align: top;\n",
              "    }\n",
              "\n",
              "    .dataframe thead th {\n",
              "        text-align: right;\n",
              "    }\n",
              "</style>\n",
              "<table border=\"1\" class=\"dataframe\">\n",
              "  <thead>\n",
              "    <tr style=\"text-align: right;\">\n",
              "      <th></th>\n",
              "      <th>Plant ID</th>\n",
              "      <th>Plant Name</th>\n",
              "      <th>City</th>\n",
              "      <th>State</th>\n",
              "      <th>Zip Code</th>\n",
              "      <th>Country</th>\n",
              "      <th>Latitude</th>\n",
              "      <th>Longitude</th>\n",
              "      <th>Must Use</th>\n",
              "      <th>Can Use</th>\n",
              "    </tr>\n",
              "  </thead>\n",
              "  <tbody>\n",
              "    <tr>\n",
              "      <th>10</th>\n",
              "      <td>11</td>\n",
              "      <td>Memphis Plant</td>\n",
              "      <td>Memphis</td>\n",
              "      <td>TN</td>\n",
              "      <td>37501</td>\n",
              "      <td>US</td>\n",
              "      <td>35.033731</td>\n",
              "      <td>-89.934319</td>\n",
              "      <td>False</td>\n",
              "      <td>True</td>\n",
              "    </tr>\n",
              "    <tr>\n",
              "      <th>11</th>\n",
              "      <td>12</td>\n",
              "      <td>Detroit Plant</td>\n",
              "      <td>Detroit</td>\n",
              "      <td>MI</td>\n",
              "      <td>48201</td>\n",
              "      <td>US</td>\n",
              "      <td>42.346577</td>\n",
              "      <td>-83.059731</td>\n",
              "      <td>False</td>\n",
              "      <td>True</td>\n",
              "    </tr>\n",
              "    <tr>\n",
              "      <th>12</th>\n",
              "      <td>13</td>\n",
              "      <td>Boston Plant</td>\n",
              "      <td>Boston</td>\n",
              "      <td>MA</td>\n",
              "      <td>2101</td>\n",
              "      <td>US</td>\n",
              "      <td>42.360970</td>\n",
              "      <td>-71.053440</td>\n",
              "      <td>False</td>\n",
              "      <td>True</td>\n",
              "    </tr>\n",
              "    <tr>\n",
              "      <th>13</th>\n",
              "      <td>14</td>\n",
              "      <td>Atlanta Plant</td>\n",
              "      <td>Atlanta</td>\n",
              "      <td>GA</td>\n",
              "      <td>30301</td>\n",
              "      <td>US</td>\n",
              "      <td>33.753693</td>\n",
              "      <td>-84.389544</td>\n",
              "      <td>False</td>\n",
              "      <td>True</td>\n",
              "    </tr>\n",
              "    <tr>\n",
              "      <th>14</th>\n",
              "      <td>15</td>\n",
              "      <td>New York City Plant</td>\n",
              "      <td>New York City</td>\n",
              "      <td>NY</td>\n",
              "      <td>10001</td>\n",
              "      <td>US</td>\n",
              "      <td>40.750120</td>\n",
              "      <td>-73.997846</td>\n",
              "      <td>False</td>\n",
              "      <td>False</td>\n",
              "    </tr>\n",
              "  </tbody>\n",
              "</table>\n",
              "</div>\n",
              "      <button class=\"colab-df-convert\" onclick=\"convertToInteractive('df-53580b37-37e0-484c-8cd9-06c550236370')\"\n",
              "              title=\"Convert this dataframe to an interactive table.\"\n",
              "              style=\"display:none;\">\n",
              "        \n",
              "  <svg xmlns=\"http://www.w3.org/2000/svg\" height=\"24px\"viewBox=\"0 0 24 24\"\n",
              "       width=\"24px\">\n",
              "    <path d=\"M0 0h24v24H0V0z\" fill=\"none\"/>\n",
              "    <path d=\"M18.56 5.44l.94 2.06.94-2.06 2.06-.94-2.06-.94-.94-2.06-.94 2.06-2.06.94zm-11 1L8.5 8.5l.94-2.06 2.06-.94-2.06-.94L8.5 2.5l-.94 2.06-2.06.94zm10 10l.94 2.06.94-2.06 2.06-.94-2.06-.94-.94-2.06-.94 2.06-2.06.94z\"/><path d=\"M17.41 7.96l-1.37-1.37c-.4-.4-.92-.59-1.43-.59-.52 0-1.04.2-1.43.59L10.3 9.45l-7.72 7.72c-.78.78-.78 2.05 0 2.83L4 21.41c.39.39.9.59 1.41.59.51 0 1.02-.2 1.41-.59l7.78-7.78 2.81-2.81c.8-.78.8-2.07 0-2.86zM5.41 20L4 18.59l7.72-7.72 1.47 1.35L5.41 20z\"/>\n",
              "  </svg>\n",
              "      </button>\n",
              "      \n",
              "  <style>\n",
              "    .colab-df-container {\n",
              "      display:flex;\n",
              "      flex-wrap:wrap;\n",
              "      gap: 12px;\n",
              "    }\n",
              "\n",
              "    .colab-df-convert {\n",
              "      background-color: #E8F0FE;\n",
              "      border: none;\n",
              "      border-radius: 50%;\n",
              "      cursor: pointer;\n",
              "      display: none;\n",
              "      fill: #1967D2;\n",
              "      height: 32px;\n",
              "      padding: 0 0 0 0;\n",
              "      width: 32px;\n",
              "    }\n",
              "\n",
              "    .colab-df-convert:hover {\n",
              "      background-color: #E2EBFA;\n",
              "      box-shadow: 0px 1px 2px rgba(60, 64, 67, 0.3), 0px 1px 3px 1px rgba(60, 64, 67, 0.15);\n",
              "      fill: #174EA6;\n",
              "    }\n",
              "\n",
              "    [theme=dark] .colab-df-convert {\n",
              "      background-color: #3B4455;\n",
              "      fill: #D2E3FC;\n",
              "    }\n",
              "\n",
              "    [theme=dark] .colab-df-convert:hover {\n",
              "      background-color: #434B5C;\n",
              "      box-shadow: 0px 1px 3px 1px rgba(0, 0, 0, 0.15);\n",
              "      filter: drop-shadow(0px 1px 2px rgba(0, 0, 0, 0.3));\n",
              "      fill: #FFFFFF;\n",
              "    }\n",
              "  </style>\n",
              "\n",
              "      <script>\n",
              "        const buttonEl =\n",
              "          document.querySelector('#df-53580b37-37e0-484c-8cd9-06c550236370 button.colab-df-convert');\n",
              "        buttonEl.style.display =\n",
              "          google.colab.kernel.accessAllowed ? 'block' : 'none';\n",
              "\n",
              "        async function convertToInteractive(key) {\n",
              "          const element = document.querySelector('#df-53580b37-37e0-484c-8cd9-06c550236370');\n",
              "          const dataTable =\n",
              "            await google.colab.kernel.invokeFunction('convertToInteractive',\n",
              "                                                     [key], {});\n",
              "          if (!dataTable) return;\n",
              "\n",
              "          const docLinkHtml = 'Like what you see? Visit the ' +\n",
              "            '<a target=\"_blank\" href=https://colab.research.google.com/notebooks/data_table.ipynb>data table notebook</a>'\n",
              "            + ' to learn more about interactive tables.';\n",
              "          element.innerHTML = '';\n",
              "          dataTable['output_type'] = 'display_data';\n",
              "          await google.colab.output.renderOutput(dataTable, element);\n",
              "          const docLink = document.createElement('div');\n",
              "          docLink.innerHTML = docLinkHtml;\n",
              "          element.appendChild(docLink);\n",
              "        }\n",
              "      </script>\n",
              "    </div>\n",
              "  </div>\n",
              "  "
            ]
          },
          "metadata": {},
          "execution_count": 17
        }
      ],
      "source": [
        "plant_df.loc[plant_df['City'] == 'New York City', 'Can Use'] = False\n",
        "plant_df.iloc[10:25,:]  # investigate to make sure the change has happened"
      ]
    },
    {
      "cell_type": "markdown",
      "id": "fe3f3750",
      "metadata": {
        "id": "fe3f3750"
      },
      "source": [
        "We need two additional sets of constraints:\n",
        "- If a plant _must be used_, then variable $x_i$ for that plant must take a value of 1.\n",
        "- If a plant _cannot be used_, then variable $x_i$ for that plant must take a value of 0.\n",
        "\n",
        "Let's show _Must Use_ (or forced) plant locations with $FI$ set and _Cannot Use_ (or unavailable) plant locations with $UI$ set. The two new sets of constraints are:\n",
        "\n",
        "\\begin{align}\n",
        "&&x_{i} = 1 &\\quad \\forall i \\in FI\\\\\n",
        "&&x_{i} = 0 &\\quad \\forall i \\in UI\\\\\n",
        "\\end{align}"
      ]
    },
    {
      "cell_type": "code",
      "execution_count": 18,
      "id": "15d317f7",
      "metadata": {
        "ExecuteTime": {
          "end_time": "2022-04-15T04:29:54.109333Z",
          "start_time": "2022-04-15T04:29:54.050060Z"
        },
        "id": "15d317f7",
        "outputId": "385d05d8-f1d4-4974-d573-7b23f8bb02e7",
        "colab": {
          "base_uri": "https://localhost:8080/"
        }
      },
      "outputs": [
        {
          "output_type": "stream",
          "name": "stdout",
          "text": [
            "Gurobi Optimizer version 9.5.1 build v9.5.1rc2 (linux64)\n",
            "Thread count: 1 physical cores, 2 logical processors, using up to 2 threads\n",
            "Optimize a model with 1602 rows, 1515 columns and 4516 nonzeros\n",
            "Model fingerprint: 0xb4e4004c\n",
            "Variable types: 0 continuous, 1515 integer (1515 binary)\n",
            "Coefficient statistics:\n",
            "  Matrix range     [1e+00, 1e+00]\n",
            "  Objective range  [1e+04, 2e+07]\n",
            "  Bounds range     [1e+00, 1e+00]\n",
            "  RHS range        [1e+00, 3e+00]\n",
            "\n",
            "MIP start from previous solve did not produce a new incumbent solution\n",
            "MIP start from previous solve violates constraint cant_use[15] by 1.000000000\n",
            "\n",
            "Presolve removed 101 rows and 101 columns\n",
            "Presolve time: 0.02s\n",
            "Presolved: 1501 rows, 1414 columns, 4214 nonzeros\n",
            "Variable types: 0 continuous, 1414 integer (1414 binary)\n",
            "Found heuristic solution: objective 1.149150e+08\n",
            "\n",
            "Root relaxation: objective 6.390801e+07, 507 iterations, 0.01 seconds (0.01 work units)\n",
            "\n",
            "    Nodes    |    Current Node    |     Objective Bounds      |     Work\n",
            " Expl Unexpl |  Obj  Depth IntInf | Incumbent    BestBd   Gap | It/Node Time\n",
            "\n",
            "*    0     0               0    6.390801e+07 6.3908e+07  0.00%     -    0s\n",
            "\n",
            "Explored 1 nodes (507 simplex iterations) in 0.09 seconds (0.02 work units)\n",
            "Thread count was 2 (of 2 available processors)\n",
            "\n",
            "Solution count 2: 6.3908e+07 1.14915e+08 \n",
            "\n",
            "Optimal solution found (tolerance 1.00e-04)\n",
            "Best objective 6.390801471168e+07, best bound 6.390801471168e+07, gap 0.0000%\n",
            "The solution is optimal and the objective value is: 63,908,015\n"
          ]
        }
      ],
      "source": [
        "must_use_plants = plant_df.loc[plant_df['Must Use'], 'Plant ID'].to_list()  # Forced locations or FI set\n",
        "unavailable_plants = plant_df.loc[~plant_df['Can Use'], 'Plant ID'].to_list()  # Unavailable locations or UI set\n",
        "\n",
        "# 4. Plants that we must use\n",
        "# x_{i} = 1    for all i in FI\n",
        "mdl.addConstrs((x[i] == 1 for i in must_use_plants), 'must_use')\n",
        "\n",
        "# 5. Plants that we cannot use\n",
        "# x_{i} = 0    for all i in UI\n",
        "mdl.addConstrs((x[i] == 0 for i in unavailable_plants), 'cant_use')\n",
        "\n",
        "# Solve the model\n",
        "mdl.optimize()\n",
        "status = mdl.status\n",
        "if status in (GRB.INF_OR_UNBD, GRB.INFEASIBLE, GRB.UNBOUNDED):\n",
        "    print('The model is either infeasible or unbounded!')\n",
        "    sys.exit(1)\n",
        "elif status == GRB.OPTIMAL:\n",
        "    print(f'The solution is optimal and the objective value is: {mdl.objVal:,.0f}')\n",
        "else:\n",
        "    print(f'Status is {status}. Investigate!')\n",
        "    sys.exit(1)"
      ]
    },
    {
      "cell_type": "code",
      "execution_count": 19,
      "id": "e77211bf",
      "metadata": {
        "ExecuteTime": {
          "end_time": "2022-04-15T04:30:03.766223Z",
          "start_time": "2022-04-15T04:30:03.720707Z"
        },
        "id": "e77211bf",
        "outputId": "4a289ec1-d3a9-4720-ff28-1455d3331f78",
        "colab": {
          "base_uri": "https://localhost:8080/"
        }
      },
      "outputs": [
        {
          "output_type": "stream",
          "name": "stdout",
          "text": [
            "========================================\n",
            "Selected plants are in: Baltimore, Phoenix, Memphis\n",
            "Weighted Average Distance: 377.8\n",
            "Total demand: 169,160\n",
            "Percentages of demand within 400 miles of a plant: 64.08%\n",
            "Percentages of demand within 800 miles of a plant: 94.46%\n",
            "Percentages of demand within 1200 miles of a plant: 100.00%\n",
            "========================================\n"
          ]
        }
      ],
      "source": [
        "lanes = generate_outputs(plant_df, cust_df, dist, dmd, total_weighted_dist, x, y)"
      ]
    },
    {
      "cell_type": "code",
      "execution_count": 20,
      "id": "a7392b99",
      "metadata": {
        "ExecuteTime": {
          "end_time": "2022-04-15T04:30:42.049975Z",
          "start_time": "2022-04-15T04:30:41.934848Z"
        },
        "id": "a7392b99",
        "outputId": "65ce31a7-6f69-421f-a7d6-1ad4db8c4bf6",
        "colab": {
          "base_uri": "https://localhost:8080/",
          "height": 542
        }
      },
      "outputs": [
        {
          "output_type": "display_data",
          "data": {
            "text/html": [
              "<html>\n",
              "<head><meta charset=\"utf-8\" /></head>\n",
              "<body>\n",
              "    <div>            <script src=\"https://cdnjs.cloudflare.com/ajax/libs/mathjax/2.7.5/MathJax.js?config=TeX-AMS-MML_SVG\"></script><script type=\"text/javascript\">if (window.MathJax) {MathJax.Hub.Config({SVG: {font: \"STIX-Web\"}});}</script>                <script type=\"text/javascript\">window.PlotlyConfig = {MathJaxConfig: 'local'};</script>\n",
              "        <script src=\"https://cdn.plot.ly/plotly-2.8.3.min.js\"></script>                <div id=\"ed4aa037-28b4-41eb-af22-ac3b8c89e1e0\" class=\"plotly-graph-div\" style=\"height:525px; width:100%;\"></div>            <script type=\"text/javascript\">                                    window.PLOTLYENV=window.PLOTLYENV || {};                                    if (document.getElementById(\"ed4aa037-28b4-41eb-af22-ac3b8c89e1e0\")) {                    Plotly.newPlot(                        \"ed4aa037-28b4-41eb-af22-ac3b8c89e1e0\",                        [{\"lat\":[39.294398,33.451015,35.033731],\"lon\":[-76.622747,-112.068554,-89.934319],\"marker\":{\"color\":[\"blue\",\"blue\",\"blue\"],\"line\":{\"color\":\"rgba(68, 68, 68, 0)\",\"width\":3},\"size\":[20,20,20],\"symbol\":[\"triangle-up\",\"triangle-up\",\"triangle-up\"]},\"name\":\"Plant\",\"text\":[\"Baltimore Plant\",\"Phoenix Plant\",\"Memphis Plant\"],\"type\":\"scattergeo\"},{\"lat\":[42.896219,36.852105,43.1683,34.198188,42.65287,41.30758,40.75012,36.070061,40.602812,41.645022,41.817904,39.728445,39.758119,42.526891,43.04335,40.735652,41.789,35.659441,41.358057,40.857466,42.346577,43.661941,40.099395,41.491407,40.333745,40.264554,41.043696,39.961558,42.105997,34.677074,40.574084,41.099765,39.294398,40.474802,35.194361,37.538812,42.965899,34.274429,38.910004,35.773856,42.36097,36.749611,33.844425,33.974044,37.386691,33.994941,38.585076,32.216256,36.17269,45.498251,34.345883,31.760613,47.253432,32.724693,33.451015,47.611601,35.384352,37.777255,40.755074,39.75071,35.082729,37.779887,39.80006,44.985775,34.893261,38.253601,30.449314,39.103883,33.753693,27.95454,41.586162,41.263251,35.946445,39.10663,38.631358,28.541627,30.340415,43.037602,32.466926,26.121066,32.75826,32.787642,35.033731,34.747348,44.065571,37.215347,29.956664,35.467763,39.77422,34.847881,33.518634,26.345694,31.575993,29.469324,36.149273,29.757317,36.164003,41.88331,30.270515,25.778271],\"lon\":[-78.884649,-76.292507,-77.60262,-79.826641,-73.74868,-72.92471,-73.997846,-79.766346,-75.470433,-83.548348,-71.409316,-75.537257,-84.1879,-73.609283,-76.15084,-74.17309,-72.666218,-77.397427,-75.70249,-74.128618,-83.059731,-70.259388,-83.016823,-81.671411,-73.982438,-76.880588,-81.524301,-75.199624,-72.597915,-77.521398,-74.5012,-80.64936,-76.622747,-79.95449,-80.826397,-77.436395,-85.654579,-77.964032,-77.017989,-78.634051,-71.05344,-119.786244,-117.951222,-118.248849,-121.89705,-117.372528,-121.491186,-110.970728,-115.121117,-122.692496,-119.328846,-106.47948,-122.435514,-117.164885,-112.068554,-122.333038,-119.019342,-122.217025,-111.89849,-104.996225,-106.646276,-122.418066,-89.647829,-93.270165,-87.637505,-85.768124,-91.187593,-94.600613,-84.389544,-82.45734,-87.319082,-95.932956,-84.022857,-84.49974,-90.192246,-81.37397,-81.830904,-87.916246,-84.980818,-80.127818,-97.32787,-96.799525,-89.934319,-92.278932,-92.51005,-93.294978,-90.077506,-97.520977,-86.109309,-82.403745,-86.808862,-80.084229,-84.154368,-98.527988,-95.975637,-95.365005,-86.7745,-87.624713,-97.74218,-80.198105],\"marker\":{\"color\":[\"orange\",\"orange\",\"orange\",\"orange\",\"orange\",\"orange\",\"orange\",\"orange\",\"orange\",\"orange\",\"orange\",\"orange\",\"orange\",\"orange\",\"orange\",\"orange\",\"orange\",\"orange\",\"orange\",\"orange\",\"orange\",\"orange\",\"orange\",\"orange\",\"orange\",\"orange\",\"orange\",\"orange\",\"orange\",\"orange\",\"orange\",\"orange\",\"orange\",\"orange\",\"orange\",\"orange\",\"orange\",\"orange\",\"orange\",\"orange\",\"orange\",\"orange\",\"orange\",\"orange\",\"orange\",\"orange\",\"orange\",\"orange\",\"orange\",\"orange\",\"orange\",\"orange\",\"orange\",\"orange\",\"orange\",\"orange\",\"orange\",\"orange\",\"orange\",\"orange\",\"orange\",\"orange\",\"orange\",\"orange\",\"orange\",\"orange\",\"orange\",\"orange\",\"orange\",\"orange\",\"orange\",\"orange\",\"orange\",\"orange\",\"orange\",\"orange\",\"orange\",\"orange\",\"orange\",\"orange\",\"orange\",\"orange\",\"orange\",\"orange\",\"orange\",\"orange\",\"orange\",\"orange\",\"orange\",\"orange\",\"orange\",\"orange\",\"orange\",\"orange\",\"orange\",\"orange\",\"orange\",\"orange\",\"orange\",\"orange\"],\"line\":{\"color\":\"rgba(68, 68, 68, 0)\",\"width\":3},\"size\":[8,8,8,8,8,8,8,8,8,8,8,8,8,8,8,8,8,8,8,8,8,8,8,8,8,8,8,8,8,8,8,8,8,8,8,8,8,8,8,8,8,8,8,8,8,8,8,8,8,8,8,8,8,8,8,8,8,8,8,8,8,8,8,8,8,8,8,8,8,8,8,8,8,8,8,8,8,8,8,8,8,8,8,8,8,8,8,8,8,8,8,8,8,8,8,8,8,8,8,8],\"symbol\":[\"circle\",\"circle\",\"circle\",\"circle\",\"circle\",\"circle\",\"circle\",\"circle\",\"circle\",\"circle\",\"circle\",\"circle\",\"circle\",\"circle\",\"circle\",\"circle\",\"circle\",\"circle\",\"circle\",\"circle\",\"circle\",\"circle\",\"circle\",\"circle\",\"circle\",\"circle\",\"circle\",\"circle\",\"circle\",\"circle\",\"circle\",\"circle\",\"circle\",\"circle\",\"circle\",\"circle\",\"circle\",\"circle\",\"circle\",\"circle\",\"circle\",\"circle\",\"circle\",\"circle\",\"circle\",\"circle\",\"circle\",\"circle\",\"circle\",\"circle\",\"circle\",\"circle\",\"circle\",\"circle\",\"circle\",\"circle\",\"circle\",\"circle\",\"circle\",\"circle\",\"circle\",\"circle\",\"circle\",\"circle\",\"circle\",\"circle\",\"circle\",\"circle\",\"circle\",\"circle\",\"circle\",\"circle\",\"circle\",\"circle\",\"circle\",\"circle\",\"circle\",\"circle\",\"circle\",\"circle\",\"circle\",\"circle\",\"circle\",\"circle\",\"circle\",\"circle\",\"circle\",\"circle\",\"circle\",\"circle\",\"circle\",\"circle\",\"circle\",\"circle\",\"circle\",\"circle\",\"circle\",\"circle\",\"circle\",\"circle\"]},\"name\":\"Customer\",\"text\":[\"Buffalo Customer\",\"Norfolk Customer\",\"Rochester Customer\",\"Florence Customer\",\"Albany Customer\",\"New Haven Customer\",\"New York City Customer\",\"Greensboro Customer\",\"Allentown Customer\",\"Toledo Customer\",\"Providence Customer\",\"Wilmington Customer\",\"Dayton Customer\",\"Nassau-Suffolk Customer\",\"Syracuse Customer\",\"Newark Customer\",\"Hartford Customer\",\"Greenville Customer\",\"Scranton Customer\",\"Bergen Customer\",\"Detroit Customer\",\"Portland Customer\",\"Columbus Customer\",\"Cleveland Customer\",\"Monmouth Customer\",\"Harrisburg Customer\",\"Akron Customer\",\"Philadelphia Customer\",\"Springfield Customer\",\"Jacksonville Customer\",\"Middlesex Customer\",\"Youngstown Customer\",\"Baltimore Customer\",\"Pittsburgh Customer\",\"Charlotte Customer\",\"Richmond Customer\",\"Grand Rapids Customer\",\"Wilmington Customer\",\"Washington Customer\",\"Raleigh Customer\",\"Boston Customer\",\"Fresno Customer\",\"Orange Customer\",\"Los Angeles Customer\",\"San Jose Customer\",\"Riverside Customer\",\"Sacramento Customer\",\"Tucson Customer\",\"Las Vegas Customer\",\"Portland Customer\",\"Ventura Customer\",\"El Paso Customer\",\"Tacoma Customer\",\"San Diego Customer\",\"Phoenix Customer\",\"Seattle Customer\",\"Bakersfield Customer\",\"Oakland Customer\",\"Salt Lake City Customer\",\"Denver Customer\",\"Albuquerque Customer\",\"San Francisco Customer\",\"Springfield Customer\",\"Minneapolis Customer\",\"Florence Customer\",\"Louisville Customer\",\"Baton Rouge Customer\",\"Kansas City Customer\",\"Atlanta Customer\",\"Tampa Customer\",\"Gary Customer\",\"Omaha Customer\",\"Knoxville Customer\",\"Cincinnati Customer\",\"St. Louis Customer\",\"Orlando Customer\",\"Jacksonville Customer\",\"Milwaukee Customer\",\"Columbus Customer\",\"Fort Lauderdale Customer\",\"Fort Worth Customer\",\"Dallas Customer\",\"Memphis Customer\",\"Little Rock Customer\",\"Rochester Customer\",\"Springfield Customer\",\"New Orleans Customer\",\"Oklahoma City Customer\",\"Indianapolis Customer\",\"Greenville Customer\",\"Birmingham Customer\",\"West Palm Beach Customer\",\"Albany Customer\",\"San Antonio Customer\",\"Tulsa Customer\",\"Houston Customer\",\"Nashville Customer\",\"Chicago Customer\",\"Austin Customer\",\"Miami Customer\"],\"type\":\"scattergeo\"},{\"lat\":[39.294398,42.896219],\"line\":{\"color\":\"green\",\"width\":2},\"lon\":[-76.622747,-78.884649],\"mode\":\"lines\",\"opacity\":0.8,\"showlegend\":false,\"type\":\"scattergeo\"},{\"lat\":[39.294398,36.852105],\"line\":{\"color\":\"green\",\"width\":2},\"lon\":[-76.622747,-76.292507],\"mode\":\"lines\",\"opacity\":0.8,\"showlegend\":false,\"type\":\"scattergeo\"},{\"lat\":[39.294398,43.1683],\"line\":{\"color\":\"green\",\"width\":2},\"lon\":[-76.622747,-77.60262],\"mode\":\"lines\",\"opacity\":0.8,\"showlegend\":false,\"type\":\"scattergeo\"},{\"lat\":[39.294398,34.198188],\"line\":{\"color\":\"green\",\"width\":2},\"lon\":[-76.622747,-79.826641],\"mode\":\"lines\",\"opacity\":0.8,\"showlegend\":false,\"type\":\"scattergeo\"},{\"lat\":[39.294398,42.65287],\"line\":{\"color\":\"green\",\"width\":2},\"lon\":[-76.622747,-73.74868],\"mode\":\"lines\",\"opacity\":0.8,\"showlegend\":false,\"type\":\"scattergeo\"},{\"lat\":[39.294398,41.30758],\"line\":{\"color\":\"green\",\"width\":2},\"lon\":[-76.622747,-72.92471],\"mode\":\"lines\",\"opacity\":0.8,\"showlegend\":false,\"type\":\"scattergeo\"},{\"lat\":[39.294398,40.75012],\"line\":{\"color\":\"green\",\"width\":2},\"lon\":[-76.622747,-73.997846],\"mode\":\"lines\",\"opacity\":0.8,\"showlegend\":false,\"type\":\"scattergeo\"},{\"lat\":[39.294398,36.070061],\"line\":{\"color\":\"green\",\"width\":2},\"lon\":[-76.622747,-79.766346],\"mode\":\"lines\",\"opacity\":0.8,\"showlegend\":false,\"type\":\"scattergeo\"},{\"lat\":[39.294398,40.602812],\"line\":{\"color\":\"green\",\"width\":2},\"lon\":[-76.622747,-75.470433],\"mode\":\"lines\",\"opacity\":0.8,\"showlegend\":false,\"type\":\"scattergeo\"},{\"lat\":[39.294398,41.645022],\"line\":{\"color\":\"green\",\"width\":2},\"lon\":[-76.622747,-83.548348],\"mode\":\"lines\",\"opacity\":0.8,\"showlegend\":false,\"type\":\"scattergeo\"},{\"lat\":[39.294398,41.817904],\"line\":{\"color\":\"green\",\"width\":2},\"lon\":[-76.622747,-71.409316],\"mode\":\"lines\",\"opacity\":0.8,\"showlegend\":false,\"type\":\"scattergeo\"},{\"lat\":[39.294398,39.728445],\"line\":{\"color\":\"green\",\"width\":2},\"lon\":[-76.622747,-75.537257],\"mode\":\"lines\",\"opacity\":0.8,\"showlegend\":false,\"type\":\"scattergeo\"},{\"lat\":[39.294398,39.758119],\"line\":{\"color\":\"green\",\"width\":2},\"lon\":[-76.622747,-84.1879],\"mode\":\"lines\",\"opacity\":0.8,\"showlegend\":false,\"type\":\"scattergeo\"},{\"lat\":[39.294398,42.526891],\"line\":{\"color\":\"green\",\"width\":2},\"lon\":[-76.622747,-73.609283],\"mode\":\"lines\",\"opacity\":0.8,\"showlegend\":false,\"type\":\"scattergeo\"},{\"lat\":[39.294398,43.04335],\"line\":{\"color\":\"green\",\"width\":2},\"lon\":[-76.622747,-76.15084],\"mode\":\"lines\",\"opacity\":0.8,\"showlegend\":false,\"type\":\"scattergeo\"},{\"lat\":[39.294398,40.735652],\"line\":{\"color\":\"green\",\"width\":2},\"lon\":[-76.622747,-74.17309],\"mode\":\"lines\",\"opacity\":0.8,\"showlegend\":false,\"type\":\"scattergeo\"},{\"lat\":[39.294398,41.789],\"line\":{\"color\":\"green\",\"width\":2},\"lon\":[-76.622747,-72.666218],\"mode\":\"lines\",\"opacity\":0.8,\"showlegend\":false,\"type\":\"scattergeo\"},{\"lat\":[39.294398,35.659441],\"line\":{\"color\":\"green\",\"width\":2},\"lon\":[-76.622747,-77.397427],\"mode\":\"lines\",\"opacity\":0.8,\"showlegend\":false,\"type\":\"scattergeo\"},{\"lat\":[39.294398,41.358057],\"line\":{\"color\":\"green\",\"width\":2},\"lon\":[-76.622747,-75.70249],\"mode\":\"lines\",\"opacity\":0.8,\"showlegend\":false,\"type\":\"scattergeo\"},{\"lat\":[39.294398,40.857466],\"line\":{\"color\":\"green\",\"width\":2},\"lon\":[-76.622747,-74.128618],\"mode\":\"lines\",\"opacity\":0.8,\"showlegend\":false,\"type\":\"scattergeo\"},{\"lat\":[39.294398,42.346577],\"line\":{\"color\":\"green\",\"width\":2},\"lon\":[-76.622747,-83.059731],\"mode\":\"lines\",\"opacity\":0.8,\"showlegend\":false,\"type\":\"scattergeo\"},{\"lat\":[39.294398,43.661941],\"line\":{\"color\":\"green\",\"width\":2},\"lon\":[-76.622747,-70.259388],\"mode\":\"lines\",\"opacity\":0.8,\"showlegend\":false,\"type\":\"scattergeo\"},{\"lat\":[39.294398,40.099395],\"line\":{\"color\":\"green\",\"width\":2},\"lon\":[-76.622747,-83.016823],\"mode\":\"lines\",\"opacity\":0.8,\"showlegend\":false,\"type\":\"scattergeo\"},{\"lat\":[39.294398,41.491407],\"line\":{\"color\":\"green\",\"width\":2},\"lon\":[-76.622747,-81.671411],\"mode\":\"lines\",\"opacity\":0.8,\"showlegend\":false,\"type\":\"scattergeo\"},{\"lat\":[39.294398,40.333745],\"line\":{\"color\":\"green\",\"width\":2},\"lon\":[-76.622747,-73.982438],\"mode\":\"lines\",\"opacity\":0.8,\"showlegend\":false,\"type\":\"scattergeo\"},{\"lat\":[39.294398,40.264554],\"line\":{\"color\":\"green\",\"width\":2},\"lon\":[-76.622747,-76.880588],\"mode\":\"lines\",\"opacity\":0.8,\"showlegend\":false,\"type\":\"scattergeo\"},{\"lat\":[39.294398,41.043696],\"line\":{\"color\":\"green\",\"width\":2},\"lon\":[-76.622747,-81.524301],\"mode\":\"lines\",\"opacity\":0.8,\"showlegend\":false,\"type\":\"scattergeo\"},{\"lat\":[39.294398,39.961558],\"line\":{\"color\":\"green\",\"width\":2},\"lon\":[-76.622747,-75.199624],\"mode\":\"lines\",\"opacity\":0.8,\"showlegend\":false,\"type\":\"scattergeo\"},{\"lat\":[39.294398,42.105997],\"line\":{\"color\":\"green\",\"width\":2},\"lon\":[-76.622747,-72.597915],\"mode\":\"lines\",\"opacity\":0.8,\"showlegend\":false,\"type\":\"scattergeo\"},{\"lat\":[39.294398,34.677074],\"line\":{\"color\":\"green\",\"width\":2},\"lon\":[-76.622747,-77.521398],\"mode\":\"lines\",\"opacity\":0.8,\"showlegend\":false,\"type\":\"scattergeo\"},{\"lat\":[39.294398,40.574084],\"line\":{\"color\":\"green\",\"width\":2},\"lon\":[-76.622747,-74.5012],\"mode\":\"lines\",\"opacity\":0.8,\"showlegend\":false,\"type\":\"scattergeo\"},{\"lat\":[39.294398,41.099765],\"line\":{\"color\":\"green\",\"width\":2},\"lon\":[-76.622747,-80.64936],\"mode\":\"lines\",\"opacity\":0.8,\"showlegend\":false,\"type\":\"scattergeo\"},{\"lat\":[39.294398,39.294398],\"line\":{\"color\":\"green\",\"width\":2},\"lon\":[-76.622747,-76.622747],\"mode\":\"lines\",\"opacity\":0.8,\"showlegend\":false,\"type\":\"scattergeo\"},{\"lat\":[39.294398,40.474802],\"line\":{\"color\":\"green\",\"width\":2},\"lon\":[-76.622747,-79.95449],\"mode\":\"lines\",\"opacity\":0.8,\"showlegend\":false,\"type\":\"scattergeo\"},{\"lat\":[39.294398,35.194361],\"line\":{\"color\":\"green\",\"width\":2},\"lon\":[-76.622747,-80.826397],\"mode\":\"lines\",\"opacity\":0.8,\"showlegend\":false,\"type\":\"scattergeo\"},{\"lat\":[39.294398,37.538812],\"line\":{\"color\":\"green\",\"width\":2},\"lon\":[-76.622747,-77.436395],\"mode\":\"lines\",\"opacity\":0.8,\"showlegend\":false,\"type\":\"scattergeo\"},{\"lat\":[39.294398,42.965899],\"line\":{\"color\":\"green\",\"width\":2},\"lon\":[-76.622747,-85.654579],\"mode\":\"lines\",\"opacity\":0.8,\"showlegend\":false,\"type\":\"scattergeo\"},{\"lat\":[39.294398,34.274429],\"line\":{\"color\":\"green\",\"width\":2},\"lon\":[-76.622747,-77.964032],\"mode\":\"lines\",\"opacity\":0.8,\"showlegend\":false,\"type\":\"scattergeo\"},{\"lat\":[39.294398,38.910004],\"line\":{\"color\":\"green\",\"width\":2},\"lon\":[-76.622747,-77.017989],\"mode\":\"lines\",\"opacity\":0.8,\"showlegend\":false,\"type\":\"scattergeo\"},{\"lat\":[39.294398,35.773856],\"line\":{\"color\":\"green\",\"width\":2},\"lon\":[-76.622747,-78.634051],\"mode\":\"lines\",\"opacity\":0.8,\"showlegend\":false,\"type\":\"scattergeo\"},{\"lat\":[39.294398,42.36097],\"line\":{\"color\":\"green\",\"width\":2},\"lon\":[-76.622747,-71.05344],\"mode\":\"lines\",\"opacity\":0.8,\"showlegend\":false,\"type\":\"scattergeo\"},{\"lat\":[33.451015,36.749611],\"line\":{\"color\":\"green\",\"width\":2},\"lon\":[-112.068554,-119.786244],\"mode\":\"lines\",\"opacity\":0.8,\"showlegend\":false,\"type\":\"scattergeo\"},{\"lat\":[33.451015,33.844425],\"line\":{\"color\":\"green\",\"width\":2},\"lon\":[-112.068554,-117.951222],\"mode\":\"lines\",\"opacity\":0.8,\"showlegend\":false,\"type\":\"scattergeo\"},{\"lat\":[33.451015,33.974044],\"line\":{\"color\":\"green\",\"width\":2},\"lon\":[-112.068554,-118.248849],\"mode\":\"lines\",\"opacity\":0.8,\"showlegend\":false,\"type\":\"scattergeo\"},{\"lat\":[33.451015,37.386691],\"line\":{\"color\":\"green\",\"width\":2},\"lon\":[-112.068554,-121.89705],\"mode\":\"lines\",\"opacity\":0.8,\"showlegend\":false,\"type\":\"scattergeo\"},{\"lat\":[33.451015,33.994941],\"line\":{\"color\":\"green\",\"width\":2},\"lon\":[-112.068554,-117.372528],\"mode\":\"lines\",\"opacity\":0.8,\"showlegend\":false,\"type\":\"scattergeo\"},{\"lat\":[33.451015,38.585076],\"line\":{\"color\":\"green\",\"width\":2},\"lon\":[-112.068554,-121.491186],\"mode\":\"lines\",\"opacity\":0.8,\"showlegend\":false,\"type\":\"scattergeo\"},{\"lat\":[33.451015,32.216256],\"line\":{\"color\":\"green\",\"width\":2},\"lon\":[-112.068554,-110.970728],\"mode\":\"lines\",\"opacity\":0.8,\"showlegend\":false,\"type\":\"scattergeo\"},{\"lat\":[33.451015,36.17269],\"line\":{\"color\":\"green\",\"width\":2},\"lon\":[-112.068554,-115.121117],\"mode\":\"lines\",\"opacity\":0.8,\"showlegend\":false,\"type\":\"scattergeo\"},{\"lat\":[33.451015,45.498251],\"line\":{\"color\":\"green\",\"width\":2},\"lon\":[-112.068554,-122.692496],\"mode\":\"lines\",\"opacity\":0.8,\"showlegend\":false,\"type\":\"scattergeo\"},{\"lat\":[33.451015,34.345883],\"line\":{\"color\":\"green\",\"width\":2},\"lon\":[-112.068554,-119.328846],\"mode\":\"lines\",\"opacity\":0.8,\"showlegend\":false,\"type\":\"scattergeo\"},{\"lat\":[33.451015,31.760613],\"line\":{\"color\":\"green\",\"width\":2},\"lon\":[-112.068554,-106.47948],\"mode\":\"lines\",\"opacity\":0.8,\"showlegend\":false,\"type\":\"scattergeo\"},{\"lat\":[33.451015,47.253432],\"line\":{\"color\":\"green\",\"width\":2},\"lon\":[-112.068554,-122.435514],\"mode\":\"lines\",\"opacity\":0.8,\"showlegend\":false,\"type\":\"scattergeo\"},{\"lat\":[33.451015,32.724693],\"line\":{\"color\":\"green\",\"width\":2},\"lon\":[-112.068554,-117.164885],\"mode\":\"lines\",\"opacity\":0.8,\"showlegend\":false,\"type\":\"scattergeo\"},{\"lat\":[33.451015,33.451015],\"line\":{\"color\":\"green\",\"width\":2},\"lon\":[-112.068554,-112.068554],\"mode\":\"lines\",\"opacity\":0.8,\"showlegend\":false,\"type\":\"scattergeo\"},{\"lat\":[33.451015,47.611601],\"line\":{\"color\":\"green\",\"width\":2},\"lon\":[-112.068554,-122.333038],\"mode\":\"lines\",\"opacity\":0.8,\"showlegend\":false,\"type\":\"scattergeo\"},{\"lat\":[33.451015,35.384352],\"line\":{\"color\":\"green\",\"width\":2},\"lon\":[-112.068554,-119.019342],\"mode\":\"lines\",\"opacity\":0.8,\"showlegend\":false,\"type\":\"scattergeo\"},{\"lat\":[33.451015,37.777255],\"line\":{\"color\":\"green\",\"width\":2},\"lon\":[-112.068554,-122.217025],\"mode\":\"lines\",\"opacity\":0.8,\"showlegend\":false,\"type\":\"scattergeo\"},{\"lat\":[33.451015,40.755074],\"line\":{\"color\":\"green\",\"width\":2},\"lon\":[-112.068554,-111.89849],\"mode\":\"lines\",\"opacity\":0.8,\"showlegend\":false,\"type\":\"scattergeo\"},{\"lat\":[33.451015,39.75071],\"line\":{\"color\":\"green\",\"width\":2},\"lon\":[-112.068554,-104.996225],\"mode\":\"lines\",\"opacity\":0.8,\"showlegend\":false,\"type\":\"scattergeo\"},{\"lat\":[33.451015,35.082729],\"line\":{\"color\":\"green\",\"width\":2},\"lon\":[-112.068554,-106.646276],\"mode\":\"lines\",\"opacity\":0.8,\"showlegend\":false,\"type\":\"scattergeo\"},{\"lat\":[33.451015,37.779887],\"line\":{\"color\":\"green\",\"width\":2},\"lon\":[-112.068554,-122.418066],\"mode\":\"lines\",\"opacity\":0.8,\"showlegend\":false,\"type\":\"scattergeo\"},{\"lat\":[35.033731,39.80006],\"line\":{\"color\":\"green\",\"width\":2},\"lon\":[-89.934319,-89.647829],\"mode\":\"lines\",\"opacity\":0.8,\"showlegend\":false,\"type\":\"scattergeo\"},{\"lat\":[35.033731,44.985775],\"line\":{\"color\":\"green\",\"width\":2},\"lon\":[-89.934319,-93.270165],\"mode\":\"lines\",\"opacity\":0.8,\"showlegend\":false,\"type\":\"scattergeo\"},{\"lat\":[35.033731,34.893261],\"line\":{\"color\":\"green\",\"width\":2},\"lon\":[-89.934319,-87.637505],\"mode\":\"lines\",\"opacity\":0.8,\"showlegend\":false,\"type\":\"scattergeo\"},{\"lat\":[35.033731,38.253601],\"line\":{\"color\":\"green\",\"width\":2},\"lon\":[-89.934319,-85.768124],\"mode\":\"lines\",\"opacity\":0.8,\"showlegend\":false,\"type\":\"scattergeo\"},{\"lat\":[35.033731,30.449314],\"line\":{\"color\":\"green\",\"width\":2},\"lon\":[-89.934319,-91.187593],\"mode\":\"lines\",\"opacity\":0.8,\"showlegend\":false,\"type\":\"scattergeo\"},{\"lat\":[35.033731,39.103883],\"line\":{\"color\":\"green\",\"width\":2},\"lon\":[-89.934319,-94.600613],\"mode\":\"lines\",\"opacity\":0.8,\"showlegend\":false,\"type\":\"scattergeo\"},{\"lat\":[35.033731,33.753693],\"line\":{\"color\":\"green\",\"width\":2},\"lon\":[-89.934319,-84.389544],\"mode\":\"lines\",\"opacity\":0.8,\"showlegend\":false,\"type\":\"scattergeo\"},{\"lat\":[35.033731,27.95454],\"line\":{\"color\":\"green\",\"width\":2},\"lon\":[-89.934319,-82.45734],\"mode\":\"lines\",\"opacity\":0.8,\"showlegend\":false,\"type\":\"scattergeo\"},{\"lat\":[35.033731,41.586162],\"line\":{\"color\":\"green\",\"width\":2},\"lon\":[-89.934319,-87.319082],\"mode\":\"lines\",\"opacity\":0.8,\"showlegend\":false,\"type\":\"scattergeo\"},{\"lat\":[35.033731,41.263251],\"line\":{\"color\":\"green\",\"width\":2},\"lon\":[-89.934319,-95.932956],\"mode\":\"lines\",\"opacity\":0.8,\"showlegend\":false,\"type\":\"scattergeo\"},{\"lat\":[35.033731,35.946445],\"line\":{\"color\":\"green\",\"width\":2},\"lon\":[-89.934319,-84.022857],\"mode\":\"lines\",\"opacity\":0.8,\"showlegend\":false,\"type\":\"scattergeo\"},{\"lat\":[35.033731,39.10663],\"line\":{\"color\":\"green\",\"width\":2},\"lon\":[-89.934319,-84.49974],\"mode\":\"lines\",\"opacity\":0.8,\"showlegend\":false,\"type\":\"scattergeo\"},{\"lat\":[35.033731,38.631358],\"line\":{\"color\":\"green\",\"width\":2},\"lon\":[-89.934319,-90.192246],\"mode\":\"lines\",\"opacity\":0.8,\"showlegend\":false,\"type\":\"scattergeo\"},{\"lat\":[35.033731,28.541627],\"line\":{\"color\":\"green\",\"width\":2},\"lon\":[-89.934319,-81.37397],\"mode\":\"lines\",\"opacity\":0.8,\"showlegend\":false,\"type\":\"scattergeo\"},{\"lat\":[35.033731,30.340415],\"line\":{\"color\":\"green\",\"width\":2},\"lon\":[-89.934319,-81.830904],\"mode\":\"lines\",\"opacity\":0.8,\"showlegend\":false,\"type\":\"scattergeo\"},{\"lat\":[35.033731,43.037602],\"line\":{\"color\":\"green\",\"width\":2},\"lon\":[-89.934319,-87.916246],\"mode\":\"lines\",\"opacity\":0.8,\"showlegend\":false,\"type\":\"scattergeo\"},{\"lat\":[35.033731,32.466926],\"line\":{\"color\":\"green\",\"width\":2},\"lon\":[-89.934319,-84.980818],\"mode\":\"lines\",\"opacity\":0.8,\"showlegend\":false,\"type\":\"scattergeo\"},{\"lat\":[35.033731,26.121066],\"line\":{\"color\":\"green\",\"width\":2},\"lon\":[-89.934319,-80.127818],\"mode\":\"lines\",\"opacity\":0.8,\"showlegend\":false,\"type\":\"scattergeo\"},{\"lat\":[35.033731,32.75826],\"line\":{\"color\":\"green\",\"width\":2},\"lon\":[-89.934319,-97.32787],\"mode\":\"lines\",\"opacity\":0.8,\"showlegend\":false,\"type\":\"scattergeo\"},{\"lat\":[35.033731,32.787642],\"line\":{\"color\":\"green\",\"width\":2},\"lon\":[-89.934319,-96.799525],\"mode\":\"lines\",\"opacity\":0.8,\"showlegend\":false,\"type\":\"scattergeo\"},{\"lat\":[35.033731,35.033731],\"line\":{\"color\":\"green\",\"width\":2},\"lon\":[-89.934319,-89.934319],\"mode\":\"lines\",\"opacity\":0.8,\"showlegend\":false,\"type\":\"scattergeo\"},{\"lat\":[35.033731,34.747348],\"line\":{\"color\":\"green\",\"width\":2},\"lon\":[-89.934319,-92.278932],\"mode\":\"lines\",\"opacity\":0.8,\"showlegend\":false,\"type\":\"scattergeo\"},{\"lat\":[35.033731,44.065571],\"line\":{\"color\":\"green\",\"width\":2},\"lon\":[-89.934319,-92.51005],\"mode\":\"lines\",\"opacity\":0.8,\"showlegend\":false,\"type\":\"scattergeo\"},{\"lat\":[35.033731,37.215347],\"line\":{\"color\":\"green\",\"width\":2},\"lon\":[-89.934319,-93.294978],\"mode\":\"lines\",\"opacity\":0.8,\"showlegend\":false,\"type\":\"scattergeo\"},{\"lat\":[35.033731,29.956664],\"line\":{\"color\":\"green\",\"width\":2},\"lon\":[-89.934319,-90.077506],\"mode\":\"lines\",\"opacity\":0.8,\"showlegend\":false,\"type\":\"scattergeo\"},{\"lat\":[35.033731,35.467763],\"line\":{\"color\":\"green\",\"width\":2},\"lon\":[-89.934319,-97.520977],\"mode\":\"lines\",\"opacity\":0.8,\"showlegend\":false,\"type\":\"scattergeo\"},{\"lat\":[35.033731,39.77422],\"line\":{\"color\":\"green\",\"width\":2},\"lon\":[-89.934319,-86.109309],\"mode\":\"lines\",\"opacity\":0.8,\"showlegend\":false,\"type\":\"scattergeo\"},{\"lat\":[35.033731,34.847881],\"line\":{\"color\":\"green\",\"width\":2},\"lon\":[-89.934319,-82.403745],\"mode\":\"lines\",\"opacity\":0.8,\"showlegend\":false,\"type\":\"scattergeo\"},{\"lat\":[35.033731,33.518634],\"line\":{\"color\":\"green\",\"width\":2},\"lon\":[-89.934319,-86.808862],\"mode\":\"lines\",\"opacity\":0.8,\"showlegend\":false,\"type\":\"scattergeo\"},{\"lat\":[35.033731,26.345694],\"line\":{\"color\":\"green\",\"width\":2},\"lon\":[-89.934319,-80.084229],\"mode\":\"lines\",\"opacity\":0.8,\"showlegend\":false,\"type\":\"scattergeo\"},{\"lat\":[35.033731,31.575993],\"line\":{\"color\":\"green\",\"width\":2},\"lon\":[-89.934319,-84.154368],\"mode\":\"lines\",\"opacity\":0.8,\"showlegend\":false,\"type\":\"scattergeo\"},{\"lat\":[35.033731,29.469324],\"line\":{\"color\":\"green\",\"width\":2},\"lon\":[-89.934319,-98.527988],\"mode\":\"lines\",\"opacity\":0.8,\"showlegend\":false,\"type\":\"scattergeo\"},{\"lat\":[35.033731,36.149273],\"line\":{\"color\":\"green\",\"width\":2},\"lon\":[-89.934319,-95.975637],\"mode\":\"lines\",\"opacity\":0.8,\"showlegend\":false,\"type\":\"scattergeo\"},{\"lat\":[35.033731,29.757317],\"line\":{\"color\":\"green\",\"width\":2},\"lon\":[-89.934319,-95.365005],\"mode\":\"lines\",\"opacity\":0.8,\"showlegend\":false,\"type\":\"scattergeo\"},{\"lat\":[35.033731,36.164003],\"line\":{\"color\":\"green\",\"width\":2},\"lon\":[-89.934319,-86.7745],\"mode\":\"lines\",\"opacity\":0.8,\"showlegend\":false,\"type\":\"scattergeo\"},{\"lat\":[35.033731,41.88331],\"line\":{\"color\":\"green\",\"width\":2},\"lon\":[-89.934319,-87.624713],\"mode\":\"lines\",\"opacity\":0.8,\"showlegend\":false,\"type\":\"scattergeo\"},{\"lat\":[35.033731,30.270515],\"line\":{\"color\":\"green\",\"width\":2},\"lon\":[-89.934319,-97.74218],\"mode\":\"lines\",\"opacity\":0.8,\"showlegend\":false,\"type\":\"scattergeo\"},{\"lat\":[35.033731,25.778271],\"line\":{\"color\":\"green\",\"width\":2},\"lon\":[-89.934319,-80.198105],\"mode\":\"lines\",\"opacity\":0.8,\"showlegend\":false,\"type\":\"scattergeo\"}],                        {\"template\":{\"data\":{\"bar\":[{\"error_x\":{\"color\":\"#2a3f5f\"},\"error_y\":{\"color\":\"#2a3f5f\"},\"marker\":{\"line\":{\"color\":\"#E5ECF6\",\"width\":0.5},\"pattern\":{\"fillmode\":\"overlay\",\"size\":10,\"solidity\":0.2}},\"type\":\"bar\"}],\"barpolar\":[{\"marker\":{\"line\":{\"color\":\"#E5ECF6\",\"width\":0.5},\"pattern\":{\"fillmode\":\"overlay\",\"size\":10,\"solidity\":0.2}},\"type\":\"barpolar\"}],\"carpet\":[{\"aaxis\":{\"endlinecolor\":\"#2a3f5f\",\"gridcolor\":\"white\",\"linecolor\":\"white\",\"minorgridcolor\":\"white\",\"startlinecolor\":\"#2a3f5f\"},\"baxis\":{\"endlinecolor\":\"#2a3f5f\",\"gridcolor\":\"white\",\"linecolor\":\"white\",\"minorgridcolor\":\"white\",\"startlinecolor\":\"#2a3f5f\"},\"type\":\"carpet\"}],\"choropleth\":[{\"colorbar\":{\"outlinewidth\":0,\"ticks\":\"\"},\"type\":\"choropleth\"}],\"contour\":[{\"colorbar\":{\"outlinewidth\":0,\"ticks\":\"\"},\"colorscale\":[[0.0,\"#0d0887\"],[0.1111111111111111,\"#46039f\"],[0.2222222222222222,\"#7201a8\"],[0.3333333333333333,\"#9c179e\"],[0.4444444444444444,\"#bd3786\"],[0.5555555555555556,\"#d8576b\"],[0.6666666666666666,\"#ed7953\"],[0.7777777777777778,\"#fb9f3a\"],[0.8888888888888888,\"#fdca26\"],[1.0,\"#f0f921\"]],\"type\":\"contour\"}],\"contourcarpet\":[{\"colorbar\":{\"outlinewidth\":0,\"ticks\":\"\"},\"type\":\"contourcarpet\"}],\"heatmap\":[{\"colorbar\":{\"outlinewidth\":0,\"ticks\":\"\"},\"colorscale\":[[0.0,\"#0d0887\"],[0.1111111111111111,\"#46039f\"],[0.2222222222222222,\"#7201a8\"],[0.3333333333333333,\"#9c179e\"],[0.4444444444444444,\"#bd3786\"],[0.5555555555555556,\"#d8576b\"],[0.6666666666666666,\"#ed7953\"],[0.7777777777777778,\"#fb9f3a\"],[0.8888888888888888,\"#fdca26\"],[1.0,\"#f0f921\"]],\"type\":\"heatmap\"}],\"heatmapgl\":[{\"colorbar\":{\"outlinewidth\":0,\"ticks\":\"\"},\"colorscale\":[[0.0,\"#0d0887\"],[0.1111111111111111,\"#46039f\"],[0.2222222222222222,\"#7201a8\"],[0.3333333333333333,\"#9c179e\"],[0.4444444444444444,\"#bd3786\"],[0.5555555555555556,\"#d8576b\"],[0.6666666666666666,\"#ed7953\"],[0.7777777777777778,\"#fb9f3a\"],[0.8888888888888888,\"#fdca26\"],[1.0,\"#f0f921\"]],\"type\":\"heatmapgl\"}],\"histogram\":[{\"marker\":{\"pattern\":{\"fillmode\":\"overlay\",\"size\":10,\"solidity\":0.2}},\"type\":\"histogram\"}],\"histogram2d\":[{\"colorbar\":{\"outlinewidth\":0,\"ticks\":\"\"},\"colorscale\":[[0.0,\"#0d0887\"],[0.1111111111111111,\"#46039f\"],[0.2222222222222222,\"#7201a8\"],[0.3333333333333333,\"#9c179e\"],[0.4444444444444444,\"#bd3786\"],[0.5555555555555556,\"#d8576b\"],[0.6666666666666666,\"#ed7953\"],[0.7777777777777778,\"#fb9f3a\"],[0.8888888888888888,\"#fdca26\"],[1.0,\"#f0f921\"]],\"type\":\"histogram2d\"}],\"histogram2dcontour\":[{\"colorbar\":{\"outlinewidth\":0,\"ticks\":\"\"},\"colorscale\":[[0.0,\"#0d0887\"],[0.1111111111111111,\"#46039f\"],[0.2222222222222222,\"#7201a8\"],[0.3333333333333333,\"#9c179e\"],[0.4444444444444444,\"#bd3786\"],[0.5555555555555556,\"#d8576b\"],[0.6666666666666666,\"#ed7953\"],[0.7777777777777778,\"#fb9f3a\"],[0.8888888888888888,\"#fdca26\"],[1.0,\"#f0f921\"]],\"type\":\"histogram2dcontour\"}],\"mesh3d\":[{\"colorbar\":{\"outlinewidth\":0,\"ticks\":\"\"},\"type\":\"mesh3d\"}],\"parcoords\":[{\"line\":{\"colorbar\":{\"outlinewidth\":0,\"ticks\":\"\"}},\"type\":\"parcoords\"}],\"pie\":[{\"automargin\":true,\"type\":\"pie\"}],\"scatter\":[{\"marker\":{\"colorbar\":{\"outlinewidth\":0,\"ticks\":\"\"}},\"type\":\"scatter\"}],\"scatter3d\":[{\"line\":{\"colorbar\":{\"outlinewidth\":0,\"ticks\":\"\"}},\"marker\":{\"colorbar\":{\"outlinewidth\":0,\"ticks\":\"\"}},\"type\":\"scatter3d\"}],\"scattercarpet\":[{\"marker\":{\"colorbar\":{\"outlinewidth\":0,\"ticks\":\"\"}},\"type\":\"scattercarpet\"}],\"scattergeo\":[{\"marker\":{\"colorbar\":{\"outlinewidth\":0,\"ticks\":\"\"}},\"type\":\"scattergeo\"}],\"scattergl\":[{\"marker\":{\"colorbar\":{\"outlinewidth\":0,\"ticks\":\"\"}},\"type\":\"scattergl\"}],\"scattermapbox\":[{\"marker\":{\"colorbar\":{\"outlinewidth\":0,\"ticks\":\"\"}},\"type\":\"scattermapbox\"}],\"scatterpolar\":[{\"marker\":{\"colorbar\":{\"outlinewidth\":0,\"ticks\":\"\"}},\"type\":\"scatterpolar\"}],\"scatterpolargl\":[{\"marker\":{\"colorbar\":{\"outlinewidth\":0,\"ticks\":\"\"}},\"type\":\"scatterpolargl\"}],\"scatterternary\":[{\"marker\":{\"colorbar\":{\"outlinewidth\":0,\"ticks\":\"\"}},\"type\":\"scatterternary\"}],\"surface\":[{\"colorbar\":{\"outlinewidth\":0,\"ticks\":\"\"},\"colorscale\":[[0.0,\"#0d0887\"],[0.1111111111111111,\"#46039f\"],[0.2222222222222222,\"#7201a8\"],[0.3333333333333333,\"#9c179e\"],[0.4444444444444444,\"#bd3786\"],[0.5555555555555556,\"#d8576b\"],[0.6666666666666666,\"#ed7953\"],[0.7777777777777778,\"#fb9f3a\"],[0.8888888888888888,\"#fdca26\"],[1.0,\"#f0f921\"]],\"type\":\"surface\"}],\"table\":[{\"cells\":{\"fill\":{\"color\":\"#EBF0F8\"},\"line\":{\"color\":\"white\"}},\"header\":{\"fill\":{\"color\":\"#C8D4E3\"},\"line\":{\"color\":\"white\"}},\"type\":\"table\"}]},\"layout\":{\"annotationdefaults\":{\"arrowcolor\":\"#2a3f5f\",\"arrowhead\":0,\"arrowwidth\":1},\"autotypenumbers\":\"strict\",\"coloraxis\":{\"colorbar\":{\"outlinewidth\":0,\"ticks\":\"\"}},\"colorscale\":{\"diverging\":[[0,\"#8e0152\"],[0.1,\"#c51b7d\"],[0.2,\"#de77ae\"],[0.3,\"#f1b6da\"],[0.4,\"#fde0ef\"],[0.5,\"#f7f7f7\"],[0.6,\"#e6f5d0\"],[0.7,\"#b8e186\"],[0.8,\"#7fbc41\"],[0.9,\"#4d9221\"],[1,\"#276419\"]],\"sequential\":[[0.0,\"#0d0887\"],[0.1111111111111111,\"#46039f\"],[0.2222222222222222,\"#7201a8\"],[0.3333333333333333,\"#9c179e\"],[0.4444444444444444,\"#bd3786\"],[0.5555555555555556,\"#d8576b\"],[0.6666666666666666,\"#ed7953\"],[0.7777777777777778,\"#fb9f3a\"],[0.8888888888888888,\"#fdca26\"],[1.0,\"#f0f921\"]],\"sequentialminus\":[[0.0,\"#0d0887\"],[0.1111111111111111,\"#46039f\"],[0.2222222222222222,\"#7201a8\"],[0.3333333333333333,\"#9c179e\"],[0.4444444444444444,\"#bd3786\"],[0.5555555555555556,\"#d8576b\"],[0.6666666666666666,\"#ed7953\"],[0.7777777777777778,\"#fb9f3a\"],[0.8888888888888888,\"#fdca26\"],[1.0,\"#f0f921\"]]},\"colorway\":[\"#636efa\",\"#EF553B\",\"#00cc96\",\"#ab63fa\",\"#FFA15A\",\"#19d3f3\",\"#FF6692\",\"#B6E880\",\"#FF97FF\",\"#FECB52\"],\"font\":{\"color\":\"#2a3f5f\"},\"geo\":{\"bgcolor\":\"white\",\"lakecolor\":\"white\",\"landcolor\":\"#E5ECF6\",\"showlakes\":true,\"showland\":true,\"subunitcolor\":\"white\"},\"hoverlabel\":{\"align\":\"left\"},\"hovermode\":\"closest\",\"mapbox\":{\"style\":\"light\"},\"paper_bgcolor\":\"white\",\"plot_bgcolor\":\"#E5ECF6\",\"polar\":{\"angularaxis\":{\"gridcolor\":\"white\",\"linecolor\":\"white\",\"ticks\":\"\"},\"bgcolor\":\"#E5ECF6\",\"radialaxis\":{\"gridcolor\":\"white\",\"linecolor\":\"white\",\"ticks\":\"\"}},\"scene\":{\"xaxis\":{\"backgroundcolor\":\"#E5ECF6\",\"gridcolor\":\"white\",\"gridwidth\":2,\"linecolor\":\"white\",\"showbackground\":true,\"ticks\":\"\",\"zerolinecolor\":\"white\"},\"yaxis\":{\"backgroundcolor\":\"#E5ECF6\",\"gridcolor\":\"white\",\"gridwidth\":2,\"linecolor\":\"white\",\"showbackground\":true,\"ticks\":\"\",\"zerolinecolor\":\"white\"},\"zaxis\":{\"backgroundcolor\":\"#E5ECF6\",\"gridcolor\":\"white\",\"gridwidth\":2,\"linecolor\":\"white\",\"showbackground\":true,\"ticks\":\"\",\"zerolinecolor\":\"white\"}},\"shapedefaults\":{\"line\":{\"color\":\"#2a3f5f\"}},\"ternary\":{\"aaxis\":{\"gridcolor\":\"white\",\"linecolor\":\"white\",\"ticks\":\"\"},\"baxis\":{\"gridcolor\":\"white\",\"linecolor\":\"white\",\"ticks\":\"\"},\"bgcolor\":\"#E5ECF6\",\"caxis\":{\"gridcolor\":\"white\",\"linecolor\":\"white\",\"ticks\":\"\"}},\"title\":{\"x\":0.05},\"xaxis\":{\"automargin\":true,\"gridcolor\":\"white\",\"linecolor\":\"white\",\"ticks\":\"\",\"title\":{\"standoff\":15},\"zerolinecolor\":\"white\",\"zerolinewidth\":2},\"yaxis\":{\"automargin\":true,\"gridcolor\":\"white\",\"linecolor\":\"white\",\"ticks\":\"\",\"title\":{\"standoff\":15},\"zerolinecolor\":\"white\",\"zerolinewidth\":2}}},\"geo\":{\"scope\":\"usa\",\"showland\":true,\"landcolor\":\"rgb(243, 243, 243)\",\"countrycolor\":\"rgb(204, 204, 204)\"},\"title\":{\"text\":\"Solution Map\"},\"showlegend\":true},                        {\"responsive\": true}                    ).then(function(){\n",
              "                            \n",
              "var gd = document.getElementById('ed4aa037-28b4-41eb-af22-ac3b8c89e1e0');\n",
              "var x = new MutationObserver(function (mutations, observer) {{\n",
              "        var display = window.getComputedStyle(gd).display;\n",
              "        if (!display || display === 'none') {{\n",
              "            console.log([gd, 'removed!']);\n",
              "            Plotly.purge(gd);\n",
              "            observer.disconnect();\n",
              "        }}\n",
              "}});\n",
              "\n",
              "// Listen for the removal of the full notebook cells\n",
              "var notebookContainer = gd.closest('#notebook-container');\n",
              "if (notebookContainer) {{\n",
              "    x.observe(notebookContainer, {childList: true});\n",
              "}}\n",
              "\n",
              "// Listen for the clearing of the current output cell\n",
              "var outputEl = gd.closest('.output');\n",
              "if (outputEl) {{\n",
              "    x.observe(outputEl, {childList: true});\n",
              "}}\n",
              "\n",
              "                        })                };                            </script>        </div>\n",
              "</body>\n",
              "</html>"
            ]
          },
          "metadata": {}
        }
      ],
      "source": [
        "plot_network(lanes, auto_open_map=False, title='Solution Map', open_map_in_cell=open_map_in_cell)"
      ]
    },
    {
      "cell_type": "markdown",
      "id": "3c3d020b",
      "metadata": {
        "id": "3c3d020b"
      },
      "source": [
        "# Different Objective"
      ]
    },
    {
      "cell_type": "markdown",
      "id": "53e55ef0",
      "metadata": {
        "id": "53e55ef0"
      },
      "source": [
        "- Because of the contract that the company has with the carriers, the transportation cost only depends on distance.\n",
        "- Users are interested to see how considering transportation cost, changes the solution.\n",
        "- For that, all we need to do is to change our objective function from weighted distance to cost.\n",
        "\n",
        "Showing transportation cost between plant $i$ and customer $j$ with $c_{ij}$, the new objective will be:\n",
        "$$ \\sum_{ij} c_{ij}y_{ij}$$"
      ]
    },
    {
      "cell_type": "code",
      "execution_count": null,
      "id": "eb758562",
      "metadata": {
        "ExecuteTime": {
          "end_time": "2022-04-15T04:31:13.968739Z",
          "start_time": "2022-04-15T04:31:13.678342Z"
        },
        "id": "eb758562",
        "outputId": "617aac1f-053c-444a-e5ea-ca9f60df7c88"
      },
      "outputs": [
        {
          "name": "stdout",
          "output_type": "stream",
          "text": [
            "Gurobi Optimizer version 9.5.1 build v9.5.1rc2 (win64)\n",
            "Thread count: 4 physical cores, 8 logical processors, using up to 8 threads\n",
            "Optimize a model with 1602 rows, 1515 columns and 4516 nonzeros\n",
            "Model fingerprint: 0xbebf2576\n",
            "Variable types: 0 continuous, 1515 integer (1515 binary)\n",
            "Coefficient statistics:\n",
            "  Matrix range     [1e+00, 1e+00]\n",
            "  Objective range  [5e+02, 5e+03]\n",
            "  Bounds range     [1e+00, 1e+00]\n",
            "  RHS range        [1e+00, 3e+00]\n",
            "\n",
            "Loaded MIP start from previous solve with objective 79672.2\n",
            "\n",
            "Presolve removed 101 rows and 101 columns\n",
            "Presolve time: 0.01s\n",
            "Presolved: 1501 rows, 1414 columns, 4214 nonzeros\n",
            "Variable types: 0 continuous, 1414 integer (1414 binary)\n",
            "\n",
            "Root relaxation: cutoff, 484 iterations, 0.01 seconds (0.01 work units)\n",
            "\n",
            "    Nodes    |    Current Node    |     Objective Bounds      |     Work\n",
            " Expl Unexpl |  Obj  Depth IntInf | Incumbent    BestBd   Gap | It/Node Time\n",
            "\n",
            "     0     0     cutoff    0      79672.1639 79672.1639  0.00%     -    0s\n",
            "\n",
            "Explored 1 nodes (484 simplex iterations) in 0.03 seconds (0.01 work units)\n",
            "Thread count was 8 (of 8 available processors)\n",
            "\n",
            "Solution count 1: 79672.2 \n",
            "\n",
            "Optimal solution found (tolerance 1.00e-04)\n",
            "Best objective 7.967216391859e+04, best bound 7.967216391859e+04, gap 0.0000%\n",
            "The solution is optimal and the objective value is: 79,672\n"
          ]
        }
      ],
      "source": [
        "dist['Cost'] = dist['Distance'].apply(lambda x: max(cost_per_mile * x, min_cost))\n",
        "\n",
        "# Objective: minimize total transportation cost\n",
        "# sum_{ij} c_{ij}*y_{ij}\n",
        "total_cost = gp.quicksum((dist.loc[i, j]['Cost'] * y[i, j]) for (i, j) in ij_set)\n",
        "mdl.setObjective(total_cost, GRB.MINIMIZE)\n",
        "\n",
        "# Solve the model\n",
        "mdl.optimize()\n",
        "status = mdl.status\n",
        "if status in (GRB.INF_OR_UNBD, GRB.INFEASIBLE, GRB.UNBOUNDED):\n",
        "    print('The model is either infeasible or unbounded!')\n",
        "    sys.exit(1)\n",
        "elif status == GRB.OPTIMAL:\n",
        "    print(f'The solution is optimal and the objective value is: {mdl.objVal:,.0f}')\n",
        "else:\n",
        "    print(f'Status is {status}. Investigate!')\n",
        "    sys.exit(1)"
      ]
    },
    {
      "cell_type": "code",
      "execution_count": null,
      "id": "fa0103c9",
      "metadata": {
        "ExecuteTime": {
          "end_time": "2022-04-15T04:31:16.433152Z",
          "start_time": "2022-04-15T04:31:16.396850Z"
        },
        "id": "fa0103c9",
        "outputId": "721ad16c-22f0-458a-9510-93d8042db914"
      },
      "outputs": [
        {
          "name": "stdout",
          "output_type": "stream",
          "text": [
            "========================================\n",
            "Selected plants are in: Baltimore, Phoenix, Memphis\n",
            "Weighted Average Distance: 377.8\n",
            "Total demand: 169,160\n",
            "Percentages of demand within 400 miles of a plant: 64.08%\n",
            "Percentages of demand within 800 miles of a plant: 94.46%\n",
            "Percentages of demand within 1200 miles of a plant: 100.00%\n",
            "========================================\n"
          ]
        }
      ],
      "source": [
        "lanes = generate_outputs(plant_df, cust_df, dist, dmd, total_weighted_dist, x, y)"
      ]
    },
    {
      "cell_type": "code",
      "execution_count": null,
      "id": "2ef8ca32",
      "metadata": {
        "ExecuteTime": {
          "end_time": "2022-04-15T04:31:17.783910Z",
          "start_time": "2022-04-15T04:31:17.674180Z"
        },
        "id": "2ef8ca32",
        "outputId": "90bc4913-94fa-422c-90e8-33be354d2413"
      },
      "outputs": [
        {
          "data": {
            "application/vnd.plotly.v1+json": {
              "config": {
                "plotlyServerURL": "https://plot.ly"
              },
              "data": [
                {
                  "lat": [
                    39.294398,
                    33.451015,
                    35.033731
                  ],
                  "lon": [
                    -76.622747,
                    -112.068554,
                    -89.934319
                  ],
                  "marker": {
                    "color": [
                      "blue",
                      "blue",
                      "blue"
                    ],
                    "line": {
                      "color": "rgba(68, 68, 68, 0)",
                      "width": 3
                    },
                    "size": [
                      20,
                      20,
                      20
                    ],
                    "symbol": [
                      "triangle-up",
                      "triangle-up",
                      "triangle-up"
                    ]
                  },
                  "name": "Plant",
                  "text": [
                    "Baltimore Plant",
                    "Phoenix Plant",
                    "Memphis Plant"
                  ],
                  "type": "scattergeo"
                },
                {
                  "lat": [
                    42.896219,
                    36.852105,
                    43.1683,
                    34.198188,
                    42.65287,
                    41.30758,
                    40.75012,
                    36.070061,
                    40.602812,
                    41.645022,
                    41.817904,
                    39.728445,
                    39.758119,
                    42.526891,
                    43.04335,
                    40.735652,
                    41.789,
                    35.659441,
                    41.358057,
                    40.857466,
                    42.346577,
                    43.661941,
                    40.099395,
                    41.491407,
                    40.333745,
                    40.264554,
                    41.043696,
                    39.961558,
                    42.105997,
                    34.677074,
                    40.574084,
                    41.099765,
                    39.294398,
                    40.474802,
                    35.194361,
                    37.538812,
                    42.965899,
                    34.274429,
                    38.910004,
                    35.773856,
                    42.36097,
                    36.749611,
                    33.844425,
                    33.974044,
                    37.386691,
                    33.994941,
                    38.585076,
                    32.216256,
                    36.17269,
                    45.498251,
                    34.345883,
                    31.760613,
                    47.253432,
                    32.724693,
                    33.451015,
                    47.611601,
                    35.384352,
                    37.777255,
                    40.755074,
                    39.75071,
                    35.082729,
                    37.779887,
                    39.80006,
                    44.985775,
                    34.893261,
                    38.253601,
                    30.449314,
                    39.103883,
                    33.753693,
                    27.95454,
                    41.586162,
                    41.263251,
                    35.946445,
                    39.10663,
                    38.631358,
                    28.541627,
                    30.340415,
                    43.037602,
                    32.466926,
                    26.121066,
                    32.75826,
                    32.787642,
                    35.033731,
                    34.747348,
                    44.065571,
                    37.215347,
                    29.956664,
                    35.467763,
                    39.77422,
                    34.847881,
                    33.518634,
                    26.345694,
                    31.575993,
                    29.469324,
                    36.149273,
                    29.757317,
                    36.164003,
                    41.88331,
                    30.270515,
                    25.778271
                  ],
                  "lon": [
                    -78.884649,
                    -76.292507,
                    -77.60262,
                    -79.826641,
                    -73.74868,
                    -72.92471,
                    -73.997846,
                    -79.766346,
                    -75.470433,
                    -83.548348,
                    -71.409316,
                    -75.537257,
                    -84.1879,
                    -73.609283,
                    -76.15084,
                    -74.17309,
                    -72.666218,
                    -77.397427,
                    -75.70249,
                    -74.128618,
                    -83.059731,
                    -70.259388,
                    -83.016823,
                    -81.671411,
                    -73.982438,
                    -76.880588,
                    -81.524301,
                    -75.199624,
                    -72.597915,
                    -77.521398,
                    -74.5012,
                    -80.64936,
                    -76.622747,
                    -79.95449,
                    -80.826397,
                    -77.436395,
                    -85.654579,
                    -77.964032,
                    -77.017989,
                    -78.634051,
                    -71.05344,
                    -119.786244,
                    -117.951222,
                    -118.248849,
                    -121.89705,
                    -117.372528,
                    -121.491186,
                    -110.970728,
                    -115.121117,
                    -122.692496,
                    -119.328846,
                    -106.47948,
                    -122.435514,
                    -117.164885,
                    -112.068554,
                    -122.333038,
                    -119.019342,
                    -122.217025,
                    -111.89849,
                    -104.996225,
                    -106.646276,
                    -122.418066,
                    -89.647829,
                    -93.270165,
                    -87.637505,
                    -85.768124,
                    -91.187593,
                    -94.600613,
                    -84.389544,
                    -82.45734,
                    -87.319082,
                    -95.932956,
                    -84.022857,
                    -84.49974,
                    -90.192246,
                    -81.37397,
                    -81.830904,
                    -87.916246,
                    -84.980818,
                    -80.127818,
                    -97.32787,
                    -96.799525,
                    -89.934319,
                    -92.278932,
                    -92.51005,
                    -93.294978,
                    -90.077506,
                    -97.520977,
                    -86.109309,
                    -82.403745,
                    -86.808862,
                    -80.084229,
                    -84.154368,
                    -98.527988,
                    -95.975637,
                    -95.365005,
                    -86.7745,
                    -87.624713,
                    -97.74218,
                    -80.198105
                  ],
                  "marker": {
                    "color": [
                      "orange",
                      "orange",
                      "orange",
                      "orange",
                      "orange",
                      "orange",
                      "orange",
                      "orange",
                      "orange",
                      "orange",
                      "orange",
                      "orange",
                      "orange",
                      "orange",
                      "orange",
                      "orange",
                      "orange",
                      "orange",
                      "orange",
                      "orange",
                      "orange",
                      "orange",
                      "orange",
                      "orange",
                      "orange",
                      "orange",
                      "orange",
                      "orange",
                      "orange",
                      "orange",
                      "orange",
                      "orange",
                      "orange",
                      "orange",
                      "orange",
                      "orange",
                      "orange",
                      "orange",
                      "orange",
                      "orange",
                      "orange",
                      "orange",
                      "orange",
                      "orange",
                      "orange",
                      "orange",
                      "orange",
                      "orange",
                      "orange",
                      "orange",
                      "orange",
                      "orange",
                      "orange",
                      "orange",
                      "orange",
                      "orange",
                      "orange",
                      "orange",
                      "orange",
                      "orange",
                      "orange",
                      "orange",
                      "orange",
                      "orange",
                      "orange",
                      "orange",
                      "orange",
                      "orange",
                      "orange",
                      "orange",
                      "orange",
                      "orange",
                      "orange",
                      "orange",
                      "orange",
                      "orange",
                      "orange",
                      "orange",
                      "orange",
                      "orange",
                      "orange",
                      "orange",
                      "orange",
                      "orange",
                      "orange",
                      "orange",
                      "orange",
                      "orange",
                      "orange",
                      "orange",
                      "orange",
                      "orange",
                      "orange",
                      "orange",
                      "orange",
                      "orange",
                      "orange",
                      "orange",
                      "orange",
                      "orange"
                    ],
                    "line": {
                      "color": "rgba(68, 68, 68, 0)",
                      "width": 3
                    },
                    "size": [
                      8,
                      8,
                      8,
                      8,
                      8,
                      8,
                      8,
                      8,
                      8,
                      8,
                      8,
                      8,
                      8,
                      8,
                      8,
                      8,
                      8,
                      8,
                      8,
                      8,
                      8,
                      8,
                      8,
                      8,
                      8,
                      8,
                      8,
                      8,
                      8,
                      8,
                      8,
                      8,
                      8,
                      8,
                      8,
                      8,
                      8,
                      8,
                      8,
                      8,
                      8,
                      8,
                      8,
                      8,
                      8,
                      8,
                      8,
                      8,
                      8,
                      8,
                      8,
                      8,
                      8,
                      8,
                      8,
                      8,
                      8,
                      8,
                      8,
                      8,
                      8,
                      8,
                      8,
                      8,
                      8,
                      8,
                      8,
                      8,
                      8,
                      8,
                      8,
                      8,
                      8,
                      8,
                      8,
                      8,
                      8,
                      8,
                      8,
                      8,
                      8,
                      8,
                      8,
                      8,
                      8,
                      8,
                      8,
                      8,
                      8,
                      8,
                      8,
                      8,
                      8,
                      8,
                      8,
                      8,
                      8,
                      8,
                      8,
                      8
                    ],
                    "symbol": [
                      "circle",
                      "circle",
                      "circle",
                      "circle",
                      "circle",
                      "circle",
                      "circle",
                      "circle",
                      "circle",
                      "circle",
                      "circle",
                      "circle",
                      "circle",
                      "circle",
                      "circle",
                      "circle",
                      "circle",
                      "circle",
                      "circle",
                      "circle",
                      "circle",
                      "circle",
                      "circle",
                      "circle",
                      "circle",
                      "circle",
                      "circle",
                      "circle",
                      "circle",
                      "circle",
                      "circle",
                      "circle",
                      "circle",
                      "circle",
                      "circle",
                      "circle",
                      "circle",
                      "circle",
                      "circle",
                      "circle",
                      "circle",
                      "circle",
                      "circle",
                      "circle",
                      "circle",
                      "circle",
                      "circle",
                      "circle",
                      "circle",
                      "circle",
                      "circle",
                      "circle",
                      "circle",
                      "circle",
                      "circle",
                      "circle",
                      "circle",
                      "circle",
                      "circle",
                      "circle",
                      "circle",
                      "circle",
                      "circle",
                      "circle",
                      "circle",
                      "circle",
                      "circle",
                      "circle",
                      "circle",
                      "circle",
                      "circle",
                      "circle",
                      "circle",
                      "circle",
                      "circle",
                      "circle",
                      "circle",
                      "circle",
                      "circle",
                      "circle",
                      "circle",
                      "circle",
                      "circle",
                      "circle",
                      "circle",
                      "circle",
                      "circle",
                      "circle",
                      "circle",
                      "circle",
                      "circle",
                      "circle",
                      "circle",
                      "circle",
                      "circle",
                      "circle",
                      "circle",
                      "circle",
                      "circle",
                      "circle"
                    ]
                  },
                  "name": "Customer",
                  "text": [
                    "Buffalo Customer",
                    "Norfolk Customer",
                    "Rochester Customer",
                    "Florence Customer",
                    "Albany Customer",
                    "New Haven Customer",
                    "New York City Customer",
                    "Greensboro Customer",
                    "Allentown Customer",
                    "Toledo Customer",
                    "Providence Customer",
                    "Wilmington Customer",
                    "Dayton Customer",
                    "Nassau-Suffolk Customer",
                    "Syracuse Customer",
                    "Newark Customer",
                    "Hartford Customer",
                    "Greenville Customer",
                    "Scranton Customer",
                    "Bergen Customer",
                    "Detroit Customer",
                    "Portland Customer",
                    "Columbus Customer",
                    "Cleveland Customer",
                    "Monmouth Customer",
                    "Harrisburg Customer",
                    "Akron Customer",
                    "Philadelphia Customer",
                    "Springfield Customer",
                    "Jacksonville Customer",
                    "Middlesex Customer",
                    "Youngstown Customer",
                    "Baltimore Customer",
                    "Pittsburgh Customer",
                    "Charlotte Customer",
                    "Richmond Customer",
                    "Grand Rapids Customer",
                    "Wilmington Customer",
                    "Washington Customer",
                    "Raleigh Customer",
                    "Boston Customer",
                    "Fresno Customer",
                    "Orange Customer",
                    "Los Angeles Customer",
                    "San Jose Customer",
                    "Riverside Customer",
                    "Sacramento Customer",
                    "Tucson Customer",
                    "Las Vegas Customer",
                    "Portland Customer",
                    "Ventura Customer",
                    "El Paso Customer",
                    "Tacoma Customer",
                    "San Diego Customer",
                    "Phoenix Customer",
                    "Seattle Customer",
                    "Bakersfield Customer",
                    "Oakland Customer",
                    "Salt Lake City Customer",
                    "Denver Customer",
                    "Albuquerque Customer",
                    "San Francisco Customer",
                    "Springfield Customer",
                    "Minneapolis Customer",
                    "Florence Customer",
                    "Louisville Customer",
                    "Baton Rouge Customer",
                    "Kansas City Customer",
                    "Atlanta Customer",
                    "Tampa Customer",
                    "Gary Customer",
                    "Omaha Customer",
                    "Knoxville Customer",
                    "Cincinnati Customer",
                    "St. Louis Customer",
                    "Orlando Customer",
                    "Jacksonville Customer",
                    "Milwaukee Customer",
                    "Columbus Customer",
                    "Fort Lauderdale Customer",
                    "Fort Worth Customer",
                    "Dallas Customer",
                    "Memphis Customer",
                    "Little Rock Customer",
                    "Rochester Customer",
                    "Springfield Customer",
                    "New Orleans Customer",
                    "Oklahoma City Customer",
                    "Indianapolis Customer",
                    "Greenville Customer",
                    "Birmingham Customer",
                    "West Palm Beach Customer",
                    "Albany Customer",
                    "San Antonio Customer",
                    "Tulsa Customer",
                    "Houston Customer",
                    "Nashville Customer",
                    "Chicago Customer",
                    "Austin Customer",
                    "Miami Customer"
                  ],
                  "type": "scattergeo"
                },
                {
                  "lat": [
                    39.294398,
                    42.896219
                  ],
                  "line": {
                    "color": "green",
                    "width": 2
                  },
                  "lon": [
                    -76.622747,
                    -78.884649
                  ],
                  "mode": "lines",
                  "opacity": 0.8,
                  "showlegend": false,
                  "type": "scattergeo"
                },
                {
                  "lat": [
                    39.294398,
                    36.852105
                  ],
                  "line": {
                    "color": "green",
                    "width": 2
                  },
                  "lon": [
                    -76.622747,
                    -76.292507
                  ],
                  "mode": "lines",
                  "opacity": 0.8,
                  "showlegend": false,
                  "type": "scattergeo"
                },
                {
                  "lat": [
                    39.294398,
                    43.1683
                  ],
                  "line": {
                    "color": "green",
                    "width": 2
                  },
                  "lon": [
                    -76.622747,
                    -77.60262
                  ],
                  "mode": "lines",
                  "opacity": 0.8,
                  "showlegend": false,
                  "type": "scattergeo"
                },
                {
                  "lat": [
                    39.294398,
                    34.198188
                  ],
                  "line": {
                    "color": "green",
                    "width": 2
                  },
                  "lon": [
                    -76.622747,
                    -79.826641
                  ],
                  "mode": "lines",
                  "opacity": 0.8,
                  "showlegend": false,
                  "type": "scattergeo"
                },
                {
                  "lat": [
                    39.294398,
                    42.65287
                  ],
                  "line": {
                    "color": "green",
                    "width": 2
                  },
                  "lon": [
                    -76.622747,
                    -73.74868
                  ],
                  "mode": "lines",
                  "opacity": 0.8,
                  "showlegend": false,
                  "type": "scattergeo"
                },
                {
                  "lat": [
                    39.294398,
                    41.30758
                  ],
                  "line": {
                    "color": "green",
                    "width": 2
                  },
                  "lon": [
                    -76.622747,
                    -72.92471
                  ],
                  "mode": "lines",
                  "opacity": 0.8,
                  "showlegend": false,
                  "type": "scattergeo"
                },
                {
                  "lat": [
                    39.294398,
                    40.75012
                  ],
                  "line": {
                    "color": "green",
                    "width": 2
                  },
                  "lon": [
                    -76.622747,
                    -73.997846
                  ],
                  "mode": "lines",
                  "opacity": 0.8,
                  "showlegend": false,
                  "type": "scattergeo"
                },
                {
                  "lat": [
                    39.294398,
                    36.070061
                  ],
                  "line": {
                    "color": "green",
                    "width": 2
                  },
                  "lon": [
                    -76.622747,
                    -79.766346
                  ],
                  "mode": "lines",
                  "opacity": 0.8,
                  "showlegend": false,
                  "type": "scattergeo"
                },
                {
                  "lat": [
                    39.294398,
                    40.602812
                  ],
                  "line": {
                    "color": "green",
                    "width": 2
                  },
                  "lon": [
                    -76.622747,
                    -75.470433
                  ],
                  "mode": "lines",
                  "opacity": 0.8,
                  "showlegend": false,
                  "type": "scattergeo"
                },
                {
                  "lat": [
                    39.294398,
                    41.645022
                  ],
                  "line": {
                    "color": "green",
                    "width": 2
                  },
                  "lon": [
                    -76.622747,
                    -83.548348
                  ],
                  "mode": "lines",
                  "opacity": 0.8,
                  "showlegend": false,
                  "type": "scattergeo"
                },
                {
                  "lat": [
                    39.294398,
                    41.817904
                  ],
                  "line": {
                    "color": "green",
                    "width": 2
                  },
                  "lon": [
                    -76.622747,
                    -71.409316
                  ],
                  "mode": "lines",
                  "opacity": 0.8,
                  "showlegend": false,
                  "type": "scattergeo"
                },
                {
                  "lat": [
                    39.294398,
                    39.728445
                  ],
                  "line": {
                    "color": "green",
                    "width": 2
                  },
                  "lon": [
                    -76.622747,
                    -75.537257
                  ],
                  "mode": "lines",
                  "opacity": 0.8,
                  "showlegend": false,
                  "type": "scattergeo"
                },
                {
                  "lat": [
                    39.294398,
                    39.758119
                  ],
                  "line": {
                    "color": "green",
                    "width": 2
                  },
                  "lon": [
                    -76.622747,
                    -84.1879
                  ],
                  "mode": "lines",
                  "opacity": 0.8,
                  "showlegend": false,
                  "type": "scattergeo"
                },
                {
                  "lat": [
                    39.294398,
                    42.526891
                  ],
                  "line": {
                    "color": "green",
                    "width": 2
                  },
                  "lon": [
                    -76.622747,
                    -73.609283
                  ],
                  "mode": "lines",
                  "opacity": 0.8,
                  "showlegend": false,
                  "type": "scattergeo"
                },
                {
                  "lat": [
                    39.294398,
                    43.04335
                  ],
                  "line": {
                    "color": "green",
                    "width": 2
                  },
                  "lon": [
                    -76.622747,
                    -76.15084
                  ],
                  "mode": "lines",
                  "opacity": 0.8,
                  "showlegend": false,
                  "type": "scattergeo"
                },
                {
                  "lat": [
                    39.294398,
                    40.735652
                  ],
                  "line": {
                    "color": "green",
                    "width": 2
                  },
                  "lon": [
                    -76.622747,
                    -74.17309
                  ],
                  "mode": "lines",
                  "opacity": 0.8,
                  "showlegend": false,
                  "type": "scattergeo"
                },
                {
                  "lat": [
                    39.294398,
                    41.789
                  ],
                  "line": {
                    "color": "green",
                    "width": 2
                  },
                  "lon": [
                    -76.622747,
                    -72.666218
                  ],
                  "mode": "lines",
                  "opacity": 0.8,
                  "showlegend": false,
                  "type": "scattergeo"
                },
                {
                  "lat": [
                    39.294398,
                    35.659441
                  ],
                  "line": {
                    "color": "green",
                    "width": 2
                  },
                  "lon": [
                    -76.622747,
                    -77.397427
                  ],
                  "mode": "lines",
                  "opacity": 0.8,
                  "showlegend": false,
                  "type": "scattergeo"
                },
                {
                  "lat": [
                    39.294398,
                    41.358057
                  ],
                  "line": {
                    "color": "green",
                    "width": 2
                  },
                  "lon": [
                    -76.622747,
                    -75.70249
                  ],
                  "mode": "lines",
                  "opacity": 0.8,
                  "showlegend": false,
                  "type": "scattergeo"
                },
                {
                  "lat": [
                    39.294398,
                    40.857466
                  ],
                  "line": {
                    "color": "green",
                    "width": 2
                  },
                  "lon": [
                    -76.622747,
                    -74.128618
                  ],
                  "mode": "lines",
                  "opacity": 0.8,
                  "showlegend": false,
                  "type": "scattergeo"
                },
                {
                  "lat": [
                    39.294398,
                    42.346577
                  ],
                  "line": {
                    "color": "green",
                    "width": 2
                  },
                  "lon": [
                    -76.622747,
                    -83.059731
                  ],
                  "mode": "lines",
                  "opacity": 0.8,
                  "showlegend": false,
                  "type": "scattergeo"
                },
                {
                  "lat": [
                    39.294398,
                    43.661941
                  ],
                  "line": {
                    "color": "green",
                    "width": 2
                  },
                  "lon": [
                    -76.622747,
                    -70.259388
                  ],
                  "mode": "lines",
                  "opacity": 0.8,
                  "showlegend": false,
                  "type": "scattergeo"
                },
                {
                  "lat": [
                    39.294398,
                    40.099395
                  ],
                  "line": {
                    "color": "green",
                    "width": 2
                  },
                  "lon": [
                    -76.622747,
                    -83.016823
                  ],
                  "mode": "lines",
                  "opacity": 0.8,
                  "showlegend": false,
                  "type": "scattergeo"
                },
                {
                  "lat": [
                    39.294398,
                    41.491407
                  ],
                  "line": {
                    "color": "green",
                    "width": 2
                  },
                  "lon": [
                    -76.622747,
                    -81.671411
                  ],
                  "mode": "lines",
                  "opacity": 0.8,
                  "showlegend": false,
                  "type": "scattergeo"
                },
                {
                  "lat": [
                    39.294398,
                    40.333745
                  ],
                  "line": {
                    "color": "green",
                    "width": 2
                  },
                  "lon": [
                    -76.622747,
                    -73.982438
                  ],
                  "mode": "lines",
                  "opacity": 0.8,
                  "showlegend": false,
                  "type": "scattergeo"
                },
                {
                  "lat": [
                    39.294398,
                    40.264554
                  ],
                  "line": {
                    "color": "green",
                    "width": 2
                  },
                  "lon": [
                    -76.622747,
                    -76.880588
                  ],
                  "mode": "lines",
                  "opacity": 0.8,
                  "showlegend": false,
                  "type": "scattergeo"
                },
                {
                  "lat": [
                    39.294398,
                    41.043696
                  ],
                  "line": {
                    "color": "green",
                    "width": 2
                  },
                  "lon": [
                    -76.622747,
                    -81.524301
                  ],
                  "mode": "lines",
                  "opacity": 0.8,
                  "showlegend": false,
                  "type": "scattergeo"
                },
                {
                  "lat": [
                    39.294398,
                    39.961558
                  ],
                  "line": {
                    "color": "green",
                    "width": 2
                  },
                  "lon": [
                    -76.622747,
                    -75.199624
                  ],
                  "mode": "lines",
                  "opacity": 0.8,
                  "showlegend": false,
                  "type": "scattergeo"
                },
                {
                  "lat": [
                    39.294398,
                    42.105997
                  ],
                  "line": {
                    "color": "green",
                    "width": 2
                  },
                  "lon": [
                    -76.622747,
                    -72.597915
                  ],
                  "mode": "lines",
                  "opacity": 0.8,
                  "showlegend": false,
                  "type": "scattergeo"
                },
                {
                  "lat": [
                    39.294398,
                    34.677074
                  ],
                  "line": {
                    "color": "green",
                    "width": 2
                  },
                  "lon": [
                    -76.622747,
                    -77.521398
                  ],
                  "mode": "lines",
                  "opacity": 0.8,
                  "showlegend": false,
                  "type": "scattergeo"
                },
                {
                  "lat": [
                    39.294398,
                    40.574084
                  ],
                  "line": {
                    "color": "green",
                    "width": 2
                  },
                  "lon": [
                    -76.622747,
                    -74.5012
                  ],
                  "mode": "lines",
                  "opacity": 0.8,
                  "showlegend": false,
                  "type": "scattergeo"
                },
                {
                  "lat": [
                    39.294398,
                    41.099765
                  ],
                  "line": {
                    "color": "green",
                    "width": 2
                  },
                  "lon": [
                    -76.622747,
                    -80.64936
                  ],
                  "mode": "lines",
                  "opacity": 0.8,
                  "showlegend": false,
                  "type": "scattergeo"
                },
                {
                  "lat": [
                    39.294398,
                    39.294398
                  ],
                  "line": {
                    "color": "green",
                    "width": 2
                  },
                  "lon": [
                    -76.622747,
                    -76.622747
                  ],
                  "mode": "lines",
                  "opacity": 0.8,
                  "showlegend": false,
                  "type": "scattergeo"
                },
                {
                  "lat": [
                    39.294398,
                    40.474802
                  ],
                  "line": {
                    "color": "green",
                    "width": 2
                  },
                  "lon": [
                    -76.622747,
                    -79.95449
                  ],
                  "mode": "lines",
                  "opacity": 0.8,
                  "showlegend": false,
                  "type": "scattergeo"
                },
                {
                  "lat": [
                    39.294398,
                    35.194361
                  ],
                  "line": {
                    "color": "green",
                    "width": 2
                  },
                  "lon": [
                    -76.622747,
                    -80.826397
                  ],
                  "mode": "lines",
                  "opacity": 0.8,
                  "showlegend": false,
                  "type": "scattergeo"
                },
                {
                  "lat": [
                    39.294398,
                    37.538812
                  ],
                  "line": {
                    "color": "green",
                    "width": 2
                  },
                  "lon": [
                    -76.622747,
                    -77.436395
                  ],
                  "mode": "lines",
                  "opacity": 0.8,
                  "showlegend": false,
                  "type": "scattergeo"
                },
                {
                  "lat": [
                    39.294398,
                    42.965899
                  ],
                  "line": {
                    "color": "green",
                    "width": 2
                  },
                  "lon": [
                    -76.622747,
                    -85.654579
                  ],
                  "mode": "lines",
                  "opacity": 0.8,
                  "showlegend": false,
                  "type": "scattergeo"
                },
                {
                  "lat": [
                    39.294398,
                    34.274429
                  ],
                  "line": {
                    "color": "green",
                    "width": 2
                  },
                  "lon": [
                    -76.622747,
                    -77.964032
                  ],
                  "mode": "lines",
                  "opacity": 0.8,
                  "showlegend": false,
                  "type": "scattergeo"
                },
                {
                  "lat": [
                    39.294398,
                    38.910004
                  ],
                  "line": {
                    "color": "green",
                    "width": 2
                  },
                  "lon": [
                    -76.622747,
                    -77.017989
                  ],
                  "mode": "lines",
                  "opacity": 0.8,
                  "showlegend": false,
                  "type": "scattergeo"
                },
                {
                  "lat": [
                    39.294398,
                    35.773856
                  ],
                  "line": {
                    "color": "green",
                    "width": 2
                  },
                  "lon": [
                    -76.622747,
                    -78.634051
                  ],
                  "mode": "lines",
                  "opacity": 0.8,
                  "showlegend": false,
                  "type": "scattergeo"
                },
                {
                  "lat": [
                    39.294398,
                    42.36097
                  ],
                  "line": {
                    "color": "green",
                    "width": 2
                  },
                  "lon": [
                    -76.622747,
                    -71.05344
                  ],
                  "mode": "lines",
                  "opacity": 0.8,
                  "showlegend": false,
                  "type": "scattergeo"
                },
                {
                  "lat": [
                    33.451015,
                    36.749611
                  ],
                  "line": {
                    "color": "green",
                    "width": 2
                  },
                  "lon": [
                    -112.068554,
                    -119.786244
                  ],
                  "mode": "lines",
                  "opacity": 0.8,
                  "showlegend": false,
                  "type": "scattergeo"
                },
                {
                  "lat": [
                    33.451015,
                    33.844425
                  ],
                  "line": {
                    "color": "green",
                    "width": 2
                  },
                  "lon": [
                    -112.068554,
                    -117.951222
                  ],
                  "mode": "lines",
                  "opacity": 0.8,
                  "showlegend": false,
                  "type": "scattergeo"
                },
                {
                  "lat": [
                    33.451015,
                    33.974044
                  ],
                  "line": {
                    "color": "green",
                    "width": 2
                  },
                  "lon": [
                    -112.068554,
                    -118.248849
                  ],
                  "mode": "lines",
                  "opacity": 0.8,
                  "showlegend": false,
                  "type": "scattergeo"
                },
                {
                  "lat": [
                    33.451015,
                    37.386691
                  ],
                  "line": {
                    "color": "green",
                    "width": 2
                  },
                  "lon": [
                    -112.068554,
                    -121.89705
                  ],
                  "mode": "lines",
                  "opacity": 0.8,
                  "showlegend": false,
                  "type": "scattergeo"
                },
                {
                  "lat": [
                    33.451015,
                    33.994941
                  ],
                  "line": {
                    "color": "green",
                    "width": 2
                  },
                  "lon": [
                    -112.068554,
                    -117.372528
                  ],
                  "mode": "lines",
                  "opacity": 0.8,
                  "showlegend": false,
                  "type": "scattergeo"
                },
                {
                  "lat": [
                    33.451015,
                    38.585076
                  ],
                  "line": {
                    "color": "green",
                    "width": 2
                  },
                  "lon": [
                    -112.068554,
                    -121.491186
                  ],
                  "mode": "lines",
                  "opacity": 0.8,
                  "showlegend": false,
                  "type": "scattergeo"
                },
                {
                  "lat": [
                    33.451015,
                    32.216256
                  ],
                  "line": {
                    "color": "green",
                    "width": 2
                  },
                  "lon": [
                    -112.068554,
                    -110.970728
                  ],
                  "mode": "lines",
                  "opacity": 0.8,
                  "showlegend": false,
                  "type": "scattergeo"
                },
                {
                  "lat": [
                    33.451015,
                    36.17269
                  ],
                  "line": {
                    "color": "green",
                    "width": 2
                  },
                  "lon": [
                    -112.068554,
                    -115.121117
                  ],
                  "mode": "lines",
                  "opacity": 0.8,
                  "showlegend": false,
                  "type": "scattergeo"
                },
                {
                  "lat": [
                    33.451015,
                    45.498251
                  ],
                  "line": {
                    "color": "green",
                    "width": 2
                  },
                  "lon": [
                    -112.068554,
                    -122.692496
                  ],
                  "mode": "lines",
                  "opacity": 0.8,
                  "showlegend": false,
                  "type": "scattergeo"
                },
                {
                  "lat": [
                    33.451015,
                    34.345883
                  ],
                  "line": {
                    "color": "green",
                    "width": 2
                  },
                  "lon": [
                    -112.068554,
                    -119.328846
                  ],
                  "mode": "lines",
                  "opacity": 0.8,
                  "showlegend": false,
                  "type": "scattergeo"
                },
                {
                  "lat": [
                    33.451015,
                    31.760613
                  ],
                  "line": {
                    "color": "green",
                    "width": 2
                  },
                  "lon": [
                    -112.068554,
                    -106.47948
                  ],
                  "mode": "lines",
                  "opacity": 0.8,
                  "showlegend": false,
                  "type": "scattergeo"
                },
                {
                  "lat": [
                    33.451015,
                    47.253432
                  ],
                  "line": {
                    "color": "green",
                    "width": 2
                  },
                  "lon": [
                    -112.068554,
                    -122.435514
                  ],
                  "mode": "lines",
                  "opacity": 0.8,
                  "showlegend": false,
                  "type": "scattergeo"
                },
                {
                  "lat": [
                    33.451015,
                    32.724693
                  ],
                  "line": {
                    "color": "green",
                    "width": 2
                  },
                  "lon": [
                    -112.068554,
                    -117.164885
                  ],
                  "mode": "lines",
                  "opacity": 0.8,
                  "showlegend": false,
                  "type": "scattergeo"
                },
                {
                  "lat": [
                    33.451015,
                    33.451015
                  ],
                  "line": {
                    "color": "green",
                    "width": 2
                  },
                  "lon": [
                    -112.068554,
                    -112.068554
                  ],
                  "mode": "lines",
                  "opacity": 0.8,
                  "showlegend": false,
                  "type": "scattergeo"
                },
                {
                  "lat": [
                    33.451015,
                    47.611601
                  ],
                  "line": {
                    "color": "green",
                    "width": 2
                  },
                  "lon": [
                    -112.068554,
                    -122.333038
                  ],
                  "mode": "lines",
                  "opacity": 0.8,
                  "showlegend": false,
                  "type": "scattergeo"
                },
                {
                  "lat": [
                    33.451015,
                    35.384352
                  ],
                  "line": {
                    "color": "green",
                    "width": 2
                  },
                  "lon": [
                    -112.068554,
                    -119.019342
                  ],
                  "mode": "lines",
                  "opacity": 0.8,
                  "showlegend": false,
                  "type": "scattergeo"
                },
                {
                  "lat": [
                    33.451015,
                    37.777255
                  ],
                  "line": {
                    "color": "green",
                    "width": 2
                  },
                  "lon": [
                    -112.068554,
                    -122.217025
                  ],
                  "mode": "lines",
                  "opacity": 0.8,
                  "showlegend": false,
                  "type": "scattergeo"
                },
                {
                  "lat": [
                    33.451015,
                    40.755074
                  ],
                  "line": {
                    "color": "green",
                    "width": 2
                  },
                  "lon": [
                    -112.068554,
                    -111.89849
                  ],
                  "mode": "lines",
                  "opacity": 0.8,
                  "showlegend": false,
                  "type": "scattergeo"
                },
                {
                  "lat": [
                    33.451015,
                    39.75071
                  ],
                  "line": {
                    "color": "green",
                    "width": 2
                  },
                  "lon": [
                    -112.068554,
                    -104.996225
                  ],
                  "mode": "lines",
                  "opacity": 0.8,
                  "showlegend": false,
                  "type": "scattergeo"
                },
                {
                  "lat": [
                    33.451015,
                    35.082729
                  ],
                  "line": {
                    "color": "green",
                    "width": 2
                  },
                  "lon": [
                    -112.068554,
                    -106.646276
                  ],
                  "mode": "lines",
                  "opacity": 0.8,
                  "showlegend": false,
                  "type": "scattergeo"
                },
                {
                  "lat": [
                    33.451015,
                    37.779887
                  ],
                  "line": {
                    "color": "green",
                    "width": 2
                  },
                  "lon": [
                    -112.068554,
                    -122.418066
                  ],
                  "mode": "lines",
                  "opacity": 0.8,
                  "showlegend": false,
                  "type": "scattergeo"
                },
                {
                  "lat": [
                    35.033731,
                    39.80006
                  ],
                  "line": {
                    "color": "green",
                    "width": 2
                  },
                  "lon": [
                    -89.934319,
                    -89.647829
                  ],
                  "mode": "lines",
                  "opacity": 0.8,
                  "showlegend": false,
                  "type": "scattergeo"
                },
                {
                  "lat": [
                    35.033731,
                    44.985775
                  ],
                  "line": {
                    "color": "green",
                    "width": 2
                  },
                  "lon": [
                    -89.934319,
                    -93.270165
                  ],
                  "mode": "lines",
                  "opacity": 0.8,
                  "showlegend": false,
                  "type": "scattergeo"
                },
                {
                  "lat": [
                    35.033731,
                    34.893261
                  ],
                  "line": {
                    "color": "green",
                    "width": 2
                  },
                  "lon": [
                    -89.934319,
                    -87.637505
                  ],
                  "mode": "lines",
                  "opacity": 0.8,
                  "showlegend": false,
                  "type": "scattergeo"
                },
                {
                  "lat": [
                    35.033731,
                    38.253601
                  ],
                  "line": {
                    "color": "green",
                    "width": 2
                  },
                  "lon": [
                    -89.934319,
                    -85.768124
                  ],
                  "mode": "lines",
                  "opacity": 0.8,
                  "showlegend": false,
                  "type": "scattergeo"
                },
                {
                  "lat": [
                    35.033731,
                    30.449314
                  ],
                  "line": {
                    "color": "green",
                    "width": 2
                  },
                  "lon": [
                    -89.934319,
                    -91.187593
                  ],
                  "mode": "lines",
                  "opacity": 0.8,
                  "showlegend": false,
                  "type": "scattergeo"
                },
                {
                  "lat": [
                    35.033731,
                    39.103883
                  ],
                  "line": {
                    "color": "green",
                    "width": 2
                  },
                  "lon": [
                    -89.934319,
                    -94.600613
                  ],
                  "mode": "lines",
                  "opacity": 0.8,
                  "showlegend": false,
                  "type": "scattergeo"
                },
                {
                  "lat": [
                    35.033731,
                    33.753693
                  ],
                  "line": {
                    "color": "green",
                    "width": 2
                  },
                  "lon": [
                    -89.934319,
                    -84.389544
                  ],
                  "mode": "lines",
                  "opacity": 0.8,
                  "showlegend": false,
                  "type": "scattergeo"
                },
                {
                  "lat": [
                    35.033731,
                    27.95454
                  ],
                  "line": {
                    "color": "green",
                    "width": 2
                  },
                  "lon": [
                    -89.934319,
                    -82.45734
                  ],
                  "mode": "lines",
                  "opacity": 0.8,
                  "showlegend": false,
                  "type": "scattergeo"
                },
                {
                  "lat": [
                    35.033731,
                    41.586162
                  ],
                  "line": {
                    "color": "green",
                    "width": 2
                  },
                  "lon": [
                    -89.934319,
                    -87.319082
                  ],
                  "mode": "lines",
                  "opacity": 0.8,
                  "showlegend": false,
                  "type": "scattergeo"
                },
                {
                  "lat": [
                    35.033731,
                    41.263251
                  ],
                  "line": {
                    "color": "green",
                    "width": 2
                  },
                  "lon": [
                    -89.934319,
                    -95.932956
                  ],
                  "mode": "lines",
                  "opacity": 0.8,
                  "showlegend": false,
                  "type": "scattergeo"
                },
                {
                  "lat": [
                    35.033731,
                    35.946445
                  ],
                  "line": {
                    "color": "green",
                    "width": 2
                  },
                  "lon": [
                    -89.934319,
                    -84.022857
                  ],
                  "mode": "lines",
                  "opacity": 0.8,
                  "showlegend": false,
                  "type": "scattergeo"
                },
                {
                  "lat": [
                    35.033731,
                    39.10663
                  ],
                  "line": {
                    "color": "green",
                    "width": 2
                  },
                  "lon": [
                    -89.934319,
                    -84.49974
                  ],
                  "mode": "lines",
                  "opacity": 0.8,
                  "showlegend": false,
                  "type": "scattergeo"
                },
                {
                  "lat": [
                    35.033731,
                    38.631358
                  ],
                  "line": {
                    "color": "green",
                    "width": 2
                  },
                  "lon": [
                    -89.934319,
                    -90.192246
                  ],
                  "mode": "lines",
                  "opacity": 0.8,
                  "showlegend": false,
                  "type": "scattergeo"
                },
                {
                  "lat": [
                    35.033731,
                    28.541627
                  ],
                  "line": {
                    "color": "green",
                    "width": 2
                  },
                  "lon": [
                    -89.934319,
                    -81.37397
                  ],
                  "mode": "lines",
                  "opacity": 0.8,
                  "showlegend": false,
                  "type": "scattergeo"
                },
                {
                  "lat": [
                    35.033731,
                    30.340415
                  ],
                  "line": {
                    "color": "green",
                    "width": 2
                  },
                  "lon": [
                    -89.934319,
                    -81.830904
                  ],
                  "mode": "lines",
                  "opacity": 0.8,
                  "showlegend": false,
                  "type": "scattergeo"
                },
                {
                  "lat": [
                    35.033731,
                    43.037602
                  ],
                  "line": {
                    "color": "green",
                    "width": 2
                  },
                  "lon": [
                    -89.934319,
                    -87.916246
                  ],
                  "mode": "lines",
                  "opacity": 0.8,
                  "showlegend": false,
                  "type": "scattergeo"
                },
                {
                  "lat": [
                    35.033731,
                    32.466926
                  ],
                  "line": {
                    "color": "green",
                    "width": 2
                  },
                  "lon": [
                    -89.934319,
                    -84.980818
                  ],
                  "mode": "lines",
                  "opacity": 0.8,
                  "showlegend": false,
                  "type": "scattergeo"
                },
                {
                  "lat": [
                    35.033731,
                    26.121066
                  ],
                  "line": {
                    "color": "green",
                    "width": 2
                  },
                  "lon": [
                    -89.934319,
                    -80.127818
                  ],
                  "mode": "lines",
                  "opacity": 0.8,
                  "showlegend": false,
                  "type": "scattergeo"
                },
                {
                  "lat": [
                    35.033731,
                    32.75826
                  ],
                  "line": {
                    "color": "green",
                    "width": 2
                  },
                  "lon": [
                    -89.934319,
                    -97.32787
                  ],
                  "mode": "lines",
                  "opacity": 0.8,
                  "showlegend": false,
                  "type": "scattergeo"
                },
                {
                  "lat": [
                    35.033731,
                    32.787642
                  ],
                  "line": {
                    "color": "green",
                    "width": 2
                  },
                  "lon": [
                    -89.934319,
                    -96.799525
                  ],
                  "mode": "lines",
                  "opacity": 0.8,
                  "showlegend": false,
                  "type": "scattergeo"
                },
                {
                  "lat": [
                    35.033731,
                    35.033731
                  ],
                  "line": {
                    "color": "green",
                    "width": 2
                  },
                  "lon": [
                    -89.934319,
                    -89.934319
                  ],
                  "mode": "lines",
                  "opacity": 0.8,
                  "showlegend": false,
                  "type": "scattergeo"
                },
                {
                  "lat": [
                    35.033731,
                    34.747348
                  ],
                  "line": {
                    "color": "green",
                    "width": 2
                  },
                  "lon": [
                    -89.934319,
                    -92.278932
                  ],
                  "mode": "lines",
                  "opacity": 0.8,
                  "showlegend": false,
                  "type": "scattergeo"
                },
                {
                  "lat": [
                    35.033731,
                    44.065571
                  ],
                  "line": {
                    "color": "green",
                    "width": 2
                  },
                  "lon": [
                    -89.934319,
                    -92.51005
                  ],
                  "mode": "lines",
                  "opacity": 0.8,
                  "showlegend": false,
                  "type": "scattergeo"
                },
                {
                  "lat": [
                    35.033731,
                    37.215347
                  ],
                  "line": {
                    "color": "green",
                    "width": 2
                  },
                  "lon": [
                    -89.934319,
                    -93.294978
                  ],
                  "mode": "lines",
                  "opacity": 0.8,
                  "showlegend": false,
                  "type": "scattergeo"
                },
                {
                  "lat": [
                    35.033731,
                    29.956664
                  ],
                  "line": {
                    "color": "green",
                    "width": 2
                  },
                  "lon": [
                    -89.934319,
                    -90.077506
                  ],
                  "mode": "lines",
                  "opacity": 0.8,
                  "showlegend": false,
                  "type": "scattergeo"
                },
                {
                  "lat": [
                    35.033731,
                    35.467763
                  ],
                  "line": {
                    "color": "green",
                    "width": 2
                  },
                  "lon": [
                    -89.934319,
                    -97.520977
                  ],
                  "mode": "lines",
                  "opacity": 0.8,
                  "showlegend": false,
                  "type": "scattergeo"
                },
                {
                  "lat": [
                    35.033731,
                    39.77422
                  ],
                  "line": {
                    "color": "green",
                    "width": 2
                  },
                  "lon": [
                    -89.934319,
                    -86.109309
                  ],
                  "mode": "lines",
                  "opacity": 0.8,
                  "showlegend": false,
                  "type": "scattergeo"
                },
                {
                  "lat": [
                    35.033731,
                    34.847881
                  ],
                  "line": {
                    "color": "green",
                    "width": 2
                  },
                  "lon": [
                    -89.934319,
                    -82.403745
                  ],
                  "mode": "lines",
                  "opacity": 0.8,
                  "showlegend": false,
                  "type": "scattergeo"
                },
                {
                  "lat": [
                    35.033731,
                    33.518634
                  ],
                  "line": {
                    "color": "green",
                    "width": 2
                  },
                  "lon": [
                    -89.934319,
                    -86.808862
                  ],
                  "mode": "lines",
                  "opacity": 0.8,
                  "showlegend": false,
                  "type": "scattergeo"
                },
                {
                  "lat": [
                    35.033731,
                    26.345694
                  ],
                  "line": {
                    "color": "green",
                    "width": 2
                  },
                  "lon": [
                    -89.934319,
                    -80.084229
                  ],
                  "mode": "lines",
                  "opacity": 0.8,
                  "showlegend": false,
                  "type": "scattergeo"
                },
                {
                  "lat": [
                    35.033731,
                    31.575993
                  ],
                  "line": {
                    "color": "green",
                    "width": 2
                  },
                  "lon": [
                    -89.934319,
                    -84.154368
                  ],
                  "mode": "lines",
                  "opacity": 0.8,
                  "showlegend": false,
                  "type": "scattergeo"
                },
                {
                  "lat": [
                    35.033731,
                    29.469324
                  ],
                  "line": {
                    "color": "green",
                    "width": 2
                  },
                  "lon": [
                    -89.934319,
                    -98.527988
                  ],
                  "mode": "lines",
                  "opacity": 0.8,
                  "showlegend": false,
                  "type": "scattergeo"
                },
                {
                  "lat": [
                    35.033731,
                    36.149273
                  ],
                  "line": {
                    "color": "green",
                    "width": 2
                  },
                  "lon": [
                    -89.934319,
                    -95.975637
                  ],
                  "mode": "lines",
                  "opacity": 0.8,
                  "showlegend": false,
                  "type": "scattergeo"
                },
                {
                  "lat": [
                    35.033731,
                    29.757317
                  ],
                  "line": {
                    "color": "green",
                    "width": 2
                  },
                  "lon": [
                    -89.934319,
                    -95.365005
                  ],
                  "mode": "lines",
                  "opacity": 0.8,
                  "showlegend": false,
                  "type": "scattergeo"
                },
                {
                  "lat": [
                    35.033731,
                    36.164003
                  ],
                  "line": {
                    "color": "green",
                    "width": 2
                  },
                  "lon": [
                    -89.934319,
                    -86.7745
                  ],
                  "mode": "lines",
                  "opacity": 0.8,
                  "showlegend": false,
                  "type": "scattergeo"
                },
                {
                  "lat": [
                    35.033731,
                    41.88331
                  ],
                  "line": {
                    "color": "green",
                    "width": 2
                  },
                  "lon": [
                    -89.934319,
                    -87.624713
                  ],
                  "mode": "lines",
                  "opacity": 0.8,
                  "showlegend": false,
                  "type": "scattergeo"
                },
                {
                  "lat": [
                    35.033731,
                    30.270515
                  ],
                  "line": {
                    "color": "green",
                    "width": 2
                  },
                  "lon": [
                    -89.934319,
                    -97.74218
                  ],
                  "mode": "lines",
                  "opacity": 0.8,
                  "showlegend": false,
                  "type": "scattergeo"
                },
                {
                  "lat": [
                    35.033731,
                    25.778271
                  ],
                  "line": {
                    "color": "green",
                    "width": 2
                  },
                  "lon": [
                    -89.934319,
                    -80.198105
                  ],
                  "mode": "lines",
                  "opacity": 0.8,
                  "showlegend": false,
                  "type": "scattergeo"
                }
              ],
              "layout": {
                "geo": {
                  "countrycolor": "rgb(204, 204, 204)",
                  "landcolor": "rgb(243, 243, 243)",
                  "scope": "usa",
                  "showland": true
                },
                "showlegend": true,
                "template": {
                  "data": {
                    "bar": [
                      {
                        "error_x": {
                          "color": "#2a3f5f"
                        },
                        "error_y": {
                          "color": "#2a3f5f"
                        },
                        "marker": {
                          "line": {
                            "color": "#E5ECF6",
                            "width": 0.5
                          },
                          "pattern": {
                            "fillmode": "overlay",
                            "size": 10,
                            "solidity": 0.2
                          }
                        },
                        "type": "bar"
                      }
                    ],
                    "barpolar": [
                      {
                        "marker": {
                          "line": {
                            "color": "#E5ECF6",
                            "width": 0.5
                          },
                          "pattern": {
                            "fillmode": "overlay",
                            "size": 10,
                            "solidity": 0.2
                          }
                        },
                        "type": "barpolar"
                      }
                    ],
                    "carpet": [
                      {
                        "aaxis": {
                          "endlinecolor": "#2a3f5f",
                          "gridcolor": "white",
                          "linecolor": "white",
                          "minorgridcolor": "white",
                          "startlinecolor": "#2a3f5f"
                        },
                        "baxis": {
                          "endlinecolor": "#2a3f5f",
                          "gridcolor": "white",
                          "linecolor": "white",
                          "minorgridcolor": "white",
                          "startlinecolor": "#2a3f5f"
                        },
                        "type": "carpet"
                      }
                    ],
                    "choropleth": [
                      {
                        "colorbar": {
                          "outlinewidth": 0,
                          "ticks": ""
                        },
                        "type": "choropleth"
                      }
                    ],
                    "contour": [
                      {
                        "colorbar": {
                          "outlinewidth": 0,
                          "ticks": ""
                        },
                        "colorscale": [
                          [
                            0,
                            "#0d0887"
                          ],
                          [
                            0.1111111111111111,
                            "#46039f"
                          ],
                          [
                            0.2222222222222222,
                            "#7201a8"
                          ],
                          [
                            0.3333333333333333,
                            "#9c179e"
                          ],
                          [
                            0.4444444444444444,
                            "#bd3786"
                          ],
                          [
                            0.5555555555555556,
                            "#d8576b"
                          ],
                          [
                            0.6666666666666666,
                            "#ed7953"
                          ],
                          [
                            0.7777777777777778,
                            "#fb9f3a"
                          ],
                          [
                            0.8888888888888888,
                            "#fdca26"
                          ],
                          [
                            1,
                            "#f0f921"
                          ]
                        ],
                        "type": "contour"
                      }
                    ],
                    "contourcarpet": [
                      {
                        "colorbar": {
                          "outlinewidth": 0,
                          "ticks": ""
                        },
                        "type": "contourcarpet"
                      }
                    ],
                    "heatmap": [
                      {
                        "colorbar": {
                          "outlinewidth": 0,
                          "ticks": ""
                        },
                        "colorscale": [
                          [
                            0,
                            "#0d0887"
                          ],
                          [
                            0.1111111111111111,
                            "#46039f"
                          ],
                          [
                            0.2222222222222222,
                            "#7201a8"
                          ],
                          [
                            0.3333333333333333,
                            "#9c179e"
                          ],
                          [
                            0.4444444444444444,
                            "#bd3786"
                          ],
                          [
                            0.5555555555555556,
                            "#d8576b"
                          ],
                          [
                            0.6666666666666666,
                            "#ed7953"
                          ],
                          [
                            0.7777777777777778,
                            "#fb9f3a"
                          ],
                          [
                            0.8888888888888888,
                            "#fdca26"
                          ],
                          [
                            1,
                            "#f0f921"
                          ]
                        ],
                        "type": "heatmap"
                      }
                    ],
                    "heatmapgl": [
                      {
                        "colorbar": {
                          "outlinewidth": 0,
                          "ticks": ""
                        },
                        "colorscale": [
                          [
                            0,
                            "#0d0887"
                          ],
                          [
                            0.1111111111111111,
                            "#46039f"
                          ],
                          [
                            0.2222222222222222,
                            "#7201a8"
                          ],
                          [
                            0.3333333333333333,
                            "#9c179e"
                          ],
                          [
                            0.4444444444444444,
                            "#bd3786"
                          ],
                          [
                            0.5555555555555556,
                            "#d8576b"
                          ],
                          [
                            0.6666666666666666,
                            "#ed7953"
                          ],
                          [
                            0.7777777777777778,
                            "#fb9f3a"
                          ],
                          [
                            0.8888888888888888,
                            "#fdca26"
                          ],
                          [
                            1,
                            "#f0f921"
                          ]
                        ],
                        "type": "heatmapgl"
                      }
                    ],
                    "histogram": [
                      {
                        "marker": {
                          "pattern": {
                            "fillmode": "overlay",
                            "size": 10,
                            "solidity": 0.2
                          }
                        },
                        "type": "histogram"
                      }
                    ],
                    "histogram2d": [
                      {
                        "colorbar": {
                          "outlinewidth": 0,
                          "ticks": ""
                        },
                        "colorscale": [
                          [
                            0,
                            "#0d0887"
                          ],
                          [
                            0.1111111111111111,
                            "#46039f"
                          ],
                          [
                            0.2222222222222222,
                            "#7201a8"
                          ],
                          [
                            0.3333333333333333,
                            "#9c179e"
                          ],
                          [
                            0.4444444444444444,
                            "#bd3786"
                          ],
                          [
                            0.5555555555555556,
                            "#d8576b"
                          ],
                          [
                            0.6666666666666666,
                            "#ed7953"
                          ],
                          [
                            0.7777777777777778,
                            "#fb9f3a"
                          ],
                          [
                            0.8888888888888888,
                            "#fdca26"
                          ],
                          [
                            1,
                            "#f0f921"
                          ]
                        ],
                        "type": "histogram2d"
                      }
                    ],
                    "histogram2dcontour": [
                      {
                        "colorbar": {
                          "outlinewidth": 0,
                          "ticks": ""
                        },
                        "colorscale": [
                          [
                            0,
                            "#0d0887"
                          ],
                          [
                            0.1111111111111111,
                            "#46039f"
                          ],
                          [
                            0.2222222222222222,
                            "#7201a8"
                          ],
                          [
                            0.3333333333333333,
                            "#9c179e"
                          ],
                          [
                            0.4444444444444444,
                            "#bd3786"
                          ],
                          [
                            0.5555555555555556,
                            "#d8576b"
                          ],
                          [
                            0.6666666666666666,
                            "#ed7953"
                          ],
                          [
                            0.7777777777777778,
                            "#fb9f3a"
                          ],
                          [
                            0.8888888888888888,
                            "#fdca26"
                          ],
                          [
                            1,
                            "#f0f921"
                          ]
                        ],
                        "type": "histogram2dcontour"
                      }
                    ],
                    "mesh3d": [
                      {
                        "colorbar": {
                          "outlinewidth": 0,
                          "ticks": ""
                        },
                        "type": "mesh3d"
                      }
                    ],
                    "parcoords": [
                      {
                        "line": {
                          "colorbar": {
                            "outlinewidth": 0,
                            "ticks": ""
                          }
                        },
                        "type": "parcoords"
                      }
                    ],
                    "pie": [
                      {
                        "automargin": true,
                        "type": "pie"
                      }
                    ],
                    "scatter": [
                      {
                        "marker": {
                          "colorbar": {
                            "outlinewidth": 0,
                            "ticks": ""
                          }
                        },
                        "type": "scatter"
                      }
                    ],
                    "scatter3d": [
                      {
                        "line": {
                          "colorbar": {
                            "outlinewidth": 0,
                            "ticks": ""
                          }
                        },
                        "marker": {
                          "colorbar": {
                            "outlinewidth": 0,
                            "ticks": ""
                          }
                        },
                        "type": "scatter3d"
                      }
                    ],
                    "scattercarpet": [
                      {
                        "marker": {
                          "colorbar": {
                            "outlinewidth": 0,
                            "ticks": ""
                          }
                        },
                        "type": "scattercarpet"
                      }
                    ],
                    "scattergeo": [
                      {
                        "marker": {
                          "colorbar": {
                            "outlinewidth": 0,
                            "ticks": ""
                          }
                        },
                        "type": "scattergeo"
                      }
                    ],
                    "scattergl": [
                      {
                        "marker": {
                          "colorbar": {
                            "outlinewidth": 0,
                            "ticks": ""
                          }
                        },
                        "type": "scattergl"
                      }
                    ],
                    "scattermapbox": [
                      {
                        "marker": {
                          "colorbar": {
                            "outlinewidth": 0,
                            "ticks": ""
                          }
                        },
                        "type": "scattermapbox"
                      }
                    ],
                    "scatterpolar": [
                      {
                        "marker": {
                          "colorbar": {
                            "outlinewidth": 0,
                            "ticks": ""
                          }
                        },
                        "type": "scatterpolar"
                      }
                    ],
                    "scatterpolargl": [
                      {
                        "marker": {
                          "colorbar": {
                            "outlinewidth": 0,
                            "ticks": ""
                          }
                        },
                        "type": "scatterpolargl"
                      }
                    ],
                    "scatterternary": [
                      {
                        "marker": {
                          "colorbar": {
                            "outlinewidth": 0,
                            "ticks": ""
                          }
                        },
                        "type": "scatterternary"
                      }
                    ],
                    "surface": [
                      {
                        "colorbar": {
                          "outlinewidth": 0,
                          "ticks": ""
                        },
                        "colorscale": [
                          [
                            0,
                            "#0d0887"
                          ],
                          [
                            0.1111111111111111,
                            "#46039f"
                          ],
                          [
                            0.2222222222222222,
                            "#7201a8"
                          ],
                          [
                            0.3333333333333333,
                            "#9c179e"
                          ],
                          [
                            0.4444444444444444,
                            "#bd3786"
                          ],
                          [
                            0.5555555555555556,
                            "#d8576b"
                          ],
                          [
                            0.6666666666666666,
                            "#ed7953"
                          ],
                          [
                            0.7777777777777778,
                            "#fb9f3a"
                          ],
                          [
                            0.8888888888888888,
                            "#fdca26"
                          ],
                          [
                            1,
                            "#f0f921"
                          ]
                        ],
                        "type": "surface"
                      }
                    ],
                    "table": [
                      {
                        "cells": {
                          "fill": {
                            "color": "#EBF0F8"
                          },
                          "line": {
                            "color": "white"
                          }
                        },
                        "header": {
                          "fill": {
                            "color": "#C8D4E3"
                          },
                          "line": {
                            "color": "white"
                          }
                        },
                        "type": "table"
                      }
                    ]
                  },
                  "layout": {
                    "annotationdefaults": {
                      "arrowcolor": "#2a3f5f",
                      "arrowhead": 0,
                      "arrowwidth": 1
                    },
                    "autotypenumbers": "strict",
                    "coloraxis": {
                      "colorbar": {
                        "outlinewidth": 0,
                        "ticks": ""
                      }
                    },
                    "colorscale": {
                      "diverging": [
                        [
                          0,
                          "#8e0152"
                        ],
                        [
                          0.1,
                          "#c51b7d"
                        ],
                        [
                          0.2,
                          "#de77ae"
                        ],
                        [
                          0.3,
                          "#f1b6da"
                        ],
                        [
                          0.4,
                          "#fde0ef"
                        ],
                        [
                          0.5,
                          "#f7f7f7"
                        ],
                        [
                          0.6,
                          "#e6f5d0"
                        ],
                        [
                          0.7,
                          "#b8e186"
                        ],
                        [
                          0.8,
                          "#7fbc41"
                        ],
                        [
                          0.9,
                          "#4d9221"
                        ],
                        [
                          1,
                          "#276419"
                        ]
                      ],
                      "sequential": [
                        [
                          0,
                          "#0d0887"
                        ],
                        [
                          0.1111111111111111,
                          "#46039f"
                        ],
                        [
                          0.2222222222222222,
                          "#7201a8"
                        ],
                        [
                          0.3333333333333333,
                          "#9c179e"
                        ],
                        [
                          0.4444444444444444,
                          "#bd3786"
                        ],
                        [
                          0.5555555555555556,
                          "#d8576b"
                        ],
                        [
                          0.6666666666666666,
                          "#ed7953"
                        ],
                        [
                          0.7777777777777778,
                          "#fb9f3a"
                        ],
                        [
                          0.8888888888888888,
                          "#fdca26"
                        ],
                        [
                          1,
                          "#f0f921"
                        ]
                      ],
                      "sequentialminus": [
                        [
                          0,
                          "#0d0887"
                        ],
                        [
                          0.1111111111111111,
                          "#46039f"
                        ],
                        [
                          0.2222222222222222,
                          "#7201a8"
                        ],
                        [
                          0.3333333333333333,
                          "#9c179e"
                        ],
                        [
                          0.4444444444444444,
                          "#bd3786"
                        ],
                        [
                          0.5555555555555556,
                          "#d8576b"
                        ],
                        [
                          0.6666666666666666,
                          "#ed7953"
                        ],
                        [
                          0.7777777777777778,
                          "#fb9f3a"
                        ],
                        [
                          0.8888888888888888,
                          "#fdca26"
                        ],
                        [
                          1,
                          "#f0f921"
                        ]
                      ]
                    },
                    "colorway": [
                      "#636efa",
                      "#EF553B",
                      "#00cc96",
                      "#ab63fa",
                      "#FFA15A",
                      "#19d3f3",
                      "#FF6692",
                      "#B6E880",
                      "#FF97FF",
                      "#FECB52"
                    ],
                    "font": {
                      "color": "#2a3f5f"
                    },
                    "geo": {
                      "bgcolor": "white",
                      "lakecolor": "white",
                      "landcolor": "#E5ECF6",
                      "showlakes": true,
                      "showland": true,
                      "subunitcolor": "white"
                    },
                    "hoverlabel": {
                      "align": "left"
                    },
                    "hovermode": "closest",
                    "mapbox": {
                      "style": "light"
                    },
                    "paper_bgcolor": "white",
                    "plot_bgcolor": "#E5ECF6",
                    "polar": {
                      "angularaxis": {
                        "gridcolor": "white",
                        "linecolor": "white",
                        "ticks": ""
                      },
                      "bgcolor": "#E5ECF6",
                      "radialaxis": {
                        "gridcolor": "white",
                        "linecolor": "white",
                        "ticks": ""
                      }
                    },
                    "scene": {
                      "xaxis": {
                        "backgroundcolor": "#E5ECF6",
                        "gridcolor": "white",
                        "gridwidth": 2,
                        "linecolor": "white",
                        "showbackground": true,
                        "ticks": "",
                        "zerolinecolor": "white"
                      },
                      "yaxis": {
                        "backgroundcolor": "#E5ECF6",
                        "gridcolor": "white",
                        "gridwidth": 2,
                        "linecolor": "white",
                        "showbackground": true,
                        "ticks": "",
                        "zerolinecolor": "white"
                      },
                      "zaxis": {
                        "backgroundcolor": "#E5ECF6",
                        "gridcolor": "white",
                        "gridwidth": 2,
                        "linecolor": "white",
                        "showbackground": true,
                        "ticks": "",
                        "zerolinecolor": "white"
                      }
                    },
                    "shapedefaults": {
                      "line": {
                        "color": "#2a3f5f"
                      }
                    },
                    "ternary": {
                      "aaxis": {
                        "gridcolor": "white",
                        "linecolor": "white",
                        "ticks": ""
                      },
                      "baxis": {
                        "gridcolor": "white",
                        "linecolor": "white",
                        "ticks": ""
                      },
                      "bgcolor": "#E5ECF6",
                      "caxis": {
                        "gridcolor": "white",
                        "linecolor": "white",
                        "ticks": ""
                      }
                    },
                    "title": {
                      "x": 0.05
                    },
                    "xaxis": {
                      "automargin": true,
                      "gridcolor": "white",
                      "linecolor": "white",
                      "ticks": "",
                      "title": {
                        "standoff": 15
                      },
                      "zerolinecolor": "white",
                      "zerolinewidth": 2
                    },
                    "yaxis": {
                      "automargin": true,
                      "gridcolor": "white",
                      "linecolor": "white",
                      "ticks": "",
                      "title": {
                        "standoff": 15
                      },
                      "zerolinecolor": "white",
                      "zerolinewidth": 2
                    }
                  }
                },
                "title": {
                  "text": "Solution Map"
                }
              }
            },
            "text/html": [
              "<div>                            <div id=\"89f5b05b-f07f-4e19-ae41-6eb9fc980e1c\" class=\"plotly-graph-div\" style=\"height:525px; width:100%;\"></div>            <script type=\"text/javascript\">                require([\"plotly\"], function(Plotly) {                    window.PLOTLYENV=window.PLOTLYENV || {};                                    if (document.getElementById(\"89f5b05b-f07f-4e19-ae41-6eb9fc980e1c\")) {                    Plotly.newPlot(                        \"89f5b05b-f07f-4e19-ae41-6eb9fc980e1c\",                        [{\"lat\":[39.294398,33.451015,35.033731],\"lon\":[-76.622747,-112.068554,-89.934319],\"marker\":{\"color\":[\"blue\",\"blue\",\"blue\"],\"line\":{\"color\":\"rgba(68, 68, 68, 0)\",\"width\":3},\"size\":[20,20,20],\"symbol\":[\"triangle-up\",\"triangle-up\",\"triangle-up\"]},\"name\":\"Plant\",\"text\":[\"Baltimore Plant\",\"Phoenix Plant\",\"Memphis Plant\"],\"type\":\"scattergeo\"},{\"lat\":[42.896219,36.852105,43.1683,34.198188,42.65287,41.30758,40.75012,36.070061,40.602812,41.645022,41.817904,39.728445,39.758119,42.526891,43.04335,40.735652,41.789,35.659441,41.358057,40.857466,42.346577,43.661941,40.099395,41.491407,40.333745,40.264554,41.043696,39.961558,42.105997,34.677074,40.574084,41.099765,39.294398,40.474802,35.194361,37.538812,42.965899,34.274429,38.910004,35.773856,42.36097,36.749611,33.844425,33.974044,37.386691,33.994941,38.585076,32.216256,36.17269,45.498251,34.345883,31.760613,47.253432,32.724693,33.451015,47.611601,35.384352,37.777255,40.755074,39.75071,35.082729,37.779887,39.80006,44.985775,34.893261,38.253601,30.449314,39.103883,33.753693,27.95454,41.586162,41.263251,35.946445,39.10663,38.631358,28.541627,30.340415,43.037602,32.466926,26.121066,32.75826,32.787642,35.033731,34.747348,44.065571,37.215347,29.956664,35.467763,39.77422,34.847881,33.518634,26.345694,31.575993,29.469324,36.149273,29.757317,36.164003,41.88331,30.270515,25.778271],\"lon\":[-78.884649,-76.292507,-77.60262,-79.826641,-73.74868,-72.92471,-73.997846,-79.766346,-75.470433,-83.548348,-71.409316,-75.537257,-84.1879,-73.609283,-76.15084,-74.17309,-72.666218,-77.397427,-75.70249,-74.128618,-83.059731,-70.259388,-83.016823,-81.671411,-73.982438,-76.880588,-81.524301,-75.199624,-72.597915,-77.521398,-74.5012,-80.64936,-76.622747,-79.95449,-80.826397,-77.436395,-85.654579,-77.964032,-77.017989,-78.634051,-71.05344,-119.786244,-117.951222,-118.248849,-121.89705,-117.372528,-121.491186,-110.970728,-115.121117,-122.692496,-119.328846,-106.47948,-122.435514,-117.164885,-112.068554,-122.333038,-119.019342,-122.217025,-111.89849,-104.996225,-106.646276,-122.418066,-89.647829,-93.270165,-87.637505,-85.768124,-91.187593,-94.600613,-84.389544,-82.45734,-87.319082,-95.932956,-84.022857,-84.49974,-90.192246,-81.37397,-81.830904,-87.916246,-84.980818,-80.127818,-97.32787,-96.799525,-89.934319,-92.278932,-92.51005,-93.294978,-90.077506,-97.520977,-86.109309,-82.403745,-86.808862,-80.084229,-84.154368,-98.527988,-95.975637,-95.365005,-86.7745,-87.624713,-97.74218,-80.198105],\"marker\":{\"color\":[\"orange\",\"orange\",\"orange\",\"orange\",\"orange\",\"orange\",\"orange\",\"orange\",\"orange\",\"orange\",\"orange\",\"orange\",\"orange\",\"orange\",\"orange\",\"orange\",\"orange\",\"orange\",\"orange\",\"orange\",\"orange\",\"orange\",\"orange\",\"orange\",\"orange\",\"orange\",\"orange\",\"orange\",\"orange\",\"orange\",\"orange\",\"orange\",\"orange\",\"orange\",\"orange\",\"orange\",\"orange\",\"orange\",\"orange\",\"orange\",\"orange\",\"orange\",\"orange\",\"orange\",\"orange\",\"orange\",\"orange\",\"orange\",\"orange\",\"orange\",\"orange\",\"orange\",\"orange\",\"orange\",\"orange\",\"orange\",\"orange\",\"orange\",\"orange\",\"orange\",\"orange\",\"orange\",\"orange\",\"orange\",\"orange\",\"orange\",\"orange\",\"orange\",\"orange\",\"orange\",\"orange\",\"orange\",\"orange\",\"orange\",\"orange\",\"orange\",\"orange\",\"orange\",\"orange\",\"orange\",\"orange\",\"orange\",\"orange\",\"orange\",\"orange\",\"orange\",\"orange\",\"orange\",\"orange\",\"orange\",\"orange\",\"orange\",\"orange\",\"orange\",\"orange\",\"orange\",\"orange\",\"orange\",\"orange\",\"orange\"],\"line\":{\"color\":\"rgba(68, 68, 68, 0)\",\"width\":3},\"size\":[8,8,8,8,8,8,8,8,8,8,8,8,8,8,8,8,8,8,8,8,8,8,8,8,8,8,8,8,8,8,8,8,8,8,8,8,8,8,8,8,8,8,8,8,8,8,8,8,8,8,8,8,8,8,8,8,8,8,8,8,8,8,8,8,8,8,8,8,8,8,8,8,8,8,8,8,8,8,8,8,8,8,8,8,8,8,8,8,8,8,8,8,8,8,8,8,8,8,8,8],\"symbol\":[\"circle\",\"circle\",\"circle\",\"circle\",\"circle\",\"circle\",\"circle\",\"circle\",\"circle\",\"circle\",\"circle\",\"circle\",\"circle\",\"circle\",\"circle\",\"circle\",\"circle\",\"circle\",\"circle\",\"circle\",\"circle\",\"circle\",\"circle\",\"circle\",\"circle\",\"circle\",\"circle\",\"circle\",\"circle\",\"circle\",\"circle\",\"circle\",\"circle\",\"circle\",\"circle\",\"circle\",\"circle\",\"circle\",\"circle\",\"circle\",\"circle\",\"circle\",\"circle\",\"circle\",\"circle\",\"circle\",\"circle\",\"circle\",\"circle\",\"circle\",\"circle\",\"circle\",\"circle\",\"circle\",\"circle\",\"circle\",\"circle\",\"circle\",\"circle\",\"circle\",\"circle\",\"circle\",\"circle\",\"circle\",\"circle\",\"circle\",\"circle\",\"circle\",\"circle\",\"circle\",\"circle\",\"circle\",\"circle\",\"circle\",\"circle\",\"circle\",\"circle\",\"circle\",\"circle\",\"circle\",\"circle\",\"circle\",\"circle\",\"circle\",\"circle\",\"circle\",\"circle\",\"circle\",\"circle\",\"circle\",\"circle\",\"circle\",\"circle\",\"circle\",\"circle\",\"circle\",\"circle\",\"circle\",\"circle\",\"circle\"]},\"name\":\"Customer\",\"text\":[\"Buffalo Customer\",\"Norfolk Customer\",\"Rochester Customer\",\"Florence Customer\",\"Albany Customer\",\"New Haven Customer\",\"New York City Customer\",\"Greensboro Customer\",\"Allentown Customer\",\"Toledo Customer\",\"Providence Customer\",\"Wilmington Customer\",\"Dayton Customer\",\"Nassau-Suffolk Customer\",\"Syracuse Customer\",\"Newark Customer\",\"Hartford Customer\",\"Greenville Customer\",\"Scranton Customer\",\"Bergen Customer\",\"Detroit Customer\",\"Portland Customer\",\"Columbus Customer\",\"Cleveland Customer\",\"Monmouth Customer\",\"Harrisburg Customer\",\"Akron Customer\",\"Philadelphia Customer\",\"Springfield Customer\",\"Jacksonville Customer\",\"Middlesex Customer\",\"Youngstown Customer\",\"Baltimore Customer\",\"Pittsburgh Customer\",\"Charlotte Customer\",\"Richmond Customer\",\"Grand Rapids Customer\",\"Wilmington Customer\",\"Washington Customer\",\"Raleigh Customer\",\"Boston Customer\",\"Fresno Customer\",\"Orange Customer\",\"Los Angeles Customer\",\"San Jose Customer\",\"Riverside Customer\",\"Sacramento Customer\",\"Tucson Customer\",\"Las Vegas Customer\",\"Portland Customer\",\"Ventura Customer\",\"El Paso Customer\",\"Tacoma Customer\",\"San Diego Customer\",\"Phoenix Customer\",\"Seattle Customer\",\"Bakersfield Customer\",\"Oakland Customer\",\"Salt Lake City Customer\",\"Denver Customer\",\"Albuquerque Customer\",\"San Francisco Customer\",\"Springfield Customer\",\"Minneapolis Customer\",\"Florence Customer\",\"Louisville Customer\",\"Baton Rouge Customer\",\"Kansas City Customer\",\"Atlanta Customer\",\"Tampa Customer\",\"Gary Customer\",\"Omaha Customer\",\"Knoxville Customer\",\"Cincinnati Customer\",\"St. Louis Customer\",\"Orlando Customer\",\"Jacksonville Customer\",\"Milwaukee Customer\",\"Columbus Customer\",\"Fort Lauderdale Customer\",\"Fort Worth Customer\",\"Dallas Customer\",\"Memphis Customer\",\"Little Rock Customer\",\"Rochester Customer\",\"Springfield Customer\",\"New Orleans Customer\",\"Oklahoma City Customer\",\"Indianapolis Customer\",\"Greenville Customer\",\"Birmingham Customer\",\"West Palm Beach Customer\",\"Albany Customer\",\"San Antonio Customer\",\"Tulsa Customer\",\"Houston Customer\",\"Nashville Customer\",\"Chicago Customer\",\"Austin Customer\",\"Miami Customer\"],\"type\":\"scattergeo\"},{\"lat\":[39.294398,42.896219],\"line\":{\"color\":\"green\",\"width\":2},\"lon\":[-76.622747,-78.884649],\"mode\":\"lines\",\"opacity\":0.8,\"showlegend\":false,\"type\":\"scattergeo\"},{\"lat\":[39.294398,36.852105],\"line\":{\"color\":\"green\",\"width\":2},\"lon\":[-76.622747,-76.292507],\"mode\":\"lines\",\"opacity\":0.8,\"showlegend\":false,\"type\":\"scattergeo\"},{\"lat\":[39.294398,43.1683],\"line\":{\"color\":\"green\",\"width\":2},\"lon\":[-76.622747,-77.60262],\"mode\":\"lines\",\"opacity\":0.8,\"showlegend\":false,\"type\":\"scattergeo\"},{\"lat\":[39.294398,34.198188],\"line\":{\"color\":\"green\",\"width\":2},\"lon\":[-76.622747,-79.826641],\"mode\":\"lines\",\"opacity\":0.8,\"showlegend\":false,\"type\":\"scattergeo\"},{\"lat\":[39.294398,42.65287],\"line\":{\"color\":\"green\",\"width\":2},\"lon\":[-76.622747,-73.74868],\"mode\":\"lines\",\"opacity\":0.8,\"showlegend\":false,\"type\":\"scattergeo\"},{\"lat\":[39.294398,41.30758],\"line\":{\"color\":\"green\",\"width\":2},\"lon\":[-76.622747,-72.92471],\"mode\":\"lines\",\"opacity\":0.8,\"showlegend\":false,\"type\":\"scattergeo\"},{\"lat\":[39.294398,40.75012],\"line\":{\"color\":\"green\",\"width\":2},\"lon\":[-76.622747,-73.997846],\"mode\":\"lines\",\"opacity\":0.8,\"showlegend\":false,\"type\":\"scattergeo\"},{\"lat\":[39.294398,36.070061],\"line\":{\"color\":\"green\",\"width\":2},\"lon\":[-76.622747,-79.766346],\"mode\":\"lines\",\"opacity\":0.8,\"showlegend\":false,\"type\":\"scattergeo\"},{\"lat\":[39.294398,40.602812],\"line\":{\"color\":\"green\",\"width\":2},\"lon\":[-76.622747,-75.470433],\"mode\":\"lines\",\"opacity\":0.8,\"showlegend\":false,\"type\":\"scattergeo\"},{\"lat\":[39.294398,41.645022],\"line\":{\"color\":\"green\",\"width\":2},\"lon\":[-76.622747,-83.548348],\"mode\":\"lines\",\"opacity\":0.8,\"showlegend\":false,\"type\":\"scattergeo\"},{\"lat\":[39.294398,41.817904],\"line\":{\"color\":\"green\",\"width\":2},\"lon\":[-76.622747,-71.409316],\"mode\":\"lines\",\"opacity\":0.8,\"showlegend\":false,\"type\":\"scattergeo\"},{\"lat\":[39.294398,39.728445],\"line\":{\"color\":\"green\",\"width\":2},\"lon\":[-76.622747,-75.537257],\"mode\":\"lines\",\"opacity\":0.8,\"showlegend\":false,\"type\":\"scattergeo\"},{\"lat\":[39.294398,39.758119],\"line\":{\"color\":\"green\",\"width\":2},\"lon\":[-76.622747,-84.1879],\"mode\":\"lines\",\"opacity\":0.8,\"showlegend\":false,\"type\":\"scattergeo\"},{\"lat\":[39.294398,42.526891],\"line\":{\"color\":\"green\",\"width\":2},\"lon\":[-76.622747,-73.609283],\"mode\":\"lines\",\"opacity\":0.8,\"showlegend\":false,\"type\":\"scattergeo\"},{\"lat\":[39.294398,43.04335],\"line\":{\"color\":\"green\",\"width\":2},\"lon\":[-76.622747,-76.15084],\"mode\":\"lines\",\"opacity\":0.8,\"showlegend\":false,\"type\":\"scattergeo\"},{\"lat\":[39.294398,40.735652],\"line\":{\"color\":\"green\",\"width\":2},\"lon\":[-76.622747,-74.17309],\"mode\":\"lines\",\"opacity\":0.8,\"showlegend\":false,\"type\":\"scattergeo\"},{\"lat\":[39.294398,41.789],\"line\":{\"color\":\"green\",\"width\":2},\"lon\":[-76.622747,-72.666218],\"mode\":\"lines\",\"opacity\":0.8,\"showlegend\":false,\"type\":\"scattergeo\"},{\"lat\":[39.294398,35.659441],\"line\":{\"color\":\"green\",\"width\":2},\"lon\":[-76.622747,-77.397427],\"mode\":\"lines\",\"opacity\":0.8,\"showlegend\":false,\"type\":\"scattergeo\"},{\"lat\":[39.294398,41.358057],\"line\":{\"color\":\"green\",\"width\":2},\"lon\":[-76.622747,-75.70249],\"mode\":\"lines\",\"opacity\":0.8,\"showlegend\":false,\"type\":\"scattergeo\"},{\"lat\":[39.294398,40.857466],\"line\":{\"color\":\"green\",\"width\":2},\"lon\":[-76.622747,-74.128618],\"mode\":\"lines\",\"opacity\":0.8,\"showlegend\":false,\"type\":\"scattergeo\"},{\"lat\":[39.294398,42.346577],\"line\":{\"color\":\"green\",\"width\":2},\"lon\":[-76.622747,-83.059731],\"mode\":\"lines\",\"opacity\":0.8,\"showlegend\":false,\"type\":\"scattergeo\"},{\"lat\":[39.294398,43.661941],\"line\":{\"color\":\"green\",\"width\":2},\"lon\":[-76.622747,-70.259388],\"mode\":\"lines\",\"opacity\":0.8,\"showlegend\":false,\"type\":\"scattergeo\"},{\"lat\":[39.294398,40.099395],\"line\":{\"color\":\"green\",\"width\":2},\"lon\":[-76.622747,-83.016823],\"mode\":\"lines\",\"opacity\":0.8,\"showlegend\":false,\"type\":\"scattergeo\"},{\"lat\":[39.294398,41.491407],\"line\":{\"color\":\"green\",\"width\":2},\"lon\":[-76.622747,-81.671411],\"mode\":\"lines\",\"opacity\":0.8,\"showlegend\":false,\"type\":\"scattergeo\"},{\"lat\":[39.294398,40.333745],\"line\":{\"color\":\"green\",\"width\":2},\"lon\":[-76.622747,-73.982438],\"mode\":\"lines\",\"opacity\":0.8,\"showlegend\":false,\"type\":\"scattergeo\"},{\"lat\":[39.294398,40.264554],\"line\":{\"color\":\"green\",\"width\":2},\"lon\":[-76.622747,-76.880588],\"mode\":\"lines\",\"opacity\":0.8,\"showlegend\":false,\"type\":\"scattergeo\"},{\"lat\":[39.294398,41.043696],\"line\":{\"color\":\"green\",\"width\":2},\"lon\":[-76.622747,-81.524301],\"mode\":\"lines\",\"opacity\":0.8,\"showlegend\":false,\"type\":\"scattergeo\"},{\"lat\":[39.294398,39.961558],\"line\":{\"color\":\"green\",\"width\":2},\"lon\":[-76.622747,-75.199624],\"mode\":\"lines\",\"opacity\":0.8,\"showlegend\":false,\"type\":\"scattergeo\"},{\"lat\":[39.294398,42.105997],\"line\":{\"color\":\"green\",\"width\":2},\"lon\":[-76.622747,-72.597915],\"mode\":\"lines\",\"opacity\":0.8,\"showlegend\":false,\"type\":\"scattergeo\"},{\"lat\":[39.294398,34.677074],\"line\":{\"color\":\"green\",\"width\":2},\"lon\":[-76.622747,-77.521398],\"mode\":\"lines\",\"opacity\":0.8,\"showlegend\":false,\"type\":\"scattergeo\"},{\"lat\":[39.294398,40.574084],\"line\":{\"color\":\"green\",\"width\":2},\"lon\":[-76.622747,-74.5012],\"mode\":\"lines\",\"opacity\":0.8,\"showlegend\":false,\"type\":\"scattergeo\"},{\"lat\":[39.294398,41.099765],\"line\":{\"color\":\"green\",\"width\":2},\"lon\":[-76.622747,-80.64936],\"mode\":\"lines\",\"opacity\":0.8,\"showlegend\":false,\"type\":\"scattergeo\"},{\"lat\":[39.294398,39.294398],\"line\":{\"color\":\"green\",\"width\":2},\"lon\":[-76.622747,-76.622747],\"mode\":\"lines\",\"opacity\":0.8,\"showlegend\":false,\"type\":\"scattergeo\"},{\"lat\":[39.294398,40.474802],\"line\":{\"color\":\"green\",\"width\":2},\"lon\":[-76.622747,-79.95449],\"mode\":\"lines\",\"opacity\":0.8,\"showlegend\":false,\"type\":\"scattergeo\"},{\"lat\":[39.294398,35.194361],\"line\":{\"color\":\"green\",\"width\":2},\"lon\":[-76.622747,-80.826397],\"mode\":\"lines\",\"opacity\":0.8,\"showlegend\":false,\"type\":\"scattergeo\"},{\"lat\":[39.294398,37.538812],\"line\":{\"color\":\"green\",\"width\":2},\"lon\":[-76.622747,-77.436395],\"mode\":\"lines\",\"opacity\":0.8,\"showlegend\":false,\"type\":\"scattergeo\"},{\"lat\":[39.294398,42.965899],\"line\":{\"color\":\"green\",\"width\":2},\"lon\":[-76.622747,-85.654579],\"mode\":\"lines\",\"opacity\":0.8,\"showlegend\":false,\"type\":\"scattergeo\"},{\"lat\":[39.294398,34.274429],\"line\":{\"color\":\"green\",\"width\":2},\"lon\":[-76.622747,-77.964032],\"mode\":\"lines\",\"opacity\":0.8,\"showlegend\":false,\"type\":\"scattergeo\"},{\"lat\":[39.294398,38.910004],\"line\":{\"color\":\"green\",\"width\":2},\"lon\":[-76.622747,-77.017989],\"mode\":\"lines\",\"opacity\":0.8,\"showlegend\":false,\"type\":\"scattergeo\"},{\"lat\":[39.294398,35.773856],\"line\":{\"color\":\"green\",\"width\":2},\"lon\":[-76.622747,-78.634051],\"mode\":\"lines\",\"opacity\":0.8,\"showlegend\":false,\"type\":\"scattergeo\"},{\"lat\":[39.294398,42.36097],\"line\":{\"color\":\"green\",\"width\":2},\"lon\":[-76.622747,-71.05344],\"mode\":\"lines\",\"opacity\":0.8,\"showlegend\":false,\"type\":\"scattergeo\"},{\"lat\":[33.451015,36.749611],\"line\":{\"color\":\"green\",\"width\":2},\"lon\":[-112.068554,-119.786244],\"mode\":\"lines\",\"opacity\":0.8,\"showlegend\":false,\"type\":\"scattergeo\"},{\"lat\":[33.451015,33.844425],\"line\":{\"color\":\"green\",\"width\":2},\"lon\":[-112.068554,-117.951222],\"mode\":\"lines\",\"opacity\":0.8,\"showlegend\":false,\"type\":\"scattergeo\"},{\"lat\":[33.451015,33.974044],\"line\":{\"color\":\"green\",\"width\":2},\"lon\":[-112.068554,-118.248849],\"mode\":\"lines\",\"opacity\":0.8,\"showlegend\":false,\"type\":\"scattergeo\"},{\"lat\":[33.451015,37.386691],\"line\":{\"color\":\"green\",\"width\":2},\"lon\":[-112.068554,-121.89705],\"mode\":\"lines\",\"opacity\":0.8,\"showlegend\":false,\"type\":\"scattergeo\"},{\"lat\":[33.451015,33.994941],\"line\":{\"color\":\"green\",\"width\":2},\"lon\":[-112.068554,-117.372528],\"mode\":\"lines\",\"opacity\":0.8,\"showlegend\":false,\"type\":\"scattergeo\"},{\"lat\":[33.451015,38.585076],\"line\":{\"color\":\"green\",\"width\":2},\"lon\":[-112.068554,-121.491186],\"mode\":\"lines\",\"opacity\":0.8,\"showlegend\":false,\"type\":\"scattergeo\"},{\"lat\":[33.451015,32.216256],\"line\":{\"color\":\"green\",\"width\":2},\"lon\":[-112.068554,-110.970728],\"mode\":\"lines\",\"opacity\":0.8,\"showlegend\":false,\"type\":\"scattergeo\"},{\"lat\":[33.451015,36.17269],\"line\":{\"color\":\"green\",\"width\":2},\"lon\":[-112.068554,-115.121117],\"mode\":\"lines\",\"opacity\":0.8,\"showlegend\":false,\"type\":\"scattergeo\"},{\"lat\":[33.451015,45.498251],\"line\":{\"color\":\"green\",\"width\":2},\"lon\":[-112.068554,-122.692496],\"mode\":\"lines\",\"opacity\":0.8,\"showlegend\":false,\"type\":\"scattergeo\"},{\"lat\":[33.451015,34.345883],\"line\":{\"color\":\"green\",\"width\":2},\"lon\":[-112.068554,-119.328846],\"mode\":\"lines\",\"opacity\":0.8,\"showlegend\":false,\"type\":\"scattergeo\"},{\"lat\":[33.451015,31.760613],\"line\":{\"color\":\"green\",\"width\":2},\"lon\":[-112.068554,-106.47948],\"mode\":\"lines\",\"opacity\":0.8,\"showlegend\":false,\"type\":\"scattergeo\"},{\"lat\":[33.451015,47.253432],\"line\":{\"color\":\"green\",\"width\":2},\"lon\":[-112.068554,-122.435514],\"mode\":\"lines\",\"opacity\":0.8,\"showlegend\":false,\"type\":\"scattergeo\"},{\"lat\":[33.451015,32.724693],\"line\":{\"color\":\"green\",\"width\":2},\"lon\":[-112.068554,-117.164885],\"mode\":\"lines\",\"opacity\":0.8,\"showlegend\":false,\"type\":\"scattergeo\"},{\"lat\":[33.451015,33.451015],\"line\":{\"color\":\"green\",\"width\":2},\"lon\":[-112.068554,-112.068554],\"mode\":\"lines\",\"opacity\":0.8,\"showlegend\":false,\"type\":\"scattergeo\"},{\"lat\":[33.451015,47.611601],\"line\":{\"color\":\"green\",\"width\":2},\"lon\":[-112.068554,-122.333038],\"mode\":\"lines\",\"opacity\":0.8,\"showlegend\":false,\"type\":\"scattergeo\"},{\"lat\":[33.451015,35.384352],\"line\":{\"color\":\"green\",\"width\":2},\"lon\":[-112.068554,-119.019342],\"mode\":\"lines\",\"opacity\":0.8,\"showlegend\":false,\"type\":\"scattergeo\"},{\"lat\":[33.451015,37.777255],\"line\":{\"color\":\"green\",\"width\":2},\"lon\":[-112.068554,-122.217025],\"mode\":\"lines\",\"opacity\":0.8,\"showlegend\":false,\"type\":\"scattergeo\"},{\"lat\":[33.451015,40.755074],\"line\":{\"color\":\"green\",\"width\":2},\"lon\":[-112.068554,-111.89849],\"mode\":\"lines\",\"opacity\":0.8,\"showlegend\":false,\"type\":\"scattergeo\"},{\"lat\":[33.451015,39.75071],\"line\":{\"color\":\"green\",\"width\":2},\"lon\":[-112.068554,-104.996225],\"mode\":\"lines\",\"opacity\":0.8,\"showlegend\":false,\"type\":\"scattergeo\"},{\"lat\":[33.451015,35.082729],\"line\":{\"color\":\"green\",\"width\":2},\"lon\":[-112.068554,-106.646276],\"mode\":\"lines\",\"opacity\":0.8,\"showlegend\":false,\"type\":\"scattergeo\"},{\"lat\":[33.451015,37.779887],\"line\":{\"color\":\"green\",\"width\":2},\"lon\":[-112.068554,-122.418066],\"mode\":\"lines\",\"opacity\":0.8,\"showlegend\":false,\"type\":\"scattergeo\"},{\"lat\":[35.033731,39.80006],\"line\":{\"color\":\"green\",\"width\":2},\"lon\":[-89.934319,-89.647829],\"mode\":\"lines\",\"opacity\":0.8,\"showlegend\":false,\"type\":\"scattergeo\"},{\"lat\":[35.033731,44.985775],\"line\":{\"color\":\"green\",\"width\":2},\"lon\":[-89.934319,-93.270165],\"mode\":\"lines\",\"opacity\":0.8,\"showlegend\":false,\"type\":\"scattergeo\"},{\"lat\":[35.033731,34.893261],\"line\":{\"color\":\"green\",\"width\":2},\"lon\":[-89.934319,-87.637505],\"mode\":\"lines\",\"opacity\":0.8,\"showlegend\":false,\"type\":\"scattergeo\"},{\"lat\":[35.033731,38.253601],\"line\":{\"color\":\"green\",\"width\":2},\"lon\":[-89.934319,-85.768124],\"mode\":\"lines\",\"opacity\":0.8,\"showlegend\":false,\"type\":\"scattergeo\"},{\"lat\":[35.033731,30.449314],\"line\":{\"color\":\"green\",\"width\":2},\"lon\":[-89.934319,-91.187593],\"mode\":\"lines\",\"opacity\":0.8,\"showlegend\":false,\"type\":\"scattergeo\"},{\"lat\":[35.033731,39.103883],\"line\":{\"color\":\"green\",\"width\":2},\"lon\":[-89.934319,-94.600613],\"mode\":\"lines\",\"opacity\":0.8,\"showlegend\":false,\"type\":\"scattergeo\"},{\"lat\":[35.033731,33.753693],\"line\":{\"color\":\"green\",\"width\":2},\"lon\":[-89.934319,-84.389544],\"mode\":\"lines\",\"opacity\":0.8,\"showlegend\":false,\"type\":\"scattergeo\"},{\"lat\":[35.033731,27.95454],\"line\":{\"color\":\"green\",\"width\":2},\"lon\":[-89.934319,-82.45734],\"mode\":\"lines\",\"opacity\":0.8,\"showlegend\":false,\"type\":\"scattergeo\"},{\"lat\":[35.033731,41.586162],\"line\":{\"color\":\"green\",\"width\":2},\"lon\":[-89.934319,-87.319082],\"mode\":\"lines\",\"opacity\":0.8,\"showlegend\":false,\"type\":\"scattergeo\"},{\"lat\":[35.033731,41.263251],\"line\":{\"color\":\"green\",\"width\":2},\"lon\":[-89.934319,-95.932956],\"mode\":\"lines\",\"opacity\":0.8,\"showlegend\":false,\"type\":\"scattergeo\"},{\"lat\":[35.033731,35.946445],\"line\":{\"color\":\"green\",\"width\":2},\"lon\":[-89.934319,-84.022857],\"mode\":\"lines\",\"opacity\":0.8,\"showlegend\":false,\"type\":\"scattergeo\"},{\"lat\":[35.033731,39.10663],\"line\":{\"color\":\"green\",\"width\":2},\"lon\":[-89.934319,-84.49974],\"mode\":\"lines\",\"opacity\":0.8,\"showlegend\":false,\"type\":\"scattergeo\"},{\"lat\":[35.033731,38.631358],\"line\":{\"color\":\"green\",\"width\":2},\"lon\":[-89.934319,-90.192246],\"mode\":\"lines\",\"opacity\":0.8,\"showlegend\":false,\"type\":\"scattergeo\"},{\"lat\":[35.033731,28.541627],\"line\":{\"color\":\"green\",\"width\":2},\"lon\":[-89.934319,-81.37397],\"mode\":\"lines\",\"opacity\":0.8,\"showlegend\":false,\"type\":\"scattergeo\"},{\"lat\":[35.033731,30.340415],\"line\":{\"color\":\"green\",\"width\":2},\"lon\":[-89.934319,-81.830904],\"mode\":\"lines\",\"opacity\":0.8,\"showlegend\":false,\"type\":\"scattergeo\"},{\"lat\":[35.033731,43.037602],\"line\":{\"color\":\"green\",\"width\":2},\"lon\":[-89.934319,-87.916246],\"mode\":\"lines\",\"opacity\":0.8,\"showlegend\":false,\"type\":\"scattergeo\"},{\"lat\":[35.033731,32.466926],\"line\":{\"color\":\"green\",\"width\":2},\"lon\":[-89.934319,-84.980818],\"mode\":\"lines\",\"opacity\":0.8,\"showlegend\":false,\"type\":\"scattergeo\"},{\"lat\":[35.033731,26.121066],\"line\":{\"color\":\"green\",\"width\":2},\"lon\":[-89.934319,-80.127818],\"mode\":\"lines\",\"opacity\":0.8,\"showlegend\":false,\"type\":\"scattergeo\"},{\"lat\":[35.033731,32.75826],\"line\":{\"color\":\"green\",\"width\":2},\"lon\":[-89.934319,-97.32787],\"mode\":\"lines\",\"opacity\":0.8,\"showlegend\":false,\"type\":\"scattergeo\"},{\"lat\":[35.033731,32.787642],\"line\":{\"color\":\"green\",\"width\":2},\"lon\":[-89.934319,-96.799525],\"mode\":\"lines\",\"opacity\":0.8,\"showlegend\":false,\"type\":\"scattergeo\"},{\"lat\":[35.033731,35.033731],\"line\":{\"color\":\"green\",\"width\":2},\"lon\":[-89.934319,-89.934319],\"mode\":\"lines\",\"opacity\":0.8,\"showlegend\":false,\"type\":\"scattergeo\"},{\"lat\":[35.033731,34.747348],\"line\":{\"color\":\"green\",\"width\":2},\"lon\":[-89.934319,-92.278932],\"mode\":\"lines\",\"opacity\":0.8,\"showlegend\":false,\"type\":\"scattergeo\"},{\"lat\":[35.033731,44.065571],\"line\":{\"color\":\"green\",\"width\":2},\"lon\":[-89.934319,-92.51005],\"mode\":\"lines\",\"opacity\":0.8,\"showlegend\":false,\"type\":\"scattergeo\"},{\"lat\":[35.033731,37.215347],\"line\":{\"color\":\"green\",\"width\":2},\"lon\":[-89.934319,-93.294978],\"mode\":\"lines\",\"opacity\":0.8,\"showlegend\":false,\"type\":\"scattergeo\"},{\"lat\":[35.033731,29.956664],\"line\":{\"color\":\"green\",\"width\":2},\"lon\":[-89.934319,-90.077506],\"mode\":\"lines\",\"opacity\":0.8,\"showlegend\":false,\"type\":\"scattergeo\"},{\"lat\":[35.033731,35.467763],\"line\":{\"color\":\"green\",\"width\":2},\"lon\":[-89.934319,-97.520977],\"mode\":\"lines\",\"opacity\":0.8,\"showlegend\":false,\"type\":\"scattergeo\"},{\"lat\":[35.033731,39.77422],\"line\":{\"color\":\"green\",\"width\":2},\"lon\":[-89.934319,-86.109309],\"mode\":\"lines\",\"opacity\":0.8,\"showlegend\":false,\"type\":\"scattergeo\"},{\"lat\":[35.033731,34.847881],\"line\":{\"color\":\"green\",\"width\":2},\"lon\":[-89.934319,-82.403745],\"mode\":\"lines\",\"opacity\":0.8,\"showlegend\":false,\"type\":\"scattergeo\"},{\"lat\":[35.033731,33.518634],\"line\":{\"color\":\"green\",\"width\":2},\"lon\":[-89.934319,-86.808862],\"mode\":\"lines\",\"opacity\":0.8,\"showlegend\":false,\"type\":\"scattergeo\"},{\"lat\":[35.033731,26.345694],\"line\":{\"color\":\"green\",\"width\":2},\"lon\":[-89.934319,-80.084229],\"mode\":\"lines\",\"opacity\":0.8,\"showlegend\":false,\"type\":\"scattergeo\"},{\"lat\":[35.033731,31.575993],\"line\":{\"color\":\"green\",\"width\":2},\"lon\":[-89.934319,-84.154368],\"mode\":\"lines\",\"opacity\":0.8,\"showlegend\":false,\"type\":\"scattergeo\"},{\"lat\":[35.033731,29.469324],\"line\":{\"color\":\"green\",\"width\":2},\"lon\":[-89.934319,-98.527988],\"mode\":\"lines\",\"opacity\":0.8,\"showlegend\":false,\"type\":\"scattergeo\"},{\"lat\":[35.033731,36.149273],\"line\":{\"color\":\"green\",\"width\":2},\"lon\":[-89.934319,-95.975637],\"mode\":\"lines\",\"opacity\":0.8,\"showlegend\":false,\"type\":\"scattergeo\"},{\"lat\":[35.033731,29.757317],\"line\":{\"color\":\"green\",\"width\":2},\"lon\":[-89.934319,-95.365005],\"mode\":\"lines\",\"opacity\":0.8,\"showlegend\":false,\"type\":\"scattergeo\"},{\"lat\":[35.033731,36.164003],\"line\":{\"color\":\"green\",\"width\":2},\"lon\":[-89.934319,-86.7745],\"mode\":\"lines\",\"opacity\":0.8,\"showlegend\":false,\"type\":\"scattergeo\"},{\"lat\":[35.033731,41.88331],\"line\":{\"color\":\"green\",\"width\":2},\"lon\":[-89.934319,-87.624713],\"mode\":\"lines\",\"opacity\":0.8,\"showlegend\":false,\"type\":\"scattergeo\"},{\"lat\":[35.033731,30.270515],\"line\":{\"color\":\"green\",\"width\":2},\"lon\":[-89.934319,-97.74218],\"mode\":\"lines\",\"opacity\":0.8,\"showlegend\":false,\"type\":\"scattergeo\"},{\"lat\":[35.033731,25.778271],\"line\":{\"color\":\"green\",\"width\":2},\"lon\":[-89.934319,-80.198105],\"mode\":\"lines\",\"opacity\":0.8,\"showlegend\":false,\"type\":\"scattergeo\"}],                        {\"template\":{\"data\":{\"bar\":[{\"error_x\":{\"color\":\"#2a3f5f\"},\"error_y\":{\"color\":\"#2a3f5f\"},\"marker\":{\"line\":{\"color\":\"#E5ECF6\",\"width\":0.5},\"pattern\":{\"fillmode\":\"overlay\",\"size\":10,\"solidity\":0.2}},\"type\":\"bar\"}],\"barpolar\":[{\"marker\":{\"line\":{\"color\":\"#E5ECF6\",\"width\":0.5},\"pattern\":{\"fillmode\":\"overlay\",\"size\":10,\"solidity\":0.2}},\"type\":\"barpolar\"}],\"carpet\":[{\"aaxis\":{\"endlinecolor\":\"#2a3f5f\",\"gridcolor\":\"white\",\"linecolor\":\"white\",\"minorgridcolor\":\"white\",\"startlinecolor\":\"#2a3f5f\"},\"baxis\":{\"endlinecolor\":\"#2a3f5f\",\"gridcolor\":\"white\",\"linecolor\":\"white\",\"minorgridcolor\":\"white\",\"startlinecolor\":\"#2a3f5f\"},\"type\":\"carpet\"}],\"choropleth\":[{\"colorbar\":{\"outlinewidth\":0,\"ticks\":\"\"},\"type\":\"choropleth\"}],\"contour\":[{\"colorbar\":{\"outlinewidth\":0,\"ticks\":\"\"},\"colorscale\":[[0.0,\"#0d0887\"],[0.1111111111111111,\"#46039f\"],[0.2222222222222222,\"#7201a8\"],[0.3333333333333333,\"#9c179e\"],[0.4444444444444444,\"#bd3786\"],[0.5555555555555556,\"#d8576b\"],[0.6666666666666666,\"#ed7953\"],[0.7777777777777778,\"#fb9f3a\"],[0.8888888888888888,\"#fdca26\"],[1.0,\"#f0f921\"]],\"type\":\"contour\"}],\"contourcarpet\":[{\"colorbar\":{\"outlinewidth\":0,\"ticks\":\"\"},\"type\":\"contourcarpet\"}],\"heatmap\":[{\"colorbar\":{\"outlinewidth\":0,\"ticks\":\"\"},\"colorscale\":[[0.0,\"#0d0887\"],[0.1111111111111111,\"#46039f\"],[0.2222222222222222,\"#7201a8\"],[0.3333333333333333,\"#9c179e\"],[0.4444444444444444,\"#bd3786\"],[0.5555555555555556,\"#d8576b\"],[0.6666666666666666,\"#ed7953\"],[0.7777777777777778,\"#fb9f3a\"],[0.8888888888888888,\"#fdca26\"],[1.0,\"#f0f921\"]],\"type\":\"heatmap\"}],\"heatmapgl\":[{\"colorbar\":{\"outlinewidth\":0,\"ticks\":\"\"},\"colorscale\":[[0.0,\"#0d0887\"],[0.1111111111111111,\"#46039f\"],[0.2222222222222222,\"#7201a8\"],[0.3333333333333333,\"#9c179e\"],[0.4444444444444444,\"#bd3786\"],[0.5555555555555556,\"#d8576b\"],[0.6666666666666666,\"#ed7953\"],[0.7777777777777778,\"#fb9f3a\"],[0.8888888888888888,\"#fdca26\"],[1.0,\"#f0f921\"]],\"type\":\"heatmapgl\"}],\"histogram\":[{\"marker\":{\"pattern\":{\"fillmode\":\"overlay\",\"size\":10,\"solidity\":0.2}},\"type\":\"histogram\"}],\"histogram2d\":[{\"colorbar\":{\"outlinewidth\":0,\"ticks\":\"\"},\"colorscale\":[[0.0,\"#0d0887\"],[0.1111111111111111,\"#46039f\"],[0.2222222222222222,\"#7201a8\"],[0.3333333333333333,\"#9c179e\"],[0.4444444444444444,\"#bd3786\"],[0.5555555555555556,\"#d8576b\"],[0.6666666666666666,\"#ed7953\"],[0.7777777777777778,\"#fb9f3a\"],[0.8888888888888888,\"#fdca26\"],[1.0,\"#f0f921\"]],\"type\":\"histogram2d\"}],\"histogram2dcontour\":[{\"colorbar\":{\"outlinewidth\":0,\"ticks\":\"\"},\"colorscale\":[[0.0,\"#0d0887\"],[0.1111111111111111,\"#46039f\"],[0.2222222222222222,\"#7201a8\"],[0.3333333333333333,\"#9c179e\"],[0.4444444444444444,\"#bd3786\"],[0.5555555555555556,\"#d8576b\"],[0.6666666666666666,\"#ed7953\"],[0.7777777777777778,\"#fb9f3a\"],[0.8888888888888888,\"#fdca26\"],[1.0,\"#f0f921\"]],\"type\":\"histogram2dcontour\"}],\"mesh3d\":[{\"colorbar\":{\"outlinewidth\":0,\"ticks\":\"\"},\"type\":\"mesh3d\"}],\"parcoords\":[{\"line\":{\"colorbar\":{\"outlinewidth\":0,\"ticks\":\"\"}},\"type\":\"parcoords\"}],\"pie\":[{\"automargin\":true,\"type\":\"pie\"}],\"scatter\":[{\"marker\":{\"colorbar\":{\"outlinewidth\":0,\"ticks\":\"\"}},\"type\":\"scatter\"}],\"scatter3d\":[{\"line\":{\"colorbar\":{\"outlinewidth\":0,\"ticks\":\"\"}},\"marker\":{\"colorbar\":{\"outlinewidth\":0,\"ticks\":\"\"}},\"type\":\"scatter3d\"}],\"scattercarpet\":[{\"marker\":{\"colorbar\":{\"outlinewidth\":0,\"ticks\":\"\"}},\"type\":\"scattercarpet\"}],\"scattergeo\":[{\"marker\":{\"colorbar\":{\"outlinewidth\":0,\"ticks\":\"\"}},\"type\":\"scattergeo\"}],\"scattergl\":[{\"marker\":{\"colorbar\":{\"outlinewidth\":0,\"ticks\":\"\"}},\"type\":\"scattergl\"}],\"scattermapbox\":[{\"marker\":{\"colorbar\":{\"outlinewidth\":0,\"ticks\":\"\"}},\"type\":\"scattermapbox\"}],\"scatterpolar\":[{\"marker\":{\"colorbar\":{\"outlinewidth\":0,\"ticks\":\"\"}},\"type\":\"scatterpolar\"}],\"scatterpolargl\":[{\"marker\":{\"colorbar\":{\"outlinewidth\":0,\"ticks\":\"\"}},\"type\":\"scatterpolargl\"}],\"scatterternary\":[{\"marker\":{\"colorbar\":{\"outlinewidth\":0,\"ticks\":\"\"}},\"type\":\"scatterternary\"}],\"surface\":[{\"colorbar\":{\"outlinewidth\":0,\"ticks\":\"\"},\"colorscale\":[[0.0,\"#0d0887\"],[0.1111111111111111,\"#46039f\"],[0.2222222222222222,\"#7201a8\"],[0.3333333333333333,\"#9c179e\"],[0.4444444444444444,\"#bd3786\"],[0.5555555555555556,\"#d8576b\"],[0.6666666666666666,\"#ed7953\"],[0.7777777777777778,\"#fb9f3a\"],[0.8888888888888888,\"#fdca26\"],[1.0,\"#f0f921\"]],\"type\":\"surface\"}],\"table\":[{\"cells\":{\"fill\":{\"color\":\"#EBF0F8\"},\"line\":{\"color\":\"white\"}},\"header\":{\"fill\":{\"color\":\"#C8D4E3\"},\"line\":{\"color\":\"white\"}},\"type\":\"table\"}]},\"layout\":{\"annotationdefaults\":{\"arrowcolor\":\"#2a3f5f\",\"arrowhead\":0,\"arrowwidth\":1},\"autotypenumbers\":\"strict\",\"coloraxis\":{\"colorbar\":{\"outlinewidth\":0,\"ticks\":\"\"}},\"colorscale\":{\"diverging\":[[0,\"#8e0152\"],[0.1,\"#c51b7d\"],[0.2,\"#de77ae\"],[0.3,\"#f1b6da\"],[0.4,\"#fde0ef\"],[0.5,\"#f7f7f7\"],[0.6,\"#e6f5d0\"],[0.7,\"#b8e186\"],[0.8,\"#7fbc41\"],[0.9,\"#4d9221\"],[1,\"#276419\"]],\"sequential\":[[0.0,\"#0d0887\"],[0.1111111111111111,\"#46039f\"],[0.2222222222222222,\"#7201a8\"],[0.3333333333333333,\"#9c179e\"],[0.4444444444444444,\"#bd3786\"],[0.5555555555555556,\"#d8576b\"],[0.6666666666666666,\"#ed7953\"],[0.7777777777777778,\"#fb9f3a\"],[0.8888888888888888,\"#fdca26\"],[1.0,\"#f0f921\"]],\"sequentialminus\":[[0.0,\"#0d0887\"],[0.1111111111111111,\"#46039f\"],[0.2222222222222222,\"#7201a8\"],[0.3333333333333333,\"#9c179e\"],[0.4444444444444444,\"#bd3786\"],[0.5555555555555556,\"#d8576b\"],[0.6666666666666666,\"#ed7953\"],[0.7777777777777778,\"#fb9f3a\"],[0.8888888888888888,\"#fdca26\"],[1.0,\"#f0f921\"]]},\"colorway\":[\"#636efa\",\"#EF553B\",\"#00cc96\",\"#ab63fa\",\"#FFA15A\",\"#19d3f3\",\"#FF6692\",\"#B6E880\",\"#FF97FF\",\"#FECB52\"],\"font\":{\"color\":\"#2a3f5f\"},\"geo\":{\"bgcolor\":\"white\",\"lakecolor\":\"white\",\"landcolor\":\"#E5ECF6\",\"showlakes\":true,\"showland\":true,\"subunitcolor\":\"white\"},\"hoverlabel\":{\"align\":\"left\"},\"hovermode\":\"closest\",\"mapbox\":{\"style\":\"light\"},\"paper_bgcolor\":\"white\",\"plot_bgcolor\":\"#E5ECF6\",\"polar\":{\"angularaxis\":{\"gridcolor\":\"white\",\"linecolor\":\"white\",\"ticks\":\"\"},\"bgcolor\":\"#E5ECF6\",\"radialaxis\":{\"gridcolor\":\"white\",\"linecolor\":\"white\",\"ticks\":\"\"}},\"scene\":{\"xaxis\":{\"backgroundcolor\":\"#E5ECF6\",\"gridcolor\":\"white\",\"gridwidth\":2,\"linecolor\":\"white\",\"showbackground\":true,\"ticks\":\"\",\"zerolinecolor\":\"white\"},\"yaxis\":{\"backgroundcolor\":\"#E5ECF6\",\"gridcolor\":\"white\",\"gridwidth\":2,\"linecolor\":\"white\",\"showbackground\":true,\"ticks\":\"\",\"zerolinecolor\":\"white\"},\"zaxis\":{\"backgroundcolor\":\"#E5ECF6\",\"gridcolor\":\"white\",\"gridwidth\":2,\"linecolor\":\"white\",\"showbackground\":true,\"ticks\":\"\",\"zerolinecolor\":\"white\"}},\"shapedefaults\":{\"line\":{\"color\":\"#2a3f5f\"}},\"ternary\":{\"aaxis\":{\"gridcolor\":\"white\",\"linecolor\":\"white\",\"ticks\":\"\"},\"baxis\":{\"gridcolor\":\"white\",\"linecolor\":\"white\",\"ticks\":\"\"},\"bgcolor\":\"#E5ECF6\",\"caxis\":{\"gridcolor\":\"white\",\"linecolor\":\"white\",\"ticks\":\"\"}},\"title\":{\"x\":0.05},\"xaxis\":{\"automargin\":true,\"gridcolor\":\"white\",\"linecolor\":\"white\",\"ticks\":\"\",\"title\":{\"standoff\":15},\"zerolinecolor\":\"white\",\"zerolinewidth\":2},\"yaxis\":{\"automargin\":true,\"gridcolor\":\"white\",\"linecolor\":\"white\",\"ticks\":\"\",\"title\":{\"standoff\":15},\"zerolinecolor\":\"white\",\"zerolinewidth\":2}}},\"geo\":{\"scope\":\"usa\",\"showland\":true,\"landcolor\":\"rgb(243, 243, 243)\",\"countrycolor\":\"rgb(204, 204, 204)\"},\"title\":{\"text\":\"Solution Map\"},\"showlegend\":true},                        {\"responsive\": true}                    ).then(function(){\n",
              "                            \n",
              "var gd = document.getElementById('89f5b05b-f07f-4e19-ae41-6eb9fc980e1c');\n",
              "var x = new MutationObserver(function (mutations, observer) {{\n",
              "        var display = window.getComputedStyle(gd).display;\n",
              "        if (!display || display === 'none') {{\n",
              "            console.log([gd, 'removed!']);\n",
              "            Plotly.purge(gd);\n",
              "            observer.disconnect();\n",
              "        }}\n",
              "}});\n",
              "\n",
              "// Listen for the removal of the full notebook cells\n",
              "var notebookContainer = gd.closest('#notebook-container');\n",
              "if (notebookContainer) {{\n",
              "    x.observe(notebookContainer, {childList: true});\n",
              "}}\n",
              "\n",
              "// Listen for the clearing of the current output cell\n",
              "var outputEl = gd.closest('.output');\n",
              "if (outputEl) {{\n",
              "    x.observe(outputEl, {childList: true});\n",
              "}}\n",
              "\n",
              "                        })                };                });            </script>        </div>"
            ]
          },
          "metadata": {},
          "output_type": "display_data"
        }
      ],
      "source": [
        "plot_network(lanes, auto_open_map=False, title='Solution Map', open_map_in_cell=open_map_in_cell)"
      ]
    },
    {
      "cell_type": "code",
      "execution_count": null,
      "id": "d17e998d",
      "metadata": {
        "id": "d17e998d"
      },
      "outputs": [],
      "source": [
        ""
      ]
    }
  ],
  "metadata": {
    "kernelspec": {
      "display_name": "Python 3 (ipykernel)",
      "language": "python",
      "name": "python3"
    },
    "language_info": {
      "codemirror_mode": {
        "name": "ipython",
        "version": 3
      },
      "file_extension": ".py",
      "mimetype": "text/x-python",
      "name": "python",
      "nbconvert_exporter": "python",
      "pygments_lexer": "ipython3",
      "version": "3.9.7"
    },
    "varInspector": {
      "cols": {
        "lenName": 16,
        "lenType": 16,
        "lenVar": 40
      },
      "kernels_config": {
        "python": {
          "delete_cmd_postfix": "",
          "delete_cmd_prefix": "del ",
          "library": "var_list.py",
          "varRefreshCmd": "print(var_dic_list())"
        },
        "r": {
          "delete_cmd_postfix": ") ",
          "delete_cmd_prefix": "rm(",
          "library": "var_list.r",
          "varRefreshCmd": "cat(var_dic_list()) "
        }
      },
      "types_to_exclude": [
        "module",
        "function",
        "builtin_function_or_method",
        "instance",
        "_Feature"
      ],
      "window_display": false
    },
    "colab": {
      "name": "network_optimization.ipynb",
      "provenance": [],
      "include_colab_link": true
    }
  },
  "nbformat": 4,
  "nbformat_minor": 5
}